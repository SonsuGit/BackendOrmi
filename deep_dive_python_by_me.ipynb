{
  "nbformat": 4,
  "nbformat_minor": 0,
  "metadata": {
    "colab": {
      "provenance": [],
      "collapsed_sections": [
        "x__-0LQ_uq4L",
        "qkYzsmBLx6XL"
      ],
      "include_colab_link": true
    },
    "kernelspec": {
      "name": "python3",
      "display_name": "Python 3"
    },
    "language_info": {
      "name": "python"
    }
  },
  "cells": [
    {
      "cell_type": "markdown",
      "metadata": {
        "id": "view-in-github",
        "colab_type": "text"
      },
      "source": [
        "<a href=\"https://colab.research.google.com/github/SonsuGit/BackendOrmi/blob/main/deep_dive_python_by_me.ipynb\" target=\"_parent\"><img src=\"https://colab.research.google.com/assets/colab-badge.svg\" alt=\"Open In Colab\"/></a>"
      ]
    },
    {
      "cell_type": "markdown",
      "source": [
        "# colab 사용법 written by sonsugit"
      ],
      "metadata": {
        "id": "x__-0LQ_uq4L"
      }
    },
    {
      "cell_type": "markdown",
      "source": [
        "* MAC을 사용하는 경우 Ctrl 대신 Command입니다. Alt 대신 Option입니다.\n",
        "1. **실행 단축키**\n",
        "    1. (필수) `Ctrl(Command)` + `Enter` : 해당 셀 실행\n",
        "    2. `Shift` + `Enter` : 해당 셀 실행 + 커서를 다음 셀로 이동\n",
        "    3. (필수) `Alt(Option)` + `Enter` : 해당 셀 실행 + 코드 불록 하단 추가\n",
        "2. **셀 삽입/삭제 관련 단축키**\n",
        "    1. `Ctrl(Command)` + M A : 코드 셀 위에 삽입\n",
        "    2. `Ctrl(Command)` + M B : 코드 셀 아래 삽입\n",
        "    3. `Ctrl(Command)` + M D : 셀 지우기\n",
        "    4. `Ctrl(Command)` + M Y : 코드 셀로 변경\n",
        "    5. `Ctrl(Command)` + M M : 마크다운 셀로 변경\n",
        "    6. `Ctrl(Command)` + M Z : 실행 취소\n",
        "3. 수정 관련된 단축키\n",
        "    1. `Ctrl(Command)` + `Alt(Option)` + 화살표위아래 : 동시 수정\n",
        "    2. (자주) `Ctrl(Command)` + D : 같은 단어 찾아 동시 수정\n",
        "    3. `Ctrl(Command)` + `Shift` + L : 동일 단어를 전체로 찾아 동시 수정\n",
        "    4. `Alt(Option)` + `Shift` + 화살표위아래 : 해당내용을 위나 아래 복사해서 붙여넣기\n",
        "    5. `Alt(Option)` + 화살표위아래 : 해당 내용을 위나 아래로 보내기\n",
        "    6. (자주) `Ctrl(Command)` + `Alt(Option)` + 화살표위아래 : 위아래 동시 수정\n",
        "    7. (자주) Home, End : 문장의 양 끝\n",
        "    8. (필수) `Ctrl` + `/` : 주석\n",
        "    9. (필수) `Shift` + `Del` : 한 줄 지우기\n",
        "    10. (필수) `Tab`, `Ctrl` + `]` : 들여쓰기\n",
        "    11. (필수) `Shift` + `Tab`, `Ctrl` + `[` : 내어쓰기\n",
        "4. 단축키 보기 및 설정\n",
        "    1. `Ctrl(Command)` + M H : 단축키 모음"
      ],
      "metadata": {
        "id": "FTQTXMTtveWG"
      }
    },
    {
      "cell_type": "markdown",
      "source": [
        "# 마크다운"
      ],
      "metadata": {
        "id": "qkYzsmBLx6XL"
      }
    },
    {
      "cell_type": "markdown",
      "source": [
        "* 필수 마크다운\n",
        "\n",
        "    ```\n",
        "    # hello\n",
        "    ## hello\n",
        "    ### hello\n",
        "\n",
        "    1. hello\n",
        "    2. hello\n",
        "    3. hello\n",
        "\n",
        "    * hello\n",
        "    * hello\n",
        "    * hello\n",
        "    ```\n",
        "\n",
        "* 선택 마크다운(필수가 아니니 부담가지지 마세요.)\n",
        "\n",
        "    ```\n",
        "    # h1\n",
        "    ## h2\n",
        "    ### h3\n",
        "    #### h4\n",
        "    ##### h5\n",
        "    ###### h6\n",
        "\n",
        "    ---\n",
        "\n",
        "    1. hello\n",
        "    2. hello\n",
        "    3. hello\n",
        "\n",
        "    * hello\n",
        "    * hello\n",
        "    * hello\n",
        "\n",
        "    - hello\n",
        "    - hello\n",
        "    - hello\n",
        "\n",
        "    __굵게__\n",
        "    **굵게**\n",
        "    _기울여 쓰기_\n",
        "    *기울여 쓰기*\n",
        "    ~취소선~\n",
        "    ~~취소선~~\n",
        "\n",
        "    > 인용문 작성하기\n",
        "    `인라인 코드는 이렇게 작성해요.`\n",
        "\n",
        "    [인라인 링크](https://velog.io/)\n",
        "\n",
        "    ![이미지 설명](이미지 링크)\n",
        "    \n",
        "    * table은 직접 만들지 마시고 https://www.tablesgenerator.com/markdown_tables 와 같은 서비스를 이용하세요.\n",
        "    \n",
        "    | 1 | 2     | 3 | 4 | 5     |\n",
        "    |---|-------|---|---|-------|\n",
        "    | 1 | hello | 3 | 4 | world |\n",
        "\n",
        "    * [ ] hello\n",
        "    * [X] hello\n",
        "    ```\n"
      ],
      "metadata": {
        "id": "CJgTFSb0yDS0"
      }
    },
    {
      "cell_type": "markdown",
      "source": [
        "# Python"
      ],
      "metadata": {
        "id": "tzaJO6Oh4BA1"
      }
    },
    {
      "cell_type": "code",
      "source": [
        "#행 단위 주석입니다.\n",
        "\n",
        "\"\"\"\n",
        "큰 따옴표로 세번 묶거나\n",
        "작은따옴표로 세번 묶으면\n",
        "열단위 주석이 됩니다.\n",
        "\"\"\"\n",
        "\n",
        "'''\n",
        "큰 따옴표로 세번 묶거나\n",
        "작은따옴표로 세번 묶으면\n",
        "열단위 주석이 됩니다.\n",
        "'''"
      ],
      "metadata": {
        "id": "EiWJQm-Xx0WC",
        "colab": {
          "base_uri": "https://localhost:8080/",
          "height": 36
        },
        "outputId": "f57d6eee-dcf7-4ed5-cc16-2ae9bf9307fa"
      },
      "execution_count": null,
      "outputs": [
        {
          "output_type": "execute_result",
          "data": {
            "text/plain": [
              "'\\n큰 따옴표로 세번 묶거나\\n작은따옴표로 세번 묶으면\\n열단위 주석이 됩니다.\\n'"
            ],
            "application/vnd.google.colaboratory.intrinsic+json": {
              "type": "string"
            }
          },
          "metadata": {},
          "execution_count": 1
        }
      ]
    },
    {
      "cell_type": "code",
      "source": [
        "# 아래와 같이 열단위 주석으로 text를 넣을 수도 있습니다.\n",
        "data = '''\n",
        "큰 따옴표로 세번 묶거나\n",
        "작은따옴표로 세번 묶으면\n",
        "열단위 주석이 됩니다.\n",
        "'''\n",
        "\n",
        "data"
      ],
      "metadata": {
        "id": "O5CvQs-w5oT2",
        "colab": {
          "base_uri": "https://localhost:8080/",
          "height": 36
        },
        "outputId": "41f30127-e955-4f86-b38c-89aad4ee99c6"
      },
      "execution_count": null,
      "outputs": [
        {
          "output_type": "execute_result",
          "data": {
            "text/plain": [
              "'\\n큰 따옴표로 세번 묶거나\\n작은따옴표로 세번 묶으면\\n열단위 주석이 됩니다.\\n'"
            ],
            "application/vnd.google.colaboratory.intrinsic+json": {
              "type": "string"
            }
          },
          "metadata": {},
          "execution_count": 2
        }
      ]
    },
    {
      "cell_type": "markdown",
      "source": [
        "* Code convention python\n",
        "* https://google.github.io/styleguide/\n",
        "* https://google.github.io/styleguide/pyguide.html"
      ],
      "metadata": {
        "id": "cdB7jRxV47IK"
      }
    },
    {
      "cell_type": "code",
      "source": [
        "def connect_to_next_port(self, minimum: int) -> int:\n",
        "    \"\"\"Connects to the next available port.\n",
        "\n",
        "    Args:\n",
        "      minimum: A port value greater or equal to 1024.\n",
        "\n",
        "    Returns:\n",
        "      The new minimum port.\n",
        "\n",
        "    Raises:\n",
        "      ConnectionError: If no available port is found.\n",
        "    \"\"\"\n",
        "    if minimum < 1024:\n",
        "        # Note that this raising of ValueError is not mentioned in the doc\n",
        "        # string's \"Raises:\" section because it is not appropriate to\n",
        "        # guarantee this specific behavioral reaction to API misuse.\n",
        "        raise ValueError(f'Min. port must be at least 1024, not {minimum}.')\n",
        "    port = self._find_next_open_port(minimum)\n",
        "    if port is None:\n",
        "        raise ConnectionError(\n",
        "            f'Could not connect to service on port {minimum} or higher.')\n",
        "    assert port >= minimum, (\n",
        "        f'Unexpected port {port} when minimum was {minimum}.')\n",
        "    return port"
      ],
      "metadata": {
        "id": "6Sw9kDCJ5tWh"
      },
      "execution_count": null,
      "outputs": []
    },
    {
      "cell_type": "code",
      "source": [
        "connect_to_next_port"
      ],
      "metadata": {
        "id": "gDGpIxHE55hG",
        "colab": {
          "base_uri": "https://localhost:8080/"
        },
        "outputId": "4d5696e1-7c3c-40d6-da61-6b4cb891b545"
      },
      "execution_count": null,
      "outputs": [
        {
          "output_type": "execute_result",
          "data": {
            "text/plain": [
              "<function __main__.connect_to_next_port(self, minimum: int) -> int>"
            ]
          },
          "metadata": {},
          "execution_count": 4
        }
      ]
    },
    {
      "cell_type": "code",
      "source": [
        "# 띄어쓰기 4칸 (tab(스페이스 4칸과 다릅니다!), 6칸, 7칸 다 작동합니다.)"
      ],
      "metadata": {
        "id": "y6wQmaW46WJp"
      },
      "execution_count": null,
      "outputs": []
    },
    {
      "cell_type": "code",
      "source": [
        "# 아래와 같이 탭과 띄어쓰기 4번을 혼용하시면 error가 납니다.\n",
        "for i in range(10):\n",
        "    print(i)\n",
        "\tprint('큰 따옴표로 세번 묶거나')"
      ],
      "metadata": {
        "id": "ejRqHMOO7G37",
        "colab": {
          "base_uri": "https://localhost:8080/",
          "height": 134
        },
        "outputId": "4d59ff68-6215-49f8-996e-8aeb8dac222d"
      },
      "execution_count": null,
      "outputs": [
        {
          "output_type": "error",
          "ename": "TabError",
          "evalue": "ignored",
          "traceback": [
            "\u001b[0;36m  File \u001b[0;32m\"<ipython-input-6-9d288dc93381>\"\u001b[0;36m, line \u001b[0;32m4\u001b[0m\n\u001b[0;31m    print('큰 따옴표로 세번 묶거나')\u001b[0m\n\u001b[0m    ^\u001b[0m\n\u001b[0;31mTabError\u001b[0m\u001b[0;31m:\u001b[0m inconsistent use of tabs and spaces in indentation\n"
          ]
        }
      ]
    },
    {
      "cell_type": "code",
      "source": [
        "a = 10     #int, 정수형\n",
        "b = 10.1   #float, 실수\n",
        "c = -1\n",
        "d = True   #bool, 논리형(부울형, 참거짓형)\n",
        "e = 'good'\n",
        "f = '10'   #str, 문자열\n",
        "g = 'kim'\n",
        "h = 'honggildong'\n",
        "i = 'example'\n",
        "j = 10 + 2j #complex, 복소수\n",
        "k = 0b110   #int, 2진법 \n",
        "l = 0o56    #int, 8진법\n",
        "m = 0xAC    #int, 16진법\n",
        "\n",
        "##########\n",
        "def hello(x):\n",
        "    return x**2\n",
        "\n",
        "class A: # 자동차 공장\n",
        "    pass\n",
        "\n",
        "n = hello # function\n",
        "o = print # bulit-in function (https://docs.python.org/3/library/functions.html)\n",
        "p = lambda x:x**2 # function\n",
        "q = int # type\n",
        "r = A # class\n",
        "s = A() # instance # 자동차\n",
        "##########\n",
        "\n",
        "print(f'type(10) : {type(a)}')\n",
        "print(f'type(10.1) : {type(b)}')\n",
        "print(f'type(-1) : {type(c)}')\n",
        "print(f'type(True) : {type(d)}')\n",
        "print(f'type(\\'good\\') : {type(e)}')\n",
        "print(f'type(\\'good\\'.upper) : {type(e.upper)}')\n",
        "print(f'\\'10\\' + \\'10\\' : {f + f}')\n",
        "print(f'\\'10\\' * 3 : {f * 3}')\n",
        "print(f'\\'hong\\' + \\'gildong\\' : {g + h}')\n",
        "print(f'type(\\'gildong\\') : {type(h)}')\n",
        "print(f'type(\\'gildong100!!\\') : {type(i)}')\n",
        "print(f'type(10 + 2j) : {type(j)}')\n",
        "print(f'type(0b110) : {type(k)}')\n",
        "print(k)\n",
        "print(f'type(0o56) : {type(i)}')\n",
        "print(i)\n",
        "print(f'type(0xAC) : {type(m)}')\n",
        "print(m)\n",
        "print(f'type(def func():...생략...) : {type(n)}')\n",
        "print(f'type(print) : {type(o)}')\n",
        "print(f'type(lambda x:x**2) : {type(p)}')\n",
        "print(f'type(int) : {type(int)}')"
      ],
      "metadata": {
        "id": "bmrKWvcv7uSH",
        "colab": {
          "base_uri": "https://localhost:8080/"
        },
        "outputId": "b5a64817-0858-4a15-9e68-60d39eae041c"
      },
      "execution_count": null,
      "outputs": [
        {
          "output_type": "stream",
          "name": "stdout",
          "text": [
            "type(10) : <class 'int'>\n",
            "type(10.1) : <class 'float'>\n",
            "type(-1) : <class 'int'>\n",
            "type(True) : <class 'bool'>\n",
            "type('good') : <class 'str'>\n",
            "type('good'.upper) : <class 'builtin_function_or_method'>\n",
            "'10' + '10' : 1010\n",
            "'10' * 3 : 101010\n",
            "'hong' + 'gildong' : kimhonggildong\n",
            "type('gildong') : <class 'str'>\n",
            "type('gildong100!!') : <class 'str'>\n",
            "type(10 + 2j) : <class 'complex'>\n",
            "type(0b110) : <class 'int'>\n",
            "6\n",
            "type(0o56) : <class 'str'>\n",
            "example\n",
            "type(0xAC) : <class 'int'>\n",
            "172\n",
            "type(def func():...생략...) : <class 'function'>\n",
            "type(print) : <class 'builtin_function_or_method'>\n",
            "type(lambda x:x**2) : <class 'function'>\n",
            "type(int) : <class 'type'>\n"
          ]
        }
      ]
    },
    {
      "cell_type": "code",
      "source": [
        "# 이스케이프 문자\n",
        "# https://ko.wikipedia.org/wiki/%EC%9D%B4%EC%8A%A4%EC%BC%80%EC%9D%B4%ED%94%84_%EB%AC%B8%EC%9E%90\n",
        "print('hello \\n world')\n",
        "print('hello \\t world')\n",
        "print('hello \\' world')\n",
        "print('hello \\\" world')\n",
        "print('hello \\\\ world')"
      ],
      "metadata": {
        "id": "8OqkyWik-Nwb",
        "colab": {
          "base_uri": "https://localhost:8080/"
        },
        "outputId": "5993df54-b314-4dd6-9489-deeec6775e4d"
      },
      "execution_count": null,
      "outputs": [
        {
          "output_type": "stream",
          "name": "stdout",
          "text": [
            "hello \n",
            " world\n",
            "hello \t world\n",
            "hello ' world\n",
            "hello \" world\n",
            "hello \\ world\n"
          ]
        }
      ]
    },
    {
      "cell_type": "code",
      "source": [
        "# type -> string\n",
        "\n",
        "hello = 10\n",
        "\n",
        "print(r'hello \\n world') # str -> raw (Django 2.x까지 URL parsing을 이렇게 사용하고 있어요)\n",
        "print(f'hello \\n world {hello}') # 앞으로 f-string 기법\n",
        "print('hello world {}'.format(hello))"
      ],
      "metadata": {
        "id": "FSpV2jdX_th6"
      },
      "execution_count": null,
      "outputs": []
    },
    {
      "cell_type": "code",
      "source": [
        "# 오일러의 수를 모른다 해서, 수학 연산이 약하다 해서 우리 수업에 문제가 되지 않습니다.\n",
        "print(2.3e3) # 무리수, 오일러 수(2.718에 수렴, 파이가 3.14인 것처럼)\n",
        "print(2.3E3)\n",
        "\n",
        "2.3 * (10 ** 3)"
      ],
      "metadata": {
        "id": "tXDO5YpeEdvO"
      },
      "execution_count": null,
      "outputs": []
    },
    {
      "cell_type": "code",
      "source": [
        "print(2.3e-3) # 무리수, 오일러 수(2.718에 수렴, 파이가 3.14인 것처럼)\n",
        "print(2.3E-3)\n",
        "\n",
        "2.3 * (10 ** -3)"
      ],
      "metadata": {
        "id": "MQisOQr0FJmr"
      },
      "execution_count": null,
      "outputs": []
    },
    {
      "cell_type": "code",
      "source": [
        "type(2.3E-3)"
      ],
      "metadata": {
        "id": "FRVhSr1YFNBg"
      },
      "execution_count": null,
      "outputs": []
    },
    {
      "cell_type": "code",
      "source": [
        "class A: # 자동차 공장\n",
        "    pass\n",
        "\n",
        "a = A # class\n",
        "b = A() # instance # 자동차\n",
        "\n",
        "print(type(a))\n",
        "print(type(b))"
      ],
      "metadata": {
        "id": "bA78yQ61-y9g"
      },
      "execution_count": null,
      "outputs": []
    },
    {
      "cell_type": "code",
      "source": [
        "# 변수를 처음 만나시면 type, dir을 해봅니다.\n",
        "# type을 찍으면 검색 키워드를 알 수 있습니다.\n",
        "# dir을 찍으면 속성을 알 수 있습니다.\n",
        "type(a)"
      ],
      "metadata": {
        "id": "QogcxZW88l2U"
      },
      "execution_count": null,
      "outputs": []
    },
    {
      "cell_type": "code",
      "source": [
        "print(type(a))"
      ],
      "metadata": {
        "id": "TPuT1-C68o0H"
      },
      "execution_count": null,
      "outputs": []
    },
    {
      "cell_type": "code",
      "source": [
        "dir(a)"
      ],
      "metadata": {
        "id": "auPIyvXH8zUJ",
        "colab": {
          "base_uri": "https://localhost:8080/",
          "height": 170
        },
        "outputId": "915c176f-da00-448c-ed16-c6431c16931b"
      },
      "execution_count": null,
      "outputs": [
        {
          "output_type": "error",
          "ename": "NameError",
          "evalue": "ignored",
          "traceback": [
            "\u001b[0;31m---------------------------------------------------------------------------\u001b[0m",
            "\u001b[0;31mNameError\u001b[0m                                 Traceback (most recent call last)",
            "\u001b[0;32m<ipython-input-7-3af1c875b71a>\u001b[0m in \u001b[0;36m<cell line: 1>\u001b[0;34m()\u001b[0m\n\u001b[0;32m----> 1\u001b[0;31m \u001b[0mdir\u001b[0m\u001b[0;34m(\u001b[0m\u001b[0ma\u001b[0m\u001b[0;34m)\u001b[0m\u001b[0;34m\u001b[0m\u001b[0;34m\u001b[0m\u001b[0m\n\u001b[0m",
            "\u001b[0;31mNameError\u001b[0m: name 'a' is not defined"
          ]
        }
      ]
    },
    {
      "cell_type": "code",
      "source": [
        "# 실무에서 자주 사용하는 구문\n",
        "type(10)\n",
        "type(10) == int\n",
        "type(10.1) == float"
      ],
      "metadata": {
        "id": "HA4g-jf4FVma"
      },
      "execution_count": null,
      "outputs": []
    },
    {
      "cell_type": "code",
      "source": [
        "# 위만큼 자주사용하진 않지만 타입 확인 코드\n",
        "a = 10\n",
        "isinstance(a, int)\n",
        "isinstance(a, float)"
      ],
      "metadata": {
        "id": "w9o1i9puFk_c"
      },
      "execution_count": null,
      "outputs": []
    },
    {
      "cell_type": "markdown",
      "source": [
        "## 변수"
      ],
      "metadata": {
        "id": "5d4elIFLF4NV"
      }
    },
    {
      "cell_type": "code",
      "source": [
        "# CS 변수는 포스트잇\n",
        "# 변수는 메모리 공간을 가리킵니다.\n",
        "\n",
        "# x라는 포스트잇도 붙였지만\n",
        "# y라는 포스트잇도 붙여져 있는 것입니다.\n",
        "x = 10\n",
        "y = 10\n",
        "\n",
        "id(x), id(y) # id는 누굴 가리키고 있는지 그 주소값을 반환합니다."
      ],
      "metadata": {
        "id": "EmxHZtmWF_WS"
      },
      "execution_count": null,
      "outputs": []
    },
    {
      "cell_type": "code",
      "source": [
        "x is y"
      ],
      "metadata": {
        "id": "Te0W_X_THD59"
      },
      "execution_count": null,
      "outputs": []
    },
    {
      "cell_type": "code",
      "source": [
        "x = 257\n",
        "y = 257\n",
        "\n",
        "id(x), id(y)"
      ],
      "metadata": {
        "id": "g1P2POrUHoyC"
      },
      "execution_count": null,
      "outputs": []
    },
    {
      "cell_type": "code",
      "source": [
        "x is y"
      ],
      "metadata": {
        "id": "IAo6hAm0HtcG"
      },
      "execution_count": null,
      "outputs": []
    },
    {
      "cell_type": "code",
      "source": [
        "# Python은 자체적으로 속도를 높이기 위한 \n",
        "# 여러가지 노력들을 해왔습니다.\n",
        "# (아래 언급한 것 말고도 각각의 자료형에서 메모리를 효율적으로 관리하기 위한 노력들을 말씀드리겠습니다.)\n",
        "# 구버전도 말씀을 드릴 것인데 이유는 여러분이 실무에가서 접할 환경이 최신 버전이 아니기 때문입니다.\n",
        "# 야xx의 경우에는 Django 1.x, python 2.x를 사용하고 있어요. \n",
        "# 대부분의 기업들이 한 번 구축해놓은 시스템은 바꾸기가 쉽지 않습니다.\n",
        "# 그래서 -5 ~ 256은 먼저 메모리에 적재를 합니다."
      ],
      "metadata": {
        "id": "61mDIYv8IATj"
      },
      "execution_count": null,
      "outputs": []
    },
    {
      "cell_type": "code",
      "source": [
        "x = -5\n",
        "y = -5\n",
        "\n",
        "id(x), id(y)"
      ],
      "metadata": {
        "id": "2p4DFNuaIu0n"
      },
      "execution_count": null,
      "outputs": []
    },
    {
      "cell_type": "markdown",
      "source": [
        "* 변수의 타입이란 무엇인가?\n",
        "* 변수의 타입은 왜 있는 것일까?\n",
        "* 어떤 고민을 통해 변수의 속성을 정했을까?"
      ],
      "metadata": {
        "id": "bBbrX-gyIy0M"
      }
    },
    {
      "cell_type": "code",
      "source": [
        "'a' + 'a'"
      ],
      "metadata": {
        "id": "rPO7CxPEI_Rm"
      },
      "execution_count": null,
      "outputs": []
    },
    {
      "cell_type": "code",
      "source": [
        "# 왜 이어 붙였지>\n",
        "# 컴퓨터 입장에서 a는 97(인간이 보는 숫자) -> 0x61! 결국 숫자!"
      ],
      "metadata": {
        "id": "tquNn02hJNyH"
      },
      "execution_count": null,
      "outputs": []
    },
    {
      "cell_type": "code",
      "source": [
        "# cpython -> 이어 붙이라고 정의가 되어 있어서\n",
        "# 사회 통념적인 약속 -> 코드로 구현\n",
        "# type, dir\n",
        "# 이러한 약속들은 매직메소드(__init__...)를 통해 구현하게 됩니다."
      ],
      "metadata": {
        "id": "h-GJUE7OJe6G"
      },
      "execution_count": null,
      "outputs": []
    },
    {
      "cell_type": "markdown",
      "source": [
        "## 변수의 속성 변경"
      ],
      "metadata": {
        "id": "r_7u2cYoKDOC"
      }
    },
    {
      "cell_type": "code",
      "source": [
        "'10' + '10'"
      ],
      "metadata": {
        "id": "QF29OghsKI38"
      },
      "execution_count": null,
      "outputs": []
    },
    {
      "cell_type": "code",
      "source": [
        "int('10') + int('10')"
      ],
      "metadata": {
        "id": "y0CER0BGKKvT"
      },
      "execution_count": null,
      "outputs": []
    },
    {
      "cell_type": "code",
      "source": [
        "# 지금 배우는 포인트는 class가 중요한 문법이 아니라\n",
        "# 이러한 \"약속\"을 우리가 변경할 수 있다가 중요한 포인트입니다.\n",
        "class int(int):\n",
        "    def __add__(self, a):\n",
        "        return 'leehojun'\n",
        "\n",
        "int('10') + int('10')"
      ],
      "metadata": {
        "id": "NRWwGUxIKOcU"
      },
      "execution_count": null,
      "outputs": []
    },
    {
      "cell_type": "code",
      "source": [
        "class int(int):\n",
        "    def __add__(self, a):\n",
        "        return self*a\n",
        "\n",
        "int('10') + int('10')"
      ],
      "metadata": {
        "id": "3udLGYuaKsbO"
      },
      "execution_count": null,
      "outputs": []
    },
    {
      "cell_type": "code",
      "source": [
        "dir(10)"
      ],
      "metadata": {
        "id": "DUDX1H_lK5Ak"
      },
      "execution_count": null,
      "outputs": []
    },
    {
      "cell_type": "code",
      "source": [
        "class int(int):\n",
        "    def 제곱(self, 승수):\n",
        "        return self ** 승수\n",
        "\n",
        "value = int('10')\n",
        "print(dir(value))"
      ],
      "metadata": {
        "id": "rqjzmTeRLc9M"
      },
      "execution_count": null,
      "outputs": []
    },
    {
      "cell_type": "code",
      "source": [
        "value.제곱(3)"
      ],
      "metadata": {
        "id": "niw5TXI3Lx28"
      },
      "execution_count": null,
      "outputs": []
    },
    {
      "cell_type": "code",
      "source": [
        "# 각각 메모리 주소를 같은 곳일 찍는것\n",
        "x = 10\n",
        "y = x\n",
        "z = y\n",
        "x = 100\n",
        "\n",
        "print(id(x), id(y), id(z))"
      ],
      "metadata": {
        "id": "-b6P5zzRMHv9"
      },
      "execution_count": null,
      "outputs": []
    },
    {
      "cell_type": "markdown",
      "source": [
        "## 변수의 속성"
      ],
      "metadata": {
        "id": "oVD3C6PvNZx6"
      }
    },
    {
      "cell_type": "markdown",
      "source": [
        "* 변수는 주로 스네이크 표기법을 많이 사용합니다. 물론 회사 컨벤션에 따르셔야 합니다.\n",
        "* 영문과 숫자를 사용할 수 있지만, 숫자로  시작하지는 못합니다.\n",
        "* 특수문자는 사용하지 않아요.(언더바(_)는  사용합니다. 스네이크 표기법, 특수문자나  이미중 사용 가능한 것들이 있기는 합니다.  권하지 않습니다.)\n",
        "* 예약어는 사용하지 않습니다.(if, elif, while, * for, etc)\n",
        "* 대소문자는 구분합니다.\n",
        "* 언더바로만 사용하거나 언더바로 시작할 수 있습니다.\n",
        "* 대문자로 시작하는 변수를 사용할 수 있지만, 관습적으로 대문자로 시작하는 변수는 Class로 만들기 때문에 소문자로 시작하는 변수를 만들기를 권합니다. Class는 보통 파스칼 표기법을 따릅니다. 다만 회사 컨벤션마다 다릅니다."
      ],
      "metadata": {
        "id": "XjVrhyhNNbQA"
      }
    },
    {
      "cell_type": "code",
      "source": [
        "# 스네이크 표기법(Python에서 주로)\n",
        "hello_world = 10\n",
        "# 카멜 표기법(JavaScript에서 주로)\n",
        "helloWorldHello = 10\n",
        "# 파스칼 표기법(Class 같은 곳에서 많이 사용)\n",
        "Hello = 10"
      ],
      "metadata": {
        "id": "9VPRrQQ1gnhY"
      },
      "execution_count": null,
      "outputs": []
    },
    {
      "cell_type": "code",
      "source": [
        "# 10hello = 100\n",
        "hello10 = 100\n",
        "\n",
        "#파이 뭐시기\n",
        "\n",
        "_ = 100 # 언더바는 자주 사용되는데 이렇게 사용되진 않습니다.\n",
        "print(_)"
      ],
      "metadata": {
        "id": "TPIJOpP_ha2y"
      },
      "execution_count": null,
      "outputs": []
    },
    {
      "cell_type": "code",
      "source": [
        "for _ in range(10):\n",
        "    print('hello')"
      ],
      "metadata": {
        "id": "l9CkIALEibzU"
      },
      "execution_count": null,
      "outputs": []
    },
    {
      "cell_type": "code",
      "source": [
        "# if = 100\n",
        "# print = 100"
      ],
      "metadata": {
        "id": "AoLNpekaip7l"
      },
      "execution_count": null,
      "outputs": []
    },
    {
      "cell_type": "markdown",
      "source": [
        "## 입력과 출력"
      ],
      "metadata": {
        "id": "1dSV4aEjjflc"
      }
    },
    {
      "cell_type": "code",
      "source": [
        "x = input()\n",
        "x"
      ],
      "metadata": {
        "id": "i4jJWqazjnHg"
      },
      "execution_count": null,
      "outputs": []
    },
    {
      "cell_type": "code",
      "source": [
        "x + x # 사용자에게 받은 입력은 str"
      ],
      "metadata": {
        "id": "GoDR4Bz-jreC"
      },
      "execution_count": null,
      "outputs": []
    },
    {
      "cell_type": "code",
      "source": [
        "print(x)"
      ],
      "metadata": {
        "id": "CqcWtbjQj9Ob"
      },
      "execution_count": null,
      "outputs": []
    },
    {
      "cell_type": "code",
      "source": [
        "print(10, 10, 10)"
      ],
      "metadata": {
        "id": "HRszGdIWj-2O"
      },
      "execution_count": null,
      "outputs": []
    },
    {
      "cell_type": "code",
      "source": [
        "print('hello', 'world', 'hello')"
      ],
      "metadata": {
        "id": "SkXtqjVZkM6k"
      },
      "execution_count": null,
      "outputs": []
    },
    {
      "cell_type": "code",
      "source": [
        "print(x, x)"
      ],
      "metadata": {
        "id": "vDZ-lODxkP4h"
      },
      "execution_count": null,
      "outputs": []
    },
    {
      "cell_type": "code",
      "source": [
        "print('hello world', end ='!')\n",
        "print('hello world', end ='!')\n",
        "print('hello world', end ='!')"
      ],
      "metadata": {
        "id": "HV9JxrcjkoMC"
      },
      "execution_count": null,
      "outputs": []
    },
    {
      "cell_type": "code",
      "source": [
        "print('hello','world', sep ='!')\n",
        "print('010','5044','2903', sep ='-')"
      ],
      "metadata": {
        "id": "DvQ1uoBTk90h"
      },
      "execution_count": null,
      "outputs": []
    },
    {
      "cell_type": "code",
      "source": [
        "이름='손수하'\n",
        "나이 = 10\n",
        "print('1. 제 이름은 손수하입니다. 제 나이는 10입니다.')\n",
        "print('2. 제 이름은 ', 이름, '입니다. 제 나이는 ',나이,'입니다.', sep='')\n",
        "print('3. 제 이름은 %s입니다. 제 나이는 %d입니다.'%(이름, 나이))\n",
        "print('4. 제 이름은 {}입니다. 제 나이는 {}입니다.'.format(이름, 나이))\n",
        "print(f'5. 제 이름은 {이름}입니다. 제 나이는 {나이}입니다.')"
      ],
      "metadata": {
        "id": "vEAHXlPXlGRv"
      },
      "execution_count": null,
      "outputs": []
    },
    {
      "cell_type": "markdown",
      "source": [
        "[포멧코드](https://www.notion.so/paullabworkspace/9fd33417740f4eba8715f5c4a1ed7c7b?v=e01ecdfe2f9448dcaad68b03a38057a5)"
      ],
      "metadata": {
        "id": "cOn-PsdEmaF-"
      }
    },
    {
      "cell_type": "markdown",
      "source": [
        "## formatting"
      ],
      "metadata": {
        "id": "FgQn-3Zpm5kQ"
      }
    },
    {
      "cell_type": "code",
      "source": [
        "print(f'{100*10}')"
      ],
      "metadata": {
        "id": "vX6wzOyZnEXJ"
      },
      "execution_count": null,
      "outputs": []
    },
    {
      "cell_type": "code",
      "source": [
        "# 중괄호 안에서 복잡한 연산을 하시는 것을 권하지 않습니다.\n",
        "result = 100*10\n",
        "print(f'{result}')"
      ],
      "metadata": {
        "id": "sgwoYqSenIOQ"
      },
      "execution_count": null,
      "outputs": []
    },
    {
      "cell_type": "code",
      "source": [
        "txt = 'hello'\n",
        "i = '10'\n",
        "print(f'{txt:>10}')\n",
        "print(f'{txt:>{i}}')"
      ],
      "metadata": {
        "id": "20bB-6ztoESD"
      },
      "execution_count": null,
      "outputs": []
    },
    {
      "cell_type": "code",
      "source": [
        "print(f'{\"hello\":!<10}')\n",
        "print(f'{\"hello\":!>10}')\n",
        "print(f'{\"hello\":!^10}')"
      ],
      "metadata": {
        "id": "VNzFUJT5oTNW"
      },
      "execution_count": null,
      "outputs": []
    },
    {
      "cell_type": "code",
      "source": [
        "# 이런 문법은 필요에 의해 검색해 보시다 보면 익숙해집니다.\n",
        "# :뒤에 <^> 이게 정렬 방식을 정함\n",
        "print(f'{\"hello\":=<10}')\n",
        "print(f'{\"hello\":=>10}')\n",
        "print(f'{\"hello\":=^10}')"
      ],
      "metadata": {
        "id": "o86HTrN-ncBF"
      },
      "execution_count": null,
      "outputs": []
    },
    {
      "cell_type": "code",
      "source": [
        "# 둘다 잊어도 괜찮\n",
        "# https://tech.kakao.com/2017/09/27/kakao-blind-recruitment-round-1/\n",
        "bin(9)\n",
        "print(f'{bin(9)[2:]:0>5}')"
      ],
      "metadata": {
        "id": "oR7_M4EPuZUc"
      },
      "execution_count": null,
      "outputs": []
    },
    {
      "cell_type": "code",
      "source": [
        "bin(9|30)[2:].replace('1','#').replace('0',' ')"
      ],
      "metadata": {
        "id": "oLju01czvCUP"
      },
      "execution_count": null,
      "outputs": []
    },
    {
      "cell_type": "code",
      "source": [
        "print(f'{\"start\":-^20}')"
      ],
      "metadata": {
        "id": "tSLDodm5vRN8"
      },
      "execution_count": null,
      "outputs": []
    },
    {
      "cell_type": "code",
      "source": [
        "print(f'{0.12345:0.2f}')"
      ],
      "metadata": {
        "id": "vWPscGGZvhc5"
      },
      "execution_count": null,
      "outputs": []
    },
    {
      "cell_type": "markdown",
      "source": [
        "* 이 아래 코드는 필수는 아닙니다.\n",
        "참고삼아서만 넣어드립니다."
      ],
      "metadata": {
        "id": "LNxMo2V6v2G0"
      }
    },
    {
      "cell_type": "code",
      "source": [
        "# 이전 방식\n",
        "print('나의 이름은 %s입니다'%('한사람'))\n",
        "print('나의 이름은 \"%s\"입니다. 나이는 %d세이고 성별은 %s입니다.'%('한사람',33,'남성'))\n",
        "print('나이는 %d세이고 성별은 %s입니다. 나의 이름은 %s입니다. '%(33,'남성','한사람'))\n",
        "print('나이는 %03d세이고 신장은 %6.2f입니다. 나의 이름은 %s입니다. '%(33,56.789,'한사람'))\n",
        "print('-' * 40)\n",
        "\n",
        "# 파이썬(Python) 3 포맷팅 방식\n",
        "print('나의 이름은 {}입니다'.format('한사람'))\n",
        "print('나의 이름은 {0}입니다. 나이는 {1}세이고 성별은 {2}입니다.'.format('한사람',33,'남성'))\n",
        "print('나이는 {1}세이고 성별은 {2}입니다. 나의 이름은 {0}입니다. '.format('한사람',33,'남성'))\n",
        "print('나이는 {age}세이고 성별은 {gender}입니다. 나의 이름은 {name}입니다. '\n",
        "         .format(name='한사람',age=33,gender='남성'))\n",
        "print('만세삼창 :  {0}!!! {0}!!! {0}!!! '.format('만세'))\n",
        "print('삼삼칠 박수 :  {0}!!! {0}!!! {1}!!! '.format('짝'*3,'짝'*7))\n",
        "print('-' * 40)\n",
        "\n",
        "# 파이썬(Python) 3.6 f-string 방식\n",
        "something = '볼펜'\n",
        "EA = 2\n",
        "one_length = 5.343\n",
        "scale = 'cm'\n",
        "\n",
        "print(f'{something} {EA}개의 길이는 {one_length*EA}{scale} 입니다.')\n",
        "print(f'{something} {EA}개의 길이는 {one_length*EA:.1f}{scale} 입니다.')\n",
        "\n",
        "print('Python is [{:15}]'.format('good'))\n",
        "print('Python is [{:<15}]'.format('good'))\n",
        "print('Python is [{:>15}]'.format('good'))\n",
        "print('Python is [{:^15}]'.format('good'))\n",
        "print('당신의 나이는 [{:15}]세'.format(22))\n",
        "print('당신의 나이는 [{:<15}]세'.format(22))\n",
        "print('당신의 나이는 [{:>15}]세'.format(22))\n",
        "print('당신의 나이는 [{:<15}]세'.format(22))\n",
        "print('-' * 40)"
      ],
      "metadata": {
        "id": "T-FO4iBOv65_"
      },
      "execution_count": null,
      "outputs": []
    },
    {
      "cell_type": "code",
      "source": [
        "char_a = '5'\n",
        "int_a = 5\n",
        "\n",
        "'''기본적으로 {} 포맷팅의 특성을 그대로 가짐'''\n",
        "print(1234567890)\n",
        "print(f'{char_a:>5}') # >는 오른쪽정렬\n",
        "print(f'{char_a:<5}') # <는 왼쪽정렬\n",
        "print(f'{char_a:^5}') # ^는 가운데정렬\n",
        "print(f'{int_a:0<5}')# <는 왼쪽정렬, 빈자리를 0으로 채울수도 있음\n",
        "print(f'{int_a:^10.2f}') # ^ 가운데 정렬하면서 float 타입지정"
      ],
      "metadata": {
        "id": "qZUE5OCpxOFg"
      },
      "execution_count": null,
      "outputs": []
    },
    {
      "cell_type": "markdown",
      "source": [
        "## int"
      ],
      "metadata": {
        "id": "Qkz3nuLgwpJZ"
      }
    },
    {
      "cell_type": "markdown",
      "source": [
        "* 파이썬에서는 숫자를 정수, 실수 복소수로 나눠 표현합니다.\n",
        "* 2진수, 8진수, 16진수는 정수로 표현됩니다."
      ],
      "metadata": {
        "id": "5piWX3YAwo0o"
      }
    },
    {
      "cell_type": "code",
      "source": [
        "10 #정수\n",
        "-10 #정수\n",
        "10.1 # 실수\n",
        "\n",
        "a = 10\n",
        "type(a)\n",
        "dir(a)"
      ],
      "metadata": {
        "id": "YcfGozvywz9k"
      },
      "execution_count": null,
      "outputs": []
    },
    {
      "cell_type": "code",
      "source": [
        "'bit_length'# bit로 바꾸었을 때 비트의 길이\n",
        "'to_bytes'# 컴퓨터에서 저장하는 바이트의 형태로 숫자를 표현"
      ],
      "metadata": {
        "id": "svnm5Y_Axmc7"
      },
      "execution_count": null,
      "outputs": []
    },
    {
      "cell_type": "code",
      "source": [
        "# 1Bit, 0 ~ 1 # bit - 1자리\n",
        "# 1Bytes = 8bit, 00000000 ~ 11111111 # 1byte - 8bit\n",
        "# 1KB (키로바이트) = 1024Bytes\n",
        "# 1MB (메가바이트) = 1024Kb \n",
        "# 1GB (기가바이트) = 1024MB\n",
        "# 1TB (테라바이트) = 1024GB\n",
        "# 1PB (페타바이트) = 1024TB"
      ],
      "metadata": {
        "id": "J92OVCWcx1Cd"
      },
      "execution_count": null,
      "outputs": []
    },
    {
      "cell_type": "code",
      "source": [
        "(9).bit_length() #1001"
      ],
      "metadata": {
        "id": "WIZRlKbhzeyr"
      },
      "execution_count": null,
      "outputs": []
    },
    {
      "cell_type": "code",
      "source": [
        "(2).to_bytes(1, byteorder='little', signed=True)\n",
        "(1).to_bytes(1, byteorder='little', signed=True)\n",
        "(0).to_bytes(1, byteorder='little', signed=True)\n",
        "(-1).to_bytes(1, byteorder='little', signed=True)"
      ],
      "metadata": {
        "id": "rppLbtEZzwKQ"
      },
      "execution_count": null,
      "outputs": []
    },
    {
      "cell_type": "code",
      "source": [
        "# 컴퓨터는 음수를 자체적으로 표현할 수 없기에 2의 보수를 사용합니다.\n",
        "# 1의 보수를 사용하게 되면 +0과 -0이 존재하게 됩으로 비트 하나를 낭비하게 됩니다.\n",
        "# 따라서 2의 보수를 사용합니다."
      ],
      "metadata": {
        "id": "PbKBUkE62qQl"
      },
      "execution_count": null,
      "outputs": []
    },
    {
      "cell_type": "code",
      "source": [
        "# 0000 0001 # 1\n",
        "# 1111 1110 # 1의 1의 보수\n",
        "# 1111 1111 # 1의 2의 보수 => ff"
      ],
      "metadata": {
        "id": "9IQdMZA82zqH"
      },
      "execution_count": null,
      "outputs": []
    },
    {
      "cell_type": "code",
      "source": [
        "# 10진법\n",
        "# 0 1 2 3 4 5 6 7 8 9 10\n",
        "# 1324 = 1*1000 + 3*100 + 2*10 + 4\n",
        "\n",
        "# 2진법\n",
        "# 0 10 -> 10\n",
        "\n",
        "# 8진법\n",
        "# 0 1 2 3 4 5 6 7 -> 10\n",
        "\n",
        "# 16진법\n",
        "# 0 1 2 3 4 5 6 7 8 9 a b c d e f ->10"
      ],
      "metadata": {
        "id": "MijIJVoK29Nj"
      },
      "execution_count": null,
      "outputs": []
    },
    {
      "cell_type": "code",
      "source": [
        "# 컬러의 표현\n",
        "# 2594be\n",
        "# 000000 ~ ffffff\n",
        "#  ff는 10진수로 무슨 수자를 의미?\n",
        "# 255"
      ],
      "metadata": {
        "id": "RzsLPrLT7s6o"
      },
      "execution_count": null,
      "outputs": []
    },
    {
      "cell_type": "code",
      "source": [
        "a = 10\n",
        "type(a)"
      ],
      "metadata": {
        "id": "WjWe53U38NlC"
      },
      "execution_count": null,
      "outputs": []
    },
    {
      "cell_type": "code",
      "source": [
        "int('10') + int('10')"
      ],
      "metadata": {
        "id": "sgG8xtMe8Qdg"
      },
      "execution_count": null,
      "outputs": []
    },
    {
      "cell_type": "code",
      "source": [
        "int('10', 16) #16진법으로 10은?"
      ],
      "metadata": {
        "id": "QGlbDmzh8Tnc"
      },
      "execution_count": null,
      "outputs": []
    },
    {
      "cell_type": "code",
      "source": [
        "print(0b110)\n",
        "print(0o110)\n",
        "print(0x110)"
      ],
      "metadata": {
        "id": "u5Zyq8kd8rmE"
      },
      "execution_count": null,
      "outputs": []
    },
    {
      "cell_type": "code",
      "source": [
        "a = 10\n",
        "b = 10.1\n",
        "\n",
        "a+b # 다른 일부 언어에서는 허용되지 않습니다."
      ],
      "metadata": {
        "id": "wcS--xCj8unU"
      },
      "execution_count": null,
      "outputs": []
    },
    {
      "cell_type": "code",
      "source": [
        "# 부동소수점 오차(2진법으로 변환했을 때 0.1이 무한대수가 발생합니다.)\n",
        "0.1+0.2"
      ],
      "metadata": {
        "id": "AqivgQzq9mPW"
      },
      "execution_count": null,
      "outputs": []
    },
    {
      "cell_type": "code",
      "source": [
        "a = 0.1"
      ],
      "metadata": {
        "id": "EwIUYKAu-Bdu"
      },
      "execution_count": null,
      "outputs": []
    },
    {
      "cell_type": "code",
      "source": [
        "a = a+ 0.1\n",
        "a"
      ],
      "metadata": {
        "id": "4yVRPDOL-eXK"
      },
      "execution_count": null,
      "outputs": []
    },
    {
      "cell_type": "markdown",
      "source": [
        "* https://docs.python.org/ko/3/tutorial/floatingpoint.html\n",
        "* https://0.30000000000000004.com/ 에서 언어별 해결책을 제시한다.\n",
        "* 컴퓨터에서 부동소수점 숫자는 2진 분수로 표현되기에 무한대수가 발생한다."
      ],
      "metadata": {
        "id": "0lVVCivq_blo"
      }
    },
    {
      "cell_type": "code",
      "source": [
        "'hello'.count('')"
      ],
      "metadata": {
        "id": "GY8iKL-LAYWH"
      },
      "execution_count": null,
      "outputs": []
    },
    {
      "cell_type": "markdown",
      "source": [
        "## !! 오늘 배운 것 정리\n",
        "1. 단축키\n",
        "    * (필수) Ctrl(Command) + Enter : 해당 셀 실행\n",
        "    * (필수) Alt(Option) + Enter : 해당 셀 실행 + 코드 불록 하단 추가\n",
        "    * (필수) Ctrl + / : 주석\n",
        "    * (필수) Shift + Del : 한 줄 지우기\n",
        "    * (필수) Tab, Ctrl + ] : 들여쓰기\n",
        "    * (필수) Shift + Tab, Ctrl + [ : 내어쓰기\n",
        "\n",
        "2. 마크다운\n",
        "    ```\n",
        "    # hello\n",
        "    ## hello\n",
        "    ### hello\n",
        "\n",
        "    1. hello\n",
        "    2. hello\n",
        "    3. hello\n",
        "\n",
        "    * hello\n",
        "    * hello\n",
        "    * hello\n",
        "    ```\n",
        "\n",
        "3. 주석\n",
        "\n",
        "    ```python\n",
        "    #행 단위 주석입니다.\n",
        "\n",
        "    \"\"\"\n",
        "    큰 따옴표로 세번 묶거나\n",
        "    작은따옴표로 세번 묶으면\n",
        "    열단위 주석이 됩니다.\n",
        "    \"\"\"\n",
        "\n",
        "    '''\n",
        "    큰 따옴표로 세번 묶거나\n",
        "    작은따옴표로 세번 묶으면\n",
        "    열단위 주석이 됩니다.\n",
        "    '''\n",
        "    ```\n",
        "\n",
        "4. PEP8 권고사항\n",
        "    * 띄어쓰기는 4칸\n",
        "    * 한 줄에 79자 이상을 사용하지 않는다.\n",
        "\n",
        "5. 형의 종류(type, dir)\n",
        "    * 컨벤션 자료형(list, tuple, dict, set)은 나중에 진행합니다.\n",
        "    * int\n",
        "    * float\n",
        "    * bool\n",
        "    * str\n",
        "    * function\n",
        "    * bulit-in function\n",
        "\n",
        "6. 이스케이프 문자\n",
        "    * https://ko.wikipedia.org/wiki/%EC%9D%B4%EC%8A%A4%EC%BC%80%EC%9D%B4%ED%94%84_%EB%AC%B8%EC%9E%90\n",
        "    ```python\n",
        "    print('hello \\n world')\n",
        "    print('hello \\t world')\n",
        "    print('hello \\' world')\n",
        "    print('hello \\\" world')\n",
        "    print('hello \\\\ world')\n",
        "    ```\n",
        "\n",
        "7. 실무에서 자주 사용하는 타입확인 구문\n",
        "    ```python\n",
        "    type(10)\n",
        "    type(10) == int\n",
        "    type(10.1) == float\n",
        "\n",
        "    a = 10\n",
        "    isinstance(a, int)\n",
        "    isinstance(a, float)\n",
        "    ```\n",
        "\n",
        "8. 변수의 인사이트\n",
        "    ```\n",
        "    dir을 입력했을 때\n",
        "    1. __hello__와 같은 형태의 메직 메서드는 속성을 표현한다\n",
        "    2.  언더바가 없는 메서드는 해당 자료형의 편의 기능을 제공한다\n",
        "    ```\n",
        "\n",
        "9. 입력과 출력\n",
        "    ```python\n",
        "    x = input() #입력, 숫자를 입력해도 str\n",
        "    print(x) #출력\n",
        "\n",
        "    이름 = '이호준'\n",
        "    나이 = 10\n",
        "    print(f'제 이름은 {이름}입니다. 제 나이는 {나이}입니다.')\n",
        "    print(f'{100 * 10}')\n",
        "    ```\n",
        "\n",
        "\n",
        "10. int 형\n",
        "    * 2진수, 8진수, 16진수는 정수\n",
        "\n",
        "\n",
        "11. float 형\n",
        "    * 부동소수점 오차(2진법으로 변환했을 때 0.1이 무한대수가 발생합니다.)\n",
        "    0.1 + 0.2 # 대부분의 언어 공통입니다.\n",
        "    * https://docs.python.org/ko/3/tutorial/floatingpoint.html\n",
        "    * https://0.30000000000000004.com/ 에서 언어별 해결책을 제시한다."
      ],
      "metadata": {
        "id": "9XP9EbQuEi-l"
      }
    },
    {
      "cell_type": "markdown",
      "source": [
        "## str (문자열)"
      ],
      "metadata": {
        "id": "Wa8TsflWyu74"
      }
    },
    {
      "cell_type": "markdown",
      "source": [
        "- 순서가 있는 **시퀀스 자료형**입니다.\n",
        "- 작은 따옴표(' ')나 큰 따옴표(\" \"), 삼중따옴표('''str''', \"\"\"str\"\"\")로 감싸는 것도 가능합니다. (삼중따옴표를 사용할 경우에는 줄단위의 문자열을 나타낼 수 있습니다.)\n",
        "- 작은 따옴표 안에 큰 따옴표, 큰 따옴표 안에 작은 따옴표 사용이 가능합니다.\n",
        "- 이스케이프 문자도 사용이 가능합니다.\n",
        "- 리스트, 튜플도 시퀀스 자료형입니다."
      ],
      "metadata": {
        "id": "tDJyopScyxt3"
      }
    },
    {
      "cell_type": "code",
      "source": [
        "s = 'paullab CEO leehojun'\n",
        "s[0] # 0은 index입니다. 이렇게 호출하는 것을 indexing이라고 합니다."
      ],
      "metadata": {
        "id": "IVSAvskCy0Tv"
      },
      "execution_count": null,
      "outputs": []
    },
    {
      "cell_type": "code",
      "source": [
        "type(s)"
      ],
      "metadata": {
        "id": "jhNYJG_qz4wJ"
      },
      "execution_count": null,
      "outputs": []
    },
    {
      "cell_type": "code",
      "source": [
        "dir(s)"
      ],
      "metadata": {
        "id": "3_t85sr_z8ql"
      },
      "execution_count": null,
      "outputs": []
    },
    {
      "cell_type": "code",
      "source": [
        "# 문자열의 메서드\n",
        "# 'capitalize','casefold','center','count','encode',\n",
        "# 'endswith','expandtabs','find','format','format_map',\n",
        "# 'index','isalnum','isalpha','isascii','isdecimal','isdigit',\n",
        "# 'isidentifier','islower','isnumeric','isprintable','isspace',\n",
        "# 'istitle','isupper','join','ljust','lower','lstrip',\n",
        "# 'maketrans','partition','removeprefix','removesuffix',\n",
        "# 'replace','rfind','rindex','rjust','rpartition','rsplit',\n",
        "# 'rstrip','split','splitlines','startswith','strip','swapcase',\n",
        "# 'title','translate','upper','zfill'"
      ],
      "metadata": {
        "id": "FBxGFP2b0MwZ"
      },
      "execution_count": null,
      "outputs": []
    },
    {
      "cell_type": "code",
      "source": [
        "s = 'paullab CEO leehojun'\n",
        "s.lower(), s.upper() \n",
        "# 특히 사용자에게 입력을 받는 경우 lower도 많이 사용합니다."
      ],
      "metadata": {
        "id": "95N6kAfz0jji"
      },
      "execution_count": null,
      "outputs": []
    },
    {
      "cell_type": "code",
      "source": [
        "s = 'paullab CEO leehojun'\n",
        "s.find('C'), s.index('C')"
      ],
      "metadata": {
        "id": "QwrEqmjt0nDt"
      },
      "execution_count": null,
      "outputs": []
    },
    {
      "cell_type": "code",
      "source": [
        "#  견고한 코드란?\n",
        "# 시간이 지나도 그대로 사용할 수 있고\n",
        "# error가 예측 가능하게 나는 코드\n",
        "# 네이버의 이미지 슬라이딩 코드\n",
        "# bool(s.find('Z')) => -1은 True이기 때문에 주의가 필요합니다.\n",
        "s.find('Z')\n"
      ],
      "metadata": {
        "id": "0Yk0yz4Y1Uvt"
      },
      "execution_count": null,
      "outputs": []
    },
    {
      "cell_type": "code",
      "source": [
        "# Error가 나면 Error를 주는 것이 좋을 수 있습니다.\n",
        "# Error를 안주는 언어로 JavaScript\n",
        "s.index('Z')"
      ],
      "metadata": {
        "id": "YLwEeCNc1tZ1"
      },
      "execution_count": null,
      "outputs": []
    },
    {
      "cell_type": "code",
      "source": [
        "s = 'paullab CEO leehojun'\n",
        "s.find('CEO')"
      ],
      "metadata": {
        "id": "jBIW7cof2gtL"
      },
      "execution_count": null,
      "outputs": []
    },
    {
      "cell_type": "code",
      "source": [
        "s = 'paullab CEO leehojun'\n",
        "s.count('l')"
      ],
      "metadata": {
        "id": "jBoQ2fCb2wtn"
      },
      "execution_count": null,
      "outputs": []
    },
    {
      "cell_type": "code",
      "source": [
        "str([1,2,3,4,5]).count(' ')"
      ],
      "metadata": {
        "id": "LU2HpxpW2-Gd"
      },
      "execution_count": null,
      "outputs": []
    },
    {
      "cell_type": "code",
      "source": [
        "str([1,2,3,4,5]).count(',')"
      ],
      "metadata": {
        "id": "G6XpIt9H3HoB"
      },
      "execution_count": null,
      "outputs": []
    },
    {
      "cell_type": "code",
      "source": [
        "str([1,2,11,4,111]).count('1')"
      ],
      "metadata": {
        "id": "1PJvTK2d3TUt"
      },
      "execution_count": null,
      "outputs": []
    },
    {
      "cell_type": "code",
      "source": [
        "str(list(range(0, 10001))).count('8')"
      ],
      "metadata": {
        "id": "MQcSQHqV5fKH"
      },
      "execution_count": null,
      "outputs": []
    },
    {
      "cell_type": "markdown",
      "source": [
        "* https://codingdojang.com/scode/393?answer_mode=hide"
      ],
      "metadata": {
        "id": "_PO2zRDT3m08"
      }
    },
    {
      "cell_type": "code",
      "source": [
        "str([1,2,3,4,5]).count(' ')\n",
        "# list는 콤마 다음에 공백이 없더라도 공백으로 인식해줍니다."
      ],
      "metadata": {
        "id": "hhpffOZR4DbM"
      },
      "execution_count": null,
      "outputs": []
    },
    {
      "cell_type": "code",
      "source": [
        "str([1,\n",
        "     2,\n",
        "     3,\n",
        "     4,\n",
        "     5]).count(' ')\n",
        "# list는 콤마 다음에 공백이 없더라도 공백으로 인식해줍니다."
      ],
      "metadata": {
        "id": "L-JlXUgH40n0"
      },
      "execution_count": null,
      "outputs": []
    },
    {
      "cell_type": "code",
      "source": [
        "'hello'.count('')"
      ],
      "metadata": {
        "id": "sFRfwvKy4JaC"
      },
      "execution_count": null,
      "outputs": []
    },
    {
      "cell_type": "code",
      "source": [
        "'a'.count('')"
      ],
      "metadata": {
        "id": "PGrc-O664Yxy"
      },
      "execution_count": null,
      "outputs": []
    },
    {
      "cell_type": "code",
      "source": [
        "''.count('')"
      ],
      "metadata": {
        "id": "E5usLHeQ4iVo"
      },
      "execution_count": null,
      "outputs": []
    },
    {
      "cell_type": "code",
      "source": [
        "''+''"
      ],
      "metadata": {
        "id": "glpcTiR76a4l"
      },
      "execution_count": null,
      "outputs": []
    },
    {
      "cell_type": "code",
      "source": [
        "# 별 5개\n",
        "'  hello   !  '.strip() # 공백제거 메소드"
      ],
      "metadata": {
        "id": "2a_K3dz96cE-"
      },
      "execution_count": null,
      "outputs": []
    },
    {
      "cell_type": "code",
      "source": [
        "# 별5개\n",
        "'hello world hi'.replace(' ', '!')\n",
        "'hello world hi'.replace('world', 'W@R@L@R@D').upper()"
      ],
      "metadata": {
        "id": "4h6pxPg266s4"
      },
      "execution_count": null,
      "outputs": []
    },
    {
      "cell_type": "code",
      "source": [
        "'hello world hi'.replace('world', 'W@R@L@R@D').upper().split('@')\n",
        "# 반환값이 list이기 때문에 메소드 체이닝을 하려면\n",
        "# 이후로 list 메소드를 사용해야 합니다."
      ],
      "metadata": {
        "id": "mD0iqdT47a7D"
      },
      "execution_count": null,
      "outputs": []
    },
    {
      "cell_type": "code",
      "source": [
        "'hello world hi'.replace(' ','')"
      ],
      "metadata": {
        "id": "3L19vfSk7_o2"
      },
      "execution_count": null,
      "outputs": []
    },
    {
      "cell_type": "code",
      "source": [
        "data = '''  \"+ +-+ -+-\"  \n",
        "  \"++ -- +-+\"  \n",
        "  \"++-+ -+ -\"  \n",
        "  \"+ ++-+ -+\"  '''\n",
        "\n",
        "data.split('\\n')[0].replace(' ', '').replace('\"', '')\n",
        "\n",
        "# Pythonic하지 않다!\n",
        "data.split('\\n')[0].replace(' ', \n",
        "                '').replace('\"', \n",
        "                '')\n",
        "\n",
        "# Pythonic하게 하려면\n",
        "data.split('\\n')[0]\\\n",
        "                .replace(' ', '')\\\n",
        "                .replace('\"', '')\\\n",
        "                .replace('\"', '')\\\n",
        "                .replace('\"', '')\\\n",
        "                .replace('\"', '')\\\n",
        "                .replace('\"', '')\\\n",
        "                .replace('\"', '')\\\n",
        "                .replace('\"', '')\n",
        "\n",
        "# 제가 사용하는 기법\n",
        "processed_string = data.split('\\n')[0].replace(' ', '').replace('\"', '')\n",
        "processed_string.replace('\"', '').replace('\"', '')"
      ],
      "metadata": {
        "id": "wEeG_JNW8Dl-"
      },
      "execution_count": null,
      "outputs": []
    },
    {
      "cell_type": "code",
      "source": [
        "# aaaaaaaaaaaaaaaaaaaaaaaaaaaaaaaaaaaaaaaaaaaaaaaaaaaaaaaaaaaaaaaaaaaaaaaaaaaaaaaa 79자\n",
        "# 아아아아아아아아아아아아아아아아아아아아아아아아아아아아아아아아아아아아아아아아 39자"
      ],
      "metadata": {
        "id": "Qvd05JAoA4Ps"
      },
      "execution_count": null,
      "outputs": []
    },
    {
      "cell_type": "code",
      "source": [
        "data = '''  \"+ +-+ -+-\"  \n",
        "  \"++ -- +-+\"  \n",
        "  \"++-+ -+ -\"  \n",
        "  \"+ ++-+ -+\"  '''\n",
        "\n",
        "data.split('\\n')[0].replace(' ','').replace('\"', '').replace('+', '1').replace('-', '0')\n",
        "ord('A'), chr(65) # ord는 문자를 가지고 숫자로 변경, chr은 숫자를 문자로 변경합니다.\n",
        "\n",
        "숫자 = data.split('\\n')[0].replace(' ','').replace('\"', '').replace('+', '1').replace('-', '0')\n",
        "int(숫자, 2)\n",
        "chr(int(숫자, 2))"
      ],
      "metadata": {
        "id": "sjjN5U1-A7jX"
      },
      "execution_count": null,
      "outputs": []
    },
    {
      "cell_type": "code",
      "source": [
        "# 별 4.5개\n",
        "'paullab CEO leehojun'.split(' ') #문자열을 쪼개어 줍니다.\n",
        "'paullab!CEO!leehojun'.split('!')\n",
        "'paullab,CEO,leehojun'.split(',')"
      ],
      "metadata": {
        "id": "4t6l0vcACE_x"
      },
      "execution_count": null,
      "outputs": []
    },
    {
      "cell_type": "code",
      "source": [
        "'010 5044 2903'.split(' ')\n",
        "'010-5044-2903'.split('-')\n",
        "num ='010 5044-2903'.replace('-',' ').split(' ')\n",
        "[int(i) for i in num]"
      ],
      "metadata": {
        "id": "sRV6fu7QCL7f"
      },
      "execution_count": null,
      "outputs": []
    },
    {
      "cell_type": "code",
      "source": [
        "'010 5044 2903'.split() # 공백단위가 들어가게 됩니다."
      ],
      "metadata": {
        "id": "G3Ap7yYPF135"
      },
      "execution_count": null,
      "outputs": []
    },
    {
      "cell_type": "code",
      "source": [
        "# '010 5044 2903'.split('') # 빈 문자열을 넣지는 못합니다."
      ],
      "metadata": {
        "id": "kS0Cfn0WF6HB"
      },
      "execution_count": null,
      "outputs": []
    },
    {
      "cell_type": "code",
      "source": [
        "list(map(int, '010 5044 2903'.split(' ')))"
      ],
      "metadata": {
        "id": "Yfq3hHJFGG-e"
      },
      "execution_count": null,
      "outputs": []
    },
    {
      "cell_type": "code",
      "source": [
        "int('010') # 0은 숫자가 아니라서 지워짐"
      ],
      "metadata": {
        "id": "UUc3DNRIMRcG"
      },
      "execution_count": null,
      "outputs": []
    },
    {
      "cell_type": "code",
      "source": [
        "num ='010 5044-2903'.replace('-',' ').split(' ')\n",
        "[int(i) for i in num] # 리스트 컴프리헨션 사용\n",
        "list(map(int, '010 5044 2903'.split(' ')))\n",
        "\n",
        "# 2개 모두 새로운 리스트를 만드는 것입니다.\n",
        "# 원본을 변경시키지 않습니다."
      ],
      "metadata": {
        "id": "8wf3as2yMdTl"
      },
      "execution_count": null,
      "outputs": []
    },
    {
      "cell_type": "code",
      "source": [
        "# 이 코드 보다는\n",
        "s = []\n",
        "for i in '010 5044-2903'.replace('-', ' ').split(' '):\n",
        "    s.append(int(i))\n",
        "s\n",
        "\n",
        "# 요 코드를 추천합니다.\n",
        "[int(i) for i in num]"
      ],
      "metadata": {
        "id": "iwx-WGRXNMX5"
      },
      "execution_count": null,
      "outputs": []
    },
    {
      "cell_type": "code",
      "source": [],
      "metadata": {
        "id": "8ohgupKUMraW"
      },
      "execution_count": null,
      "outputs": []
    },
    {
      "cell_type": "code",
      "source": [
        "# 별 4.5개\n",
        "'~'.join(['hello', 'world', 'hello'])\n",
        "'!'.join(['hello', 'world', 'hello'])\n",
        "''.join(['hello', 'world', 'hello'])\n",
        "' '.join(['hello', 'world', 'hello'])"
      ],
      "metadata": {
        "id": "N27SmxHJHd44"
      },
      "execution_count": null,
      "outputs": []
    },
    {
      "cell_type": "code",
      "source": [
        "'hello'.isalpha()"
      ],
      "metadata": {
        "id": "w_QNZrOEH8EH"
      },
      "execution_count": null,
      "outputs": []
    },
    {
      "cell_type": "code",
      "source": [
        "'123'.isdigit()"
      ],
      "metadata": {
        "id": "SVSHgesSIIg8"
      },
      "execution_count": null,
      "outputs": []
    },
    {
      "cell_type": "code",
      "source": [
        "'12a3'.isdigit(), '12 3'.isdigit()"
      ],
      "metadata": {
        "id": "BZQqTh14IWJQ"
      },
      "execution_count": null,
      "outputs": []
    },
    {
      "cell_type": "code",
      "source": [
        "'12a3'.isalnum(), '12 3'.isalnum()"
      ],
      "metadata": {
        "id": "O5oZ4hqCIakg"
      },
      "execution_count": null,
      "outputs": []
    },
    {
      "cell_type": "code",
      "source": [
        "'안녕하세요'.isalpha(), '안녕하세요'.isalnum()"
      ],
      "metadata": {
        "id": "d39StUK5Ie24"
      },
      "execution_count": null,
      "outputs": []
    },
    {
      "cell_type": "code",
      "source": [
        "# 퀴즈\n",
        "# 숫자를 모두 더하라!\n",
        "result = 0\n",
        "for i in '123abc913sldlf':\n",
        "    if i.isdigit():\n",
        "        result += int(i)\n",
        "result"
      ],
      "metadata": {
        "id": "glA1wpYXIx5t"
      },
      "execution_count": null,
      "outputs": []
    },
    {
      "cell_type": "code",
      "source": [
        "'paullab CEO leehojun'.isascii()"
      ],
      "metadata": {
        "id": "FfGiiHrvNzNh"
      },
      "execution_count": null,
      "outputs": []
    },
    {
      "cell_type": "code",
      "source": [
        "'paullab CEO leehojun'.rjust(30) #오른쪽 정렬\n",
        "'paullab CEO leehojun'.ljust(30) #왼쪽 정렬\n",
        "'paullab CEO leehojun'.center(30)#가운데 정렬"
      ],
      "metadata": {
        "id": "CPS1PYYPJj9n"
      },
      "execution_count": null,
      "outputs": []
    },
    {
      "cell_type": "code",
      "source": [
        "# zfill()은 데이터의 빈 공간을 0으로 채워줍니다. 2진수에서 많이 사용됨\n",
        "'hello'.zfill(30)"
      ],
      "metadata": {
        "id": "5VHzU24PJuop"
      },
      "execution_count": null,
      "outputs": []
    },
    {
      "cell_type": "code",
      "source": [
        "'1001'.zfill(5)\n",
        "'hello'.zfill(10).replace('0','-')"
      ],
      "metadata": {
        "id": "C0pepwWMONCa"
      },
      "execution_count": null,
      "outputs": []
    },
    {
      "cell_type": "code",
      "source": [
        "규칙테이블 = str.maketrans({'\\n':'', '\\t':''})\n",
        "'paullab \\n\\n\\n CEO \\t\\t\\t leehojun'.translate(규칙테이블)"
      ],
      "metadata": {
        "id": "u1-7KZAIOoUJ"
      },
      "execution_count": null,
      "outputs": []
    },
    {
      "cell_type": "code",
      "source": [
        "'paullab \\n\\n\\n CEO \\t\\t\\t leehojun'.replace('\\n', '').replace('\\t', '')"
      ],
      "metadata": {
        "id": "scGu5o0lO7Us"
      },
      "execution_count": null,
      "outputs": []
    },
    {
      "cell_type": "code",
      "source": [
        "규칙테이블 = str.maketrans({'\\n\\t':'   '})\n",
        "'paullab \\n\\n\\n CEO \\t\\t\\t leehojun'.translate(규칙테이블)"
      ],
      "metadata": {
        "id": "iiyYmKhLPQin"
      },
      "execution_count": null,
      "outputs": []
    },
    {
      "cell_type": "code",
      "source": [],
      "metadata": {
        "id": "rPCpMcj2PYWZ"
      },
      "execution_count": null,
      "outputs": []
    },
    {
      "cell_type": "markdown",
      "source": [
        "## pep"
      ],
      "metadata": {
        "id": "Hlt3pxfvPZWf"
      }
    },
    {
      "cell_type": "code",
      "source": [
        "# aaaaaaaaaaaaaaaaaaaaaaaaaaaaaaaaaaaaaaaaaaaaaaaaaaaaaaaaaaaaaaaaaaaaaaaaaaaaaaaa => 80자\n",
        "# 아아아아아아아아아아아아아아아아아아아아아아아아아아아아아아아아아아아아아아아아아아 => 42자면 한글 넘어갑니다.\n",
        "# line에 딱 맞춰 들어간 것을 볼 수 있습니다. \n",
        "# 강제사항은 아닙니다.\n",
        "# 띄어쓰기 4번도 강제사항은 아닙니다.\n",
        "# pep8, pep 20에 기술되어 있습니다. => pep(Python Enhancement Proposal)란 무엇인가요? 8이란 무엇인가요?\n",
        "# pep8 : Style Guide for Python Code\n",
        "# pep20 : The Zen of Python # 이스터에그로 숨겨져있음\n",
        "# https://peps.python.org/"
      ],
      "metadata": {
        "id": "hSaDM2RDPbq0"
      },
      "execution_count": null,
      "outputs": []
    },
    {
      "cell_type": "markdown",
      "source": [
        "## cpython\n",
        "\n",
        "* 공식홈페이지에서 다운로드 받는 것이 cpython입니다.\n",
        "* https://github.com/python/cpython\n",
        "* list를 구현한 코드 : https://github.com/python/cpython/blob/main/Objects/listobject.c"
      ],
      "metadata": {
        "id": "Brh6mz6mQnm_"
      }
    },
    {
      "cell_type": "markdown",
      "source": [
        "## 인덱싱과 슬라이싱 "
      ],
      "metadata": {
        "id": "JLndWOr1SZO9"
      }
    },
    {
      "cell_type": "code",
      "source": [
        "name = 'Guido van Rossum'\n",
        "print(name[0])\n",
        "print(name[1])\n",
        "print(name[2])"
      ],
      "metadata": {
        "id": "9tnpQvjZSbaE"
      },
      "execution_count": null,
      "outputs": []
    },
    {
      "cell_type": "code",
      "source": [
        "# s[start:stop:step]\n",
        "s = 'paullab CEO leehojun'\n",
        "s[5:]\n",
        "s[:5]\n",
        "s[3:10]\n",
        "s[3:10]\n",
        "s[0:20:2]"
      ],
      "metadata": {
        "id": "iB9oqYSoRpO5"
      },
      "execution_count": null,
      "outputs": []
    },
    {
      "cell_type": "code",
      "source": [
        "# 자주 사용되는 코드\n",
        "s = 'paullab CEO leehojun.'\n",
        "s[:] # string에서는 많이 사용하지 않지만 list에서 많이 사용합니다.\n",
        "s[:-1]"
      ],
      "metadata": {
        "id": "rsAx8shATMux"
      },
      "execution_count": null,
      "outputs": []
    },
    {
      "cell_type": "code",
      "source": [
        "test = [1,2,3,4]\n",
        "test2 = test\n",
        "test2[0] = 1000\n",
        "test, test2"
      ],
      "metadata": {
        "id": "P87GZGRLTiLu"
      },
      "execution_count": null,
      "outputs": []
    },
    {
      "cell_type": "code",
      "source": [
        "test = [1,2,3,4]\n",
        "test2 = test[:] # 새로운 리스트를 만들어서 test2에게 줍니다.\n",
        "test2[0] = 1000\n",
        "test, test2"
      ],
      "metadata": {
        "id": "J_cgzcLeTu2P"
      },
      "execution_count": null,
      "outputs": []
    },
    {
      "cell_type": "markdown",
      "source": [
        "## 문자열의 연산"
      ],
      "metadata": {
        "id": "i3uSuvqVUr-7"
      }
    },
    {
      "cell_type": "code",
      "source": [
        "s = 'hello world'\n",
        "dir(s)"
      ],
      "metadata": {
        "id": "mel1VNZ1UfTZ"
      },
      "execution_count": null,
      "outputs": []
    },
    {
      "cell_type": "markdown",
      "source": [
        "## 형변환"
      ],
      "metadata": {
        "id": "aQsImzBQUvXX"
      }
    },
    {
      "cell_type": "markdown",
      "source": [
        "* 형변환 : type을 변경하는 것입니다."
      ],
      "metadata": {
        "id": "9d2icuUMWKQe"
      }
    },
    {
      "cell_type": "code",
      "source": [
        "x = int(input())\n",
        "x + x # but 알파벳 입력하면 error!"
      ],
      "metadata": {
        "id": "ma-1PgXvUzA9"
      },
      "execution_count": null,
      "outputs": []
    },
    {
      "cell_type": "code",
      "source": [
        "x = input()\n",
        "if x.isdigit():\n",
        "    x = int(x)\n",
        "x + x # but 알파벳 입력하면 error!"
      ],
      "metadata": {
        "id": "89qRyjFKVGGb"
      },
      "execution_count": null,
      "outputs": []
    },
    {
      "cell_type": "code",
      "source": [
        "# int('abc') # error\n",
        "int(10.1) # 버림\n",
        "int('10') # 형변환 가능\n",
        "# int('10.1') # 형변환 불가능"
      ],
      "metadata": {
        "id": "Jywmp9awVYjO"
      },
      "execution_count": null,
      "outputs": []
    },
    {
      "cell_type": "code",
      "source": [
        "float(10.1) # 형변환 가능\n",
        "float('10') # 형변환 가능"
      ],
      "metadata": {
        "id": "p6dpZt_YVzrb"
      },
      "execution_count": null,
      "outputs": []
    },
    {
      "cell_type": "code",
      "source": [
        "int('10a') # 되는 언어가 있어서 보여드린 것입니다.\n",
        "#Python에서는 허용하지 않습니다."
      ],
      "metadata": {
        "id": "kFoVFN-GV5Uo"
      },
      "execution_count": null,
      "outputs": []
    },
    {
      "cell_type": "code",
      "source": [
        "def hello():\n",
        "    pass\n",
        "\n",
        "str(type)\n",
        "str(hello)\n",
        "\n",
        "str('123')\n",
        "str(True)\n",
        "str(None)\n",
        "str([1,2,3])\n",
        "str({1,2,3})\n",
        "str({'one':1, 'two':2})"
      ],
      "metadata": {
        "id": "0eu8RlmZWNdn"
      },
      "execution_count": null,
      "outputs": []
    },
    {
      "cell_type": "code",
      "source": [
        "# 별 5개\n",
        "if True:\n",
        "    print('hi')\n",
        "\n",
        "if 'hello':\n",
        "    print('hi')\n",
        "\n",
        "l =[1,2,3]\n",
        "while l:\n",
        "    print(l.pop())\n",
        "\n",
        "bool('') # 빈 문자열을 제외하고 모두 True\n",
        "bool('a')\n",
        "bool('False') # 문자열 False이기 때문에 True\n",
        "bool('a') \n",
        "bool(0) # 0을 제외하고 모두 True\n",
        "bool(-1) # 이것도 True\n",
        "bool(None) # None은 비어있음을 명시해주는 키워드, False\n",
        "bool([]) # 컨벤션 자료형은 비어있으면 False입니다.\n",
        "bool({}) # 컨벤션 자료형은 비어있으면 False입니다."
      ],
      "metadata": {
        "id": "y0IG4YajXC7e"
      },
      "execution_count": null,
      "outputs": []
    },
    {
      "cell_type": "code",
      "source": [
        "# list로 형변환\n",
        "s='10'\n",
        "l=list(s)\n",
        "l"
      ],
      "metadata": {
        "id": "dqvJX05XXaKL"
      },
      "execution_count": null,
      "outputs": []
    },
    {
      "cell_type": "code",
      "source": [
        "s='leehojun'\n",
        "l=list(s)\n",
        "l"
      ],
      "metadata": {
        "id": "D0ne_sxCpxZA"
      },
      "execution_count": null,
      "outputs": []
    },
    {
      "cell_type": "code",
      "source": [
        "# tuple\n",
        "s='leehojun'\n",
        "l=tuple(s)\n",
        "l"
      ],
      "metadata": {
        "id": "4Rsf-qe_p0c2"
      },
      "execution_count": null,
      "outputs": []
    },
    {
      "cell_type": "code",
      "source": [
        "# dict\n",
        "# s='\bleehojun'\n",
        "# l=dict(s)\n",
        "\n",
        "s = [('name', 'leehojun'), ('age', 10)]\n",
        "d = dict(s)\n",
        "d"
      ],
      "metadata": {
        "id": "Vzl_eLczqEr9"
      },
      "execution_count": null,
      "outputs": []
    },
    {
      "cell_type": "code",
      "source": [
        "# set(집합)으로 형변환\n",
        "name = 'leehojun'\n",
        "set(name)"
      ],
      "metadata": {
        "id": "ZAF14qaXqZ1o"
      },
      "execution_count": null,
      "outputs": []
    },
    {
      "cell_type": "code",
      "source": [
        "len('hello world') # __len__\n",
        "len([1,2,3,4])"
      ],
      "metadata": {
        "id": "AyGmT4nzqZx8"
      },
      "execution_count": null,
      "outputs": []
    },
    {
      "cell_type": "markdown",
      "source": [
        "## 문제풀이"
      ],
      "metadata": {
        "id": "p66PlV6OsSVy"
      }
    },
    {
      "cell_type": "markdown",
      "source": [
        "https://paullabworkspace.notion.site/1-7-1a8a36a77f254aa49e84de986c7499bc"
      ],
      "metadata": {
        "id": "jyFw4QfAsVW_"
      }
    },
    {
      "cell_type": "code",
      "source": [
        "name=input()\n",
        "print(name*2)\n",
        "num=123456789\n",
        "[int(i) for i in str(num)][3] # list(str(num))[3] 도 가능"
      ],
      "metadata": {
        "id": "5zITaWkmqsP8"
      },
      "execution_count": null,
      "outputs": []
    },
    {
      "cell_type": "markdown",
      "source": [
        "## 산술연산"
      ],
      "metadata": {
        "id": "nPcCw0vCs9Pf"
      }
    },
    {
      "cell_type": "code",
      "source": [
        "a = 10\n",
        "b = 3\n",
        "\n",
        "print(f'10 + 3 == {a + b}')\n",
        "print(f'10 - 3 == {a - b}')\n",
        "print(f'10 / 3 == {a / b}')\n",
        "print(f'10 // 3 == {a // b}') # 몫만 나옵니다.(정수만요!)\n",
        "print(f'10 * 3 == {a * b}')\n",
        "print(f'10 ** 3 == {a ** b}')\n",
        "print(f'10 % 3 == {a % b}') # 나머지 "
      ],
      "metadata": {
        "id": "BFKuOueLtAqx"
      },
      "execution_count": null,
      "outputs": []
    },
    {
      "cell_type": "code",
      "source": [
        "# 연산자 우선순위는 and, or, 사칙연산, 제곱 정도만 알아도\n",
        "# 코딩하는데 큰 무리가 없습니다\n",
        "# (모르면 읽는데 어려움이 생기기도 합니다.)\n",
        "print(3 ** 2 * 3)\n",
        "print(3 * 3 ** 2) # 왜 81이 아니지?\n",
        "# 곱하기 보다 제곱이 우선순위가 높습니다.\n",
        "print(3+3*2) # 3+3부터 먼저 하지 않습니다."
      ],
      "metadata": {
        "id": "EHtcCoY_uMVu"
      },
      "execution_count": null,
      "outputs": []
    },
    {
      "cell_type": "code",
      "source": [
        "a = 10\n",
        "b = 3\n",
        "\n",
        "print(f'10 > 3 == {a > b}')\n",
        "print(f'10 >= 3 == {a >= b}')\n",
        "print(f'10 < 3 == {a < b}')\n",
        "print(f'10 <= 3 == {a <= b}')\n",
        "print(f'10 == 3 == {a == b}')\n",
        "print(f'10 != 3 == {a != b}')"
      ],
      "metadata": {
        "id": "HvGj7Kcsu_G3"
      },
      "execution_count": null,
      "outputs": []
    },
    {
      "cell_type": "markdown",
      "source": [
        "## 논리연산"
      ],
      "metadata": {
        "id": "0zCejhcxvRdT"
      }
    },
    {
      "cell_type": "code",
      "source": [
        "# and 는 곱\n",
        "# or 는 합\n",
        "# not은 반대\n",
        "# True 1\n",
        "# False 0\n",
        "# 중요한 포인트는 저렇게 했을 때 언제 True가 되는지 정리하는 것\n",
        "\n",
        "print(True and False)\n",
        "print(True or False)\n",
        "\n",
        "if True and False:\n",
        "    print('hello')\n",
        "\n",
        "if 10 > 3 and 8 % 3 == 0:\n",
        "    print('hello')\n",
        "\n",
        "# and는 언제 True가 되나요?\n",
        "# 모두 True일 때\n",
        "# or는 언제 True가 되나요?\n",
        "# 둘 중 하나라도 참이라면 True"
      ],
      "metadata": {
        "id": "kLam-RoGvTec"
      },
      "execution_count": null,
      "outputs": []
    },
    {
      "cell_type": "code",
      "source": [
        "# https://codingdojang.com/scode/350?answer_mode=hide\n",
        "\n",
        "result = 0\n",
        "for i in range(1000):\n",
        "    if i % 3 == 0 or i % 5 == 0:\n",
        "        result += i\n",
        "\n",
        "print(result)"
      ],
      "metadata": {
        "id": "_xQHE4TGwqyI"
      },
      "execution_count": null,
      "outputs": []
    },
    {
      "cell_type": "code",
      "source": [
        "not True"
      ],
      "metadata": {
        "id": "bjXIRMtmyfRj"
      },
      "execution_count": null,
      "outputs": []
    },
    {
      "cell_type": "code",
      "source": [
        "not False"
      ],
      "metadata": {
        "id": "IT4o1PMzyhNm"
      },
      "execution_count": null,
      "outputs": []
    },
    {
      "cell_type": "code",
      "source": [
        "# Python 입장에서 보는 코드\n",
        "# False and ???? => 물음표에 무엇이 나오든 False\n",
        "# 그래서 Python도 저 물음표를 보지 않습니다.\n",
        "\n",
        "def solution():\n",
        "    1/0\n",
        "\n",
        "if False and solution():\n",
        "    print('hello')"
      ],
      "metadata": {
        "id": "KAFrewVcyorm"
      },
      "execution_count": null,
      "outputs": []
    },
    {
      "cell_type": "code",
      "source": [
        "# True or ????? => 물음표에 무엇이 나오든 Ture\n",
        "# 그래서 Python도 저 물음표를 보지 않습니다.\n",
        "def solution():\n",
        "    1/0\n",
        "\n",
        "if True or solution():\n",
        "    print('hello')"
      ],
      "metadata": {
        "id": "_dlK9Ky61zVa"
      },
      "execution_count": null,
      "outputs": []
    },
    {
      "cell_type": "code",
      "source": [
        "# 단락 평가(컴퓨터가 어디까지 보는지 판단해서 활용)\n",
        "username = '' # 사용자가 아무것도 입력하지 않았을 경우\n",
        "username = username or 'licat'\n",
        "username"
      ],
      "metadata": {
        "id": "ZC62CPxN2Bxv"
      },
      "execution_count": null,
      "outputs": []
    },
    {
      "cell_type": "code",
      "source": [
        "username = 'sonsuha' # 사용자가 아무것도 입력하지 않았을 경우\n",
        "username = username or 'licat'\n",
        "username"
      ],
      "metadata": {
        "id": "ZCS2y5QL2eeE"
      },
      "execution_count": null,
      "outputs": []
    },
    {
      "cell_type": "code",
      "source": [
        "# and와 or의 우선순위 (and가 더 높습니다.)\n",
        "for i in range(21):\n",
        "    if i % 3 == 0 and i % 5 == 0 or i % 2 == 0:\n",
        "        print(i)\n",
        "\n",
        "for i in range(21):\n",
        "    if (i % 3 == 0 and i % 5 == 0) or i % 2 == 0:\n",
        "        print(i)"
      ],
      "metadata": {
        "id": "-0Ne5q-R2sRl"
      },
      "execution_count": null,
      "outputs": []
    },
    {
      "cell_type": "code",
      "source": [
        "# 아래는 출력되는 값이 다릅니다!\n",
        "# \n",
        "for i in range(21):\n",
        "    if (i % 3 == 0 or i % 5 == 0) and i % 2 == 0:\n",
        "        print(i)\n",
        "\n",
        "for i in range(21):\n",
        "    if i % 3 == 0 or i % 5 == 0 and i % 2 == 0:\n",
        "        print(i)"
      ],
      "metadata": {
        "id": "BaFLZAPF3F5s"
      },
      "execution_count": null,
      "outputs": []
    },
    {
      "cell_type": "markdown",
      "source": [
        "## 비트연산(중요도 하)"
      ],
      "metadata": {
        "id": "abPtM73M4ErZ"
      }
    },
    {
      "cell_type": "code",
      "source": [
        "# and (곱하기)\n",
        "# 1001 == 9\n",
        "# 0010 == 2\n",
        "# ----\n",
        "# 0000 == 0\n",
        "\n",
        "9&8\n",
        "9&2"
      ],
      "metadata": {
        "id": "IU75CMxD4Gzu"
      },
      "execution_count": null,
      "outputs": []
    },
    {
      "cell_type": "code",
      "source": [
        "# or(더하기)\n",
        "# 1001 == 9\n",
        "# 0011 == 3\n",
        "# ----\n",
        "# 1010\n",
        "\n",
        "9|3"
      ],
      "metadata": {
        "id": "sp0gqvYr5nXh"
      },
      "execution_count": null,
      "outputs": []
    },
    {
      "cell_type": "code",
      "source": [
        "# xor(같을경우 0 다를경우 1)\n",
        "# 1001 == 9\n",
        "# 0011 == 3\n",
        "# ----\n",
        "# 1010\n",
        "\n",
        "9^3"
      ],
      "metadata": {
        "id": "hLUSezI557Tt"
      },
      "execution_count": null,
      "outputs": []
    },
    {
      "cell_type": "code",
      "source": [
        "~9 # 2의 보수를 취하는 것입니다.(9에게 +1 한 다음에 - 취하기)\n",
        "~-7"
      ],
      "metadata": {
        "id": "Sp3uFmcH6OTX"
      },
      "execution_count": null,
      "outputs": []
    },
    {
      "cell_type": "code",
      "source": [
        "3 << 2 \n",
        "# 3을 2진수로 표현하면 11인데 2칸을 왼쪽으로 미는 것입니다\n",
        "# 1100"
      ],
      "metadata": {
        "id": "FtnKe9Vt6w0s"
      },
      "execution_count": null,
      "outputs": []
    },
    {
      "cell_type": "markdown",
      "source": [
        "## 할당연산 "
      ],
      "metadata": {
        "id": "jbzo1s3D75NB"
      }
    },
    {
      "cell_type": "code",
      "source": [
        "# a = 10\n",
        "# a = a + 10\n",
        "a = + 10 # 이렇게 a를 지우면 양수를 표현하는 10만 남아요\n",
        "a"
      ],
      "metadata": {
        "id": "yRAfBPDc78ch"
      },
      "execution_count": null,
      "outputs": []
    },
    {
      "cell_type": "code",
      "source": [
        "a = 10\n",
        "a += 10 # a = a + 10\n",
        "a"
      ],
      "metadata": {
        "id": "OGXNjeID8cHD"
      },
      "execution_count": null,
      "outputs": []
    },
    {
      "cell_type": "code",
      "source": [
        "a = 10\n",
        "a //= 10 # 산술연산 모두 됩니다.\n",
        "a"
      ],
      "metadata": {
        "id": "20ZtNcAq9B7b"
      },
      "execution_count": null,
      "outputs": []
    },
    {
      "cell_type": "code",
      "source": [
        "# Python에서는 특이하게 ++a, ++b, a++가 없습니다."
      ],
      "metadata": {
        "id": "EGZfZWrN9Vgd"
      },
      "execution_count": null,
      "outputs": []
    },
    {
      "cell_type": "markdown",
      "source": [
        "## 식별연산자 "
      ],
      "metadata": {
        "id": "jZL-IVdM9mch"
      }
    },
    {
      "cell_type": "code",
      "source": [
        "# 앞으로 아래 2개를 활용해서 Python에\n",
        "# 컨벤션 자료형이 어떻게 구성이 되는지 확인해 볼겁니다.\n",
        "# id()\n",
        "# is"
      ],
      "metadata": {
        "id": "bkbIWQ_Z9ol1"
      },
      "execution_count": null,
      "outputs": []
    },
    {
      "cell_type": "code",
      "source": [
        "a = 999\n",
        "b = 999\n",
        "a is b"
      ],
      "metadata": {
        "id": "T5HyUXbD9y78"
      },
      "execution_count": null,
      "outputs": []
    },
    {
      "cell_type": "code",
      "source": [
        "a = [1, 2, 3]\n",
        "b = [1, 2, 3]\n",
        "a is b"
      ],
      "metadata": {
        "id": "jCiH_s5X97RL"
      },
      "execution_count": null,
      "outputs": []
    },
    {
      "cell_type": "code",
      "source": [
        "a = [1, 2, 3]\n",
        "b = [1, 2, 3]\n",
        "a == b # Python에서 등호는 type과 value를 봅니다."
      ],
      "metadata": {
        "id": "78Nk0Bon-OzR"
      },
      "execution_count": null,
      "outputs": []
    },
    {
      "cell_type": "code",
      "source": [
        "# is는 주소값을 비교합니다.\n",
        "id(a) == id(b) #이게 f\balse면 is도 false 입니다."
      ],
      "metadata": {
        "id": "asRjmjh8_Ubi"
      },
      "execution_count": null,
      "outputs": []
    },
    {
      "cell_type": "markdown",
      "source": [
        "## not의 위치 "
      ],
      "metadata": {
        "id": "Z2l51aAi-1E9"
      }
    },
    {
      "cell_type": "code",
      "source": [
        "a = 10\n",
        "b = 100\n",
        "a is not b "
      ],
      "metadata": {
        "id": "Tn9hYZKM-2pQ"
      },
      "execution_count": null,
      "outputs": []
    },
    {
      "cell_type": "code",
      "source": [
        "a = 10\n",
        "b = [10, 20, 30]\n",
        "a not in [10, 20, 30]"
      ],
      "metadata": {
        "id": "VSsllqJX_BV5"
      },
      "execution_count": null,
      "outputs": []
    },
    {
      "cell_type": "markdown",
      "source": [
        "## 멤버연산 "
      ],
      "metadata": {
        "id": "f1FUWKnq_g_K"
      }
    },
    {
      "cell_type": "code",
      "source": [
        "'a' in 'hello a world'\n",
        "'a' in 'hello  world'\n",
        "'a' in ['a', 'b']\n",
        "# 10 in {'a':10, 'b':20} #dic 안에 있는 value 값이 확인하고 싶으면\n",
        "10 in {'a':10, 'b':20}.values()\n",
        "10 in {10, 20, 30}"
      ],
      "metadata": {
        "id": "b1MRRx4U_j2I"
      },
      "execution_count": null,
      "outputs": []
    },
    {
      "cell_type": "code",
      "source": [
        "'a' not in ['aa', 'bb']"
      ],
      "metadata": {
        "id": "LYEHCUXnANQM"
      },
      "execution_count": null,
      "outputs": []
    },
    {
      "cell_type": "code",
      "source": [
        "10 in [10, 20, 30]\n",
        "[10] in [10, 20, 30]\n",
        "[10] in [[10], 20, 30]\n",
        "[10, 20] in [10, 20, 30]\n",
        "[10, 20] in [[10, 20], 30]\n",
        "set([10, 20]).issubset(set([[10, 20, 30]))"
      ],
      "metadata": {
        "id": "6M0L3scXAQAA"
      },
      "execution_count": null,
      "outputs": []
    },
    {
      "cell_type": "markdown",
      "source": [
        "## !! 연습문제 "
      ],
      "metadata": {
        "id": "oNX2lLcxEMgj"
      }
    },
    {
      "cell_type": "code",
      "source": [
        "#1 다음 코드의 실행 결괏값을 예상해보세요\n",
        "\n",
        "a = 100\n",
        "(a > 100) and (a < 200) # true and false - false\n",
        "(a > 100) or (a < 200) # true or true - true\n",
        "(a >= 100) and (a <= 200) # true and true - true\n",
        "(a >= 100) or (a <= 200) # true or true - true"
      ],
      "metadata": {
        "id": "q24k2isTENqW"
      },
      "execution_count": null,
      "outputs": []
    },
    {
      "cell_type": "code",
      "source": [
        "#2 다음 코드의 실행 결괏값을 예상해보세요\n",
        "\n",
        "b = 25\n",
        "(b % 2 == 0) and (b % 5 == 0) # false and true - false"
      ],
      "metadata": {
        "id": "2znQrdfGEOTv"
      },
      "execution_count": null,
      "outputs": []
    },
    {
      "cell_type": "code",
      "source": [
        "#3 변수 c 안에 들어있는 가격을 100원짜리 몇개로 거슬러 줄 수 있는지 출력해주세요\n",
        "\n",
        "c = 1000\n",
        "# 결과값은 10입니다.\n",
        "result = c//100\n",
        "print(result)"
      ],
      "metadata": {
        "id": "tJqUrb0eEOxB"
      },
      "execution_count": null,
      "outputs": []
    },
    {
      "cell_type": "code",
      "source": [
        "#4 (심화문제) 입력한 금액을 5000원, 1000원, 500원, 100원으로 교환하는 프로그램을 만들어주세요.)\n",
        "\n",
        "price = int(input(\"금액을 입력해주세요(원 생략):\"))\n",
        "money_5000= money_1000= money_500= money_100 = '0'\n",
        "money_5000 = price//5000\n",
        "money_1000 = price%5000//1000\n",
        "money_500 = price%5000%1000//500\n",
        "money_100 = price%5000%1000%500//100\n",
        "print(f'입력한 금액:{price}원\\n\\\n",
        "5000원:{money_5000}개 \\n\\\n",
        "1000원:{money_1000}개 \\n\\\n",
        "500원:{money_500}개 \\n\\\n",
        "100원:{money_100}개')\n",
        "\n",
        "#---이호준 대표님의 코드 ---\n",
        "\n",
        "#4번\n",
        "# 그리디 알고리즘(욕심쟁이 알고리즘)\n",
        "# 남은금액 = int(input())\n",
        "\n",
        "# 오천원 = 남은금액 // 5000\n",
        "# 남은금액 = 남은금액 % 5000\n",
        "# 남은금액 = 남은금액 - (5000 * 오천원)\n",
        "\n",
        "# 천원 = 남은금액 // 1000\n",
        "# 남은금액 = 남은금액 % 1000\n",
        "\n",
        "# 오백원 = 남은금액 // 500\n",
        "# 남은금액 = 남은금액 % 500\n",
        "\n",
        "# 백원 = 남은금액 // 100\n",
        "# 남은금액 = 남은금액 % 100\n",
        "\n",
        "# print(오천원, 천원, 오백원, 백원)"
      ],
      "metadata": {
        "id": "Mc8N2uq-EPQg"
      },
      "execution_count": null,
      "outputs": []
    },
    {
      "cell_type": "markdown",
      "source": [
        "## !! 오늘 배운 것 정리\n",
        "\n",
        "1. str\n",
        "    - 순서가 있는 **시퀀스 자료형**입니다.\n",
        "    - 작은 따옴표(' ')나 큰 따옴표(\" \"), 삼중따옴표('''str''', \"\"\"str\"\"\")로 감싸는 것도 가능합니다. (삼중따옴표를 사용할 경우에는 줄단위의 문자열을 나타낼 수 있습니다.)\n",
        "    - 작은 따옴표 안에 큰 따옴표, 큰 따옴표 안에 작은 따옴표 사용이 가능합니다.\n",
        "    - 이스케이프 문자도 사용이 가능합니다.\n",
        "    - 리스트, 튜플도 시퀀스 자료형입니다.\n",
        "    - 메서드\n",
        "        - lower\n",
        "        - index, find\n",
        "        - count\n",
        "        - strip\n",
        "        - replace\n",
        "        - split, join\n",
        "        - isdigit\n",
        "2. 슬라이싱\n",
        "    - 시퀀스형 자료형을 자를 수 있습니다.\n",
        "    - 형태\n",
        "    ```\n",
        "    # s[start:stop:step]\n",
        "    s = 'paullab CEO leehojun'\n",
        "    s[5:]\n",
        "    s[:5]\n",
        "    s[3:10]\n",
        "    s[:]\n",
        "    s[0:20:2]\n",
        "    # 자주 사용되는 코드\n",
        "    s = 'paullab CEO leehojun!'\n",
        "    s[:] # string에서는 많이 사용하지 않지만 list에서 많이 사용합니다.\n",
        "    s[:-1] # 마지막 요소만 제외하고 다 슬라이싱 합니다.\n",
        "    ```\n",
        "\n",
        "3. 형변환\n",
        "    - 형변환 : type을 변경하는 것입니다.\n",
        "    - int, float, str 등 자료형에 이름으로 형태를 변경할 수 있습니다.\n",
        "    - 그 중에서도 bool이 매우 중요합니다.\n",
        "    ```\n",
        "    # 별 5개\n",
        "    # bool 형으로 형변환 하는 것\n",
        "    if True:\n",
        "        print('hi')\n",
        "\n",
        "    if 'hello':\n",
        "        print('hi')\n",
        "\n",
        "    # 정말 많이 사용하는 코드\n",
        "    l = [1, 2, 3]\n",
        "    while l:\n",
        "        print(l.pop())\n",
        "\n",
        "    bool('') # 빈 문자열을 제외하고 모두 True\n",
        "    bool('a')\n",
        "    bool('False') # 문자열 False이기 때문에 True\n",
        "    bool(0) # 0을 제외하고 모두 True\n",
        "    bool(-1)\n",
        "    bool(100)\n",
        "    bool(None) # None은 비어있음을 명시해주는 키워드, False\n",
        "    bool([]) # 컨벤션 자료형은 비어있으면 False입니다.\n",
        "    bool({})\n",
        "    ```\n",
        "\n",
        "4. 산술연산\n",
        "    ```\n",
        "    a = 10\n",
        "    b = 3\n",
        "\n",
        "    print(f'10 + 3 == {a + b}')\n",
        "    print(f'10 - 3 == {a - b}')\n",
        "    print(f'10 / 3 == {a / b}')\n",
        "    print(f'10 // 3 == {a // b}') # 몫만 나옵니다.(정수만요!)\n",
        "    print(f'10 * 3 == {a * b}')\n",
        "    print(f'10 ** 3 == {a ** b}')\n",
        "    print(f'10 % 3 == {a % b}') # 나머지\n",
        "    ```\n",
        "\n",
        "5. 논리연산\n",
        "    ```\n",
        "    # and 는 곱\n",
        "    # or 는 합\n",
        "    # not은 반대\n",
        "    # True 1\n",
        "    # False 0\n",
        "    # 중요한 포인트는 저렇게 했을 때 언제 True가 되는지 정리하는 것\n",
        "\n",
        "    print(True and False)\n",
        "    print(True or False)\n",
        "    print(True or True)\n",
        "\n",
        "    # https://codingdojang.com/scode/350?answer_mode=hide\n",
        "    for i in range(101):\n",
        "        if i % 3 == 0 and i % 5 == 0:\n",
        "            print(i)\n",
        "    ```\n",
        "\n",
        "6. 할당연산\n",
        "    ```\n",
        "    a = 10\n",
        "    a += 10 # a = a + 10\n",
        "    a //= 2\n",
        "    a\n",
        "    ```\n",
        "\n",
        "7. is, in\n",
        "    1. is\n",
        "        ```\n",
        "        a = [1, 2, 3]\n",
        "        b = [1, 2, 3]\n",
        "\n",
        "        id(a), id(b)\n",
        "        a == b # 값이 같은 것과 메모리에 같은 공간에 저장되어 있다는 얘기는 다른 얘기입니다!\n",
        "        ```\n",
        "    2. in\n",
        "        ```\n",
        "        'a' in 'helalo world'\n",
        "        'a' in 'hello world'\n",
        "        'a' in ['a', 'b']\n",
        "        'a' in {'a':10, 'b':20}\n",
        "        # 10 in {'a':10, 'b':20} # dict안에있는 value값이 있는지 확인하고 싶으면\n",
        "        10 in {'a':10, 'b':20}.values()\n",
        "        10 in {10, 20, 30}\n",
        "        ```"
      ],
      "metadata": {
        "id": "czC-anJTXAwU"
      }
    },
    {
      "cell_type": "markdown",
      "source": [
        "## 함수 "
      ],
      "metadata": {
        "id": "WZ5MJeg38FYg"
      }
    },
    {
      "cell_type": "markdown",
      "source": [
        "1. 코드 덩어리(쉽게 말하면..)\n",
        "2. 코드를 재사용 할 수 있으며, 실수를 줄일 수 있습니다.\n",
        "3. 코드의 구조를 한 눈에 파악할 수 있습니다.\n"
      ],
      "metadata": {
        "id": "Lwu8J79i8N7q"
      }
    },
    {
      "cell_type": "code",
      "source": [
        "def 부지매입():\n",
        "    pass\n",
        "\n",
        "def 설계도면작성():\n",
        "    pass\n",
        "\n",
        "def 인력모집():\n",
        "    pass\n",
        "\n",
        "def 벽돌쌓기():\n",
        "    pass\n",
        "\n",
        "def 지붕올리기():\n",
        "    pass\n",
        "\n",
        "# 건축 또는 집짓기?\n",
        "# 신입사원이 왔을 때\n",
        "# 3년에 한 번 이직\n",
        "# 7년에 한 번 이직\n",
        "# 오래 있으신 분들\n",
        "부지매입()\n",
        "설계도면작성()\n",
        "인력모집()\n",
        "벽돌쌓기() # 10만줄\n",
        "벽돌쌓기() # 10만줄\n",
        "벽돌쌓기() # 10만줄\n",
        "지붕올리기()"
      ],
      "metadata": {
        "id": "qQGoe3S_8Gym"
      },
      "execution_count": null,
      "outputs": []
    },
    {
      "cell_type": "code",
      "source": [
        "# 파선아실(파라미터는 선언할 때, 아규먼트는 실제)\n",
        "def function(x, y):\n",
        "    z = x + y\n",
        "    return z\n",
        "print(f'function(5, 7) = {function(5, 7)}')"
      ],
      "metadata": {
        "id": "SHH3qR4F-mdK"
      },
      "execution_count": null,
      "outputs": []
    },
    {
      "cell_type": "code",
      "source": [
        "# 같은 코드 1\n",
        "def function(x, y):\n",
        "    z = x + y\n",
        "print(f'function(5, 7) = {function(5, 7)}')"
      ],
      "metadata": {
        "id": "MLfycS23_kDj"
      },
      "execution_count": null,
      "outputs": []
    },
    {
      "cell_type": "code",
      "source": [
        "# 같은 코드 2\n",
        "def function(x, y):\n",
        "    z = x + y\n",
        "    return None\n",
        "print(f'function(5, 7) = {function(5, 7)}')"
      ],
      "metadata": {
        "id": "vaAS6ZJ2_mDq"
      },
      "execution_count": null,
      "outputs": []
    },
    {
      "cell_type": "code",
      "source": [
        "# 같은 코드 3\n",
        "def function(x, y):\n",
        "    z = x + y\n",
        "    return\n",
        "print(f'function(5, 7) = {function(5, 7)}')"
      ],
      "metadata": {
        "id": "ZPy1ZEWe_w4r"
      },
      "execution_count": null,
      "outputs": []
    },
    {
      "cell_type": "code",
      "source": [
        "def hello():\n",
        "    print('1')\n",
        "    print('2')\n",
        "    print('3')\n",
        "\n",
        "print(hello())"
      ],
      "metadata": {
        "id": "9I9ao7VU-OpX"
      },
      "execution_count": null,
      "outputs": []
    },
    {
      "cell_type": "code",
      "source": [
        "# 함수 연습문제 1\n",
        "def one():\n",
        "    print('one1')\n",
        "    print('one2')\n",
        "    print('one3')\n",
        "    return 100\n",
        "def two():\n",
        "    print('two1')\n",
        "    print('two2')\n",
        "    one()\n",
        "    return\n",
        "\n",
        "print(two())"
      ],
      "metadata": {
        "id": "SPNjFpuyAfpO"
      },
      "execution_count": null,
      "outputs": []
    },
    {
      "cell_type": "code",
      "source": [
        "# 함수 연습문제 2\n",
        "def one():\n",
        "    print('one1')\n",
        "    print('one2')\n",
        "    print('one3')\n",
        "    return 100\n",
        "def two():\n",
        "    print('two1')\n",
        "    print('two2')\n",
        "    x = one()\n",
        "    return x+x\n",
        "\n",
        "print(two())"
      ],
      "metadata": {
        "id": "NeVakUeSBcWg"
      },
      "execution_count": null,
      "outputs": []
    },
    {
      "cell_type": "code",
      "source": [
        "# 함수 연습문제 3\n",
        "def one(a, b):\n",
        "    print('one1')\n",
        "    print('one2')\n",
        "    print('one3')\n",
        "    return a + b\n",
        "\n",
        "def two(x):\n",
        "    y = 100\n",
        "    print('two1')\n",
        "    print('two2')\n",
        "    x = one(x, y)\n",
        "    return x + x\n",
        "\n",
        "print(two(10))"
      ],
      "metadata": {
        "id": "xf8yj2iYCSqZ"
      },
      "execution_count": null,
      "outputs": []
    },
    {
      "cell_type": "code",
      "source": [
        "# 함수 연습 문제 4\n",
        "def one():\n",
        "    print('one')\n",
        "    return 10\n",
        "\n",
        "def two():\n",
        "    print('two')\n",
        "    return 10\n",
        "\n",
        "def three():\n",
        "    print('three')\n",
        "    return 10\n",
        "\n",
        "a = one()\n",
        "b = two()\n",
        "c = three()\n",
        "print(a+b)\n",
        "print(a+b+c)"
      ],
      "metadata": {
        "id": "SVLoUAI0EDjj"
      },
      "execution_count": null,
      "outputs": []
    },
    {
      "cell_type": "code",
      "source": [
        "# 함수란 무엇일까요?\n",
        "# 함수의 이름은 메모리 상에 코드 블럭을 가리키는 변수입니다.\n",
        "suha = print\n",
        "suha('hello') # 소괄호는 그 함수 블록을 실행시키는 명령어가 됩니다."
      ],
      "metadata": {
        "id": "EPhAHOmhIxT4"
      },
      "execution_count": null,
      "outputs": []
    },
    {
      "cell_type": "code",
      "source": [
        "id(suha), id(print)"
      ],
      "metadata": {
        "id": "xR2cp7w5Jcps"
      },
      "execution_count": null,
      "outputs": []
    },
    {
      "cell_type": "code",
      "source": [
        "l = [suha, print, suha, print]\n",
        "l[0]('hello')\n",
        "suha('hello')"
      ],
      "metadata": {
        "id": "OCyLY0QxJf5b"
      },
      "execution_count": null,
      "outputs": []
    },
    {
      "cell_type": "code",
      "source": [
        "def hello(a):\n",
        "    a('hello')\n",
        "    a('hello')\n",
        "    a('hello')\n",
        "\n",
        "print(hello(print))"
      ],
      "metadata": {
        "id": "k7PvXJShJ3JN"
      },
      "execution_count": null,
      "outputs": []
    },
    {
      "cell_type": "code",
      "source": [
        "def hello():\n",
        "    def custom_sum(a,b):\n",
        "        return a+b\n",
        "    return custom_sum\n",
        "\n",
        "c = hello() # c는 custom_sum을 가리킴\n",
        "c(10, 100)"
      ],
      "metadata": {
        "id": "9ktPcrLAKd9i"
      },
      "execution_count": null,
      "outputs": []
    },
    {
      "cell_type": "code",
      "source": [
        "def hello(a):\n",
        "    return a\n",
        "    \n",
        "c = hello(print)\n",
        "c(10, 100)"
      ],
      "metadata": {
        "id": "Mew9DVnFL_bd"
      },
      "execution_count": null,
      "outputs": []
    },
    {
      "cell_type": "markdown",
      "source": [
        "## 함수의 기본 기능 "
      ],
      "metadata": {
        "id": "TZOf13aPMdb1"
      }
    },
    {
      "cell_type": "code",
      "source": [
        "# 파선아실(파라미터는 선언할 때, 아규먼트는 실제)\n",
        "def function(x, y):\n",
        "    z = x + y\n",
        "    return z\n",
        "print(f'function(5, 7) = {function(5, 7)}')"
      ],
      "metadata": {
        "id": "3tcNRO4RMf8N"
      },
      "execution_count": null,
      "outputs": []
    },
    {
      "cell_type": "code",
      "source": [
        "# return을 만나게 되면 함수는 종료가 됩니다.\n",
        "def function(x, y):\n",
        "    z = x + y\n",
        "    return z\n",
        "    print('hello')\n",
        "    print('hello')\n",
        "print(function(5, 7))"
      ],
      "metadata": {
        "id": "ZNiURYQ-MuQb"
      },
      "execution_count": null,
      "outputs": []
    },
    {
      "cell_type": "code",
      "source": [
        "# return을 빨리 만나게 해주세요.\n",
        "# early return\n",
        "# 조건이 부합하지 않으면 바로 return을 하도록 하는 코딩 패턴\n",
        "# 이렇게 작성함으로써, 가독성이 좋은 코드\n",
        "def custom_sum(x, y):\n",
        "    if (type(x) != int and type(x) != float) or (type(y) != int and type(y) != float):\n",
        "        return '연산할 수 없습니다.'\n",
        "    z = x + y # 100줄이라 가정\n",
        "    return z\n",
        "print(custom_sum(5,5))"
      ],
      "metadata": {
        "id": "DvqYTXFONGPS"
      },
      "execution_count": null,
      "outputs": []
    },
    {
      "cell_type": "code",
      "source": [
        "# 한글코딩의 장점\n",
        "# 1. 고유명사(한라산, 새싹멤버) -> 기획자와 소통하기도 좋습니다.\n",
        "# 2. 알고리즘 가독성이 괜찮습니다. 프로젝트는 힘들수도 있어요 특정 모듈에서..\n",
        "\n",
        "# 한글코딩의 단점\n",
        "# 1. 싫어하시는 분도 많습니다\n",
        "# 2. 한영키 바꾸는 것"
      ],
      "metadata": {
        "id": "oL6-eFiRPHFt"
      },
      "execution_count": null,
      "outputs": []
    },
    {
      "cell_type": "code",
      "source": [
        "# 함수 안에 함수와 함수 안에 변수는 밖에서 호출이 안됩니다.\n",
        "# 아래것이 만약 실행되었다면 위 어딘가에서 two와 x가 정의되어 있는 것입니다.\n",
        "def one():\n",
        "    def two():\n",
        "        print('hello1')\n",
        "    def three():\n",
        "        print('hello2')\n",
        "    two()\n",
        "    three()\n",
        "    x = 1000\n",
        "    return 100\n",
        "\n",
        "one()\n",
        "print(x)\n",
        "two()"
      ],
      "metadata": {
        "id": "SfL44kl4QYCi"
      },
      "execution_count": null,
      "outputs": []
    },
    {
      "cell_type": "code",
      "source": [
        "# 함수 안에 함수와 함수 안에 변수를 해봤으니\n",
        "# 이번에는 함수 밖에 함수와 함수 밖에 변수를 해보도록 하겠습니다.\n",
        "\n",
        "def test():\n",
        "    print('test')\n",
        "\n",
        "def one():\n",
        "    test()\n",
        "\n",
        "def two():\n",
        "    test()\n",
        "\n",
        "one()\n",
        "two()\n",
        "test()"
      ],
      "metadata": {
        "id": "K-1klAl4RxNY"
      },
      "execution_count": null,
      "outputs": []
    },
    {
      "cell_type": "code",
      "source": [
        "# 위 원리와 마찬가지로 \n",
        "# \n",
        "\n",
        "def test():\n",
        "    print('test')\n",
        "\n",
        "def one():\n",
        "    \bprint('test')\n",
        "\n",
        "def two():\n",
        "    print('test')\n",
        "\n",
        "one()\n",
        "two()\n",
        "test()"
      ],
      "metadata": {
        "id": "Nk5VTY_LSrxb"
      },
      "execution_count": null,
      "outputs": []
    },
    {
      "cell_type": "code",
      "source": [
        "# 이렇게 하시면 error가 납니다! 밖에 있느 ㄴ변수는 수정이 안됩니다.\n",
        "test = 10\n",
        "\n",
        "def one():\n",
        "    test = test +10\n",
        "\n",
        "one()"
      ],
      "metadata": {
        "id": "iyVknecZS5qb"
      },
      "execution_count": null,
      "outputs": []
    },
    {
      "cell_type": "markdown",
      "source": [
        "## 지역 변수와 전역 변수"
      ],
      "metadata": {
        "id": "sjyXtMfOTAYp"
      }
    },
    {
      "cell_type": "code",
      "source": [
        "# 전역변수 접근은 가능하지만 수정이 되진 않습니다.\n",
        "a = 100\n",
        "def f():\n",
        "    a = a + 1\n",
        "f()"
      ],
      "metadata": {
        "id": "mLqIphUmTC16"
      },
      "execution_count": null,
      "outputs": []
    },
    {
      "cell_type": "code",
      "source": [
        "# 전역변수를 함수 내부에서 수정이 되게 하는 코드입니다.\n",
        "# 권하지 않습니다.\n",
        "a = 100\n",
        "def f():\n",
        "    global a # 실무에서 사용 안합니다.\n",
        "    a = a + 1\n",
        "f()"
      ],
      "metadata": {
        "id": "0HtbFq39XLvN"
      },
      "execution_count": null,
      "outputs": []
    },
    {
      "cell_type": "code",
      "source": [
        "# 정해진 루트 외에 다른 루트로 해당 값을 수정하려고 하지 마세요\n",
        "a = 100\n",
        "def f(x):\n",
        "    x = x + 1\n",
        "    return x\n",
        "a = f(a)\n",
        "print(a)"
      ],
      "metadata": {
        "id": "_qEf-ttAXt5g"
      },
      "execution_count": null,
      "outputs": []
    },
    {
      "cell_type": "code",
      "source": [
        "# 순수함수\n",
        "def f(x):\n",
        "    return x + x + 100\n",
        "f(10)\n",
        "f(20)\n",
        "# 아규먼트 값에 따라 다르지만\n",
        "# 아규먼트에 2배해서 100이 더해진다는 사실은 변하지 않죠?"
      ],
      "metadata": {
        "id": "KWOdkbdlX_T8"
      },
      "execution_count": null,
      "outputs": []
    },
    {
      "cell_type": "code",
      "source": [
        "test = 100\n",
        "def f(x):\n",
        "    return x + x + 100 + test\n",
        "f(10)\n",
        "# 아규먼트 값에 따라 다르지만\n",
        "# 아규먼트에 2배해서 100이 더해진다는 사실은 변하지 않죠?\n",
        "# 그렇지 않습니다. test값이 다른 곳에서 조작이 되면\n",
        "# 더해지는 값이 200이 안될 수도 있죠.\n",
        "# 예측이 불가한것!"
      ],
      "metadata": {
        "id": "4o9Z5UKRYTDn"
      },
      "execution_count": null,
      "outputs": []
    },
    {
      "cell_type": "code",
      "source": [
        "# 지역변수와 전역변수 이어서\n",
        "# 전역변수 : 전역에서 접근할 수 있는 변수(수정이라고 안함)\n",
        "# 지역변수 : 함수 내에서만 접근할 수 있는 변수"
      ],
      "metadata": {
        "id": "N20Z2FDMY0r3"
      },
      "execution_count": null,
      "outputs": []
    },
    {
      "cell_type": "code",
      "source": [
        "# 어려우신 분들은 pass!\n",
        "# 조금 있다가 요약정리에서도 써드리지 않을 예정입니다.\n",
        "# 자신의 공간에 변수가 선언되어 있지 않으면\n",
        "# 전역까지 찾아 올라갑니다. 전역에도 없으면 error\n",
        "\n",
        "a = 100\n",
        "def one():\n",
        "    a = 10\n",
        "    def two():\n",
        "        def three():\n",
        "            a = 1000\n",
        "            print(a)\n",
        "        three()\n",
        "        print(a)\n",
        "    two()\n",
        "    print(a)\n",
        "\n",
        "one()\n",
        "print(a)"
      ],
      "metadata": {
        "id": "KjhajsH-ZZCY"
      },
      "execution_count": null,
      "outputs": []
    },
    {
      "cell_type": "code",
      "source": [
        "x = 100\n",
        "def outer():\n",
        "    x = 1\n",
        "    def inner():\n",
        "        global x # global\n",
        "        x += 1\n",
        "        print(x)\n",
        "    inner()\n",
        "    print(x)\n",
        "\n",
        "outer()\n",
        "print(x)"
      ],
      "metadata": {
        "id": "sEqc9bfwb4cj"
      },
      "execution_count": null,
      "outputs": []
    },
    {
      "cell_type": "code",
      "source": [
        "# error가 나는 코드\n",
        "x = 100\n",
        "def outer():\n",
        "    x = 1\n",
        "    def inner():\n",
        "        x += 1\n",
        "        print(x)\n",
        "    inner()\n",
        "    print(x)\n",
        "\n",
        "outer()\n",
        "print(x)"
      ],
      "metadata": {
        "id": "aTwfNQZacDsj"
      },
      "execution_count": null,
      "outputs": []
    },
    {
      "cell_type": "code",
      "source": [
        "# inner가 outer에 변수를 건드리고 싶은데\n",
        "# inner 안에서는 x의 수정권한이 전혀 없습니다.\n",
        "x = 100\n",
        "def outer():\n",
        "    x = 1\n",
        "    def inner():\n",
        "        nonlocal x\n",
        "        x += 1\n",
        "        print(x)\n",
        "    inner()\n",
        "    print(x)\n",
        "\n",
        "outer()\n",
        "print(x)"
      ],
      "metadata": {
        "id": "BDOlHFxPbV-u"
      },
      "execution_count": null,
      "outputs": []
    },
    {
      "cell_type": "markdown",
      "source": [
        "## 재귀함수"
      ],
      "metadata": {
        "id": "DvVb6h9Ecc2J"
      }
    },
    {
      "cell_type": "markdown",
      "source": [
        "* 내가 나를 호출하는 것입니다.\n",
        "* 재귀 <-> for문은 대부분 호환이 가능합니다.\n",
        "* 반복문 사용하시기를 권합니다!\n",
        "* 어렵고 효율도 안좋아요!\n",
        "* 필수적으로 사용하는 곳이 있습니다."
      ],
      "metadata": {
        "id": "jpJ1swNCcfVQ"
      }
    },
    {
      "cell_type": "code",
      "source": [
        "#sys.setrecursionlimit -> 제한을 늘릴 수 있음\n",
        "def 숫자출력():\n",
        "    print(1)\n",
        "    return 숫자출력()\n",
        "숫자출력()"
      ],
      "metadata": {
        "id": "gXj4W1YGd9Eu"
      },
      "execution_count": null,
      "outputs": []
    },
    {
      "cell_type": "code",
      "source": [
        "# for로 팩토리얼\n",
        "# 5! = 5 * 4 * 3 * 2 * 1\n",
        "\n",
        "result = 1\n",
        "for i in range(1,6):\n",
        "    result *= i\n",
        "# 1 * 2 * 3 * 4 * 5 \n",
        "result"
      ],
      "metadata": {
        "id": "LOCUupEtd9hf"
      },
      "execution_count": null,
      "outputs": []
    },
    {
      "cell_type": "code",
      "source": [
        "# 재귀로 팩토리얼\n",
        "\n",
        "def f(n):\n",
        "    if n<=1:\n",
        "        return 1\n",
        "    else:\n",
        "        return n*f(n-1)\n",
        "\n",
        "f(5)\n",
        "'''\n",
        "f(5) 5 * f(4) == 5  4 * 3 * 2\n",
        "f(4) 4 * f(3) == 4 * 3 * 2\n",
        "f(3) 3 * f(2) == 3 * 2\n",
        "f(2) 2 * f(1) == 2 * 1\n",
        "f(1) 1\n",
        "'''"
      ],
      "metadata": {
        "id": "_SGREoySeU-j"
      },
      "execution_count": null,
      "outputs": []
    },
    {
      "cell_type": "code",
      "source": [
        "# for로 문자열 거꾸로 출력하기\n",
        "s = 'hello'\n",
        "result = ''\n",
        "\n",
        "for i in s:\n",
        "    result = i + result\n",
        "\n",
        "result\n",
        "'''\n",
        "result = 'h' + ''\n",
        "result = 'e' + 'h'\n",
        "result = 'l' + 'eh'\n",
        "result = 'l' + 'leh'\n",
        "result = 'o' + 'lleh'\n",
        "'''\n",
        "# 실무에서는 이렇게 거꾸로 만들지 않습니다.\n",
        "# 슬라이싱이 일반 for문보다 8배 빠릅니다.\n",
        "# s[::-1] 이렇게 쓰시면 됩니다."
      ],
      "metadata": {
        "id": "BiFJ_cJqflKP"
      },
      "execution_count": null,
      "outputs": []
    },
    {
      "cell_type": "code",
      "source": [
        "def reverse(s):\n",
        "    if len(s) == 1:\n",
        "        return s\n",
        "    else:\n",
        "        return reverse(s[1:])+s[0]\n",
        "\n",
        "reverse('hello')\n",
        "\n",
        "'''\n",
        "reverse('hello') reverse(ello)+'h' == 'olle' + 'h'\n",
        "reverse('ello')  reverse(llo)+'e'  == 'oll' + 'e'\n",
        "reverse('llo')   reverse(lo)+'l'   == 'ol' + 'l'\n",
        "reverse('lo')    reverse(lo)+'l'   == 'o'+'l'\n",
        "reverse('o')     'o'\n",
        "reverse('o')     \n",
        "'''"
      ],
      "metadata": {
        "id": "Z8Y_PNEFgaog"
      },
      "execution_count": null,
      "outputs": []
    },
    {
      "cell_type": "code",
      "source": [
        "# 피보나치\n",
        "# 재귀가 얼마나 비효율적인지 보여드리기 위해서 진행\n",
        "# 1 1 2 3 5 8 13 21\n",
        "\n",
        "curr = 1\n",
        "next = 1\n",
        "for i in range(1, 6):\n",
        "    curr, next = next, curr + next\n",
        "\n",
        "next"
      ],
      "metadata": {
        "id": "JFAnwTJMz-70"
      },
      "execution_count": null,
      "outputs": []
    },
    {
      "cell_type": "code",
      "source": [
        "# 피보나치 재귀\n",
        "\n",
        "def f(n):\n",
        "    if n == 1 or n==2 :\n",
        "        return 1\n",
        "    return f(n-1)+f(n-2)\n",
        "\n",
        "for i in range(1,8):\n",
        "    print(f(i))"
      ],
      "metadata": {
        "id": "seCU1Q2H1a4i"
      },
      "execution_count": null,
      "outputs": []
    },
    {
      "cell_type": "code",
      "source": [
        "# 재귀의 비효율을 이렇게 해결할 수는 있다를 보여드리기 위함\n",
        "# but 가능하면 for을 이용하세요 \n",
        "from functools import lru_cache\n",
        "\n",
        "@lru_cache(maxsize=None)\n",
        "def fib(num):\n",
        "    if num == 0:\n",
        "        return 0\n",
        "    if num == 1 or num == 2:\n",
        "        return 1\n",
        "    else:\n",
        "        return fib(num-1) + fib(num-2)\n",
        "\n",
        "fib(40)"
      ],
      "metadata": {
        "id": "Ac4GpjGI3LWu"
      },
      "execution_count": null,
      "outputs": []
    },
    {
      "cell_type": "markdown",
      "source": [
        "## !! 연습문제"
      ],
      "metadata": {
        "id": "H7ERqDwZ7hI2"
      }
    },
    {
      "cell_type": "code",
      "source": [
        "# 1번\n",
        "a = 'pithon'\n",
        "\n",
        "def 함수1():\n",
        "    def 함수2():\n",
        "        print('love')\n",
        "        \n",
        "    print('I')\n",
        "    함수2()\n",
        "    return \"python\"\n",
        "\t\n",
        "\n",
        "a = 함수1()\n",
        "print(a)\n",
        "\n",
        "# I\n",
        "# love\n",
        "# python\n",
        "\n",
        "# 2번\n",
        "# 실력이 있으신 분은 견고한 코드가 될 수 있도록 해주셔야 합니다.\n",
        "\n",
        "# def plus(num1, num2):\n",
        "#     try:\n",
        "#         return num1 + num2\n",
        "#     except:\n",
        "#         return float('inf')\n",
        "\n",
        "def plus(num1, num2):\n",
        "    if type(num1) == int and type(num2) == int\n",
        "\treturn num1+num2\n",
        "return '정수가 아니기에 연산할 수 없습니다.'\n",
        "\n",
        "# plus = lambda num1, num2 : num1 + num2\n",
        "# minus = lambda num1, num2 : num1 - num2\n",
        "# multiply = lambda num1, num2 : num1 / num2\n",
        "# divide = lambda num1, num2 : num1 * num2\n",
        "\n",
        "def minus(num1, num2):\n",
        "\treturn num1-num2\n",
        "\n",
        "def multiply(num1, num2):\n",
        "\treturn num1*num2\n",
        "\n",
        "def divide(num1, num2):\n",
        "\treturn num1/num2\n",
        "\n",
        "print(f'plus : {plus(10, 5)}')\n",
        "print(f'minus : {minus(10, 5)}')\n",
        "print(f'multiply : {multiply(10, 5)}')\n",
        "print(f'divide : {divide(10, 5)}')\n",
        "\n",
        "# 3번\n",
        "def power(x,n):\n",
        "    if n <= 1:\n",
        "        return x\n",
        "    return x*power(x, n-1)\n",
        "\n",
        "power(5,3)\n",
        "\n",
        "# 최승현님이 시간복잡도 고려해서 쓴 코드\n",
        "# 이렇게 하면 재귀를 Log(N,2)만 호출할 수 있어서 이득입니다\n",
        "# 분할정복을 보면 이해가 쉽다는 김영민님의 말씀\n",
        "# def my_pow(num1, num2):\n",
        "#     if num2 == 0:\n",
        "#         return 1\n",
        "#     if num2 == 1:\n",
        "#         return num1\n",
        "#     if num2 % 2 == 0:\n",
        "#         half = my_pow(num1, num2 // 2)\n",
        "#         return half * half\n",
        "#     else:\n",
        "#         half = my_pow(num1, num2 // 2)\n",
        "#         return half * half * num1"
      ],
      "metadata": {
        "id": "s8-xCsbr4HP0"
      },
      "execution_count": null,
      "outputs": []
    },
    {
      "cell_type": "code",
      "source": [
        "# 재귀함수를 사용해서 푼 것은 아니고\n",
        "# 팩토리 함수라고도 하고, 클로져라고도 합니다\n",
        "def 제곱(x):\n",
        "    def 승수(y):\n",
        "        return x**y\n",
        "    return 승수\n",
        "\n",
        "제곱3 = 제곱(3) # 수정되지 말아야 할 변수를 이렇게 실행해버리면 보호가 가능함\n",
        "제곱3(4)"
      ],
      "metadata": {
        "id": "8lK27zExDS6q"
      },
      "execution_count": null,
      "outputs": []
    },
    {
      "cell_type": "markdown",
      "source": [
        "## list(리스트)"
      ],
      "metadata": {
        "id": "304xHha8FUy7"
      }
    },
    {
      "cell_type": "markdown",
      "source": [
        "* 순서를 가진 데이터들의 집합(sequence)\n",
        "* 리스트는 값의 변경 가능\n",
        "* 리스트 안에 리스트로 다차원의 리스트를 만드는 것도 가능\n",
        "* 리스트 안에 다른 딕셔너리, 셋, 튜플등을 넣는 것도 가능합니다."
      ],
      "metadata": {
        "id": "Z5gCGdb6FXDA"
      }
    },
    {
      "cell_type": "code",
      "source": [
        "l = [1000, 2000, 3000, 1000, 2000, 3000]\n",
        "id(l[0]), id(l[3])"
      ],
      "metadata": {
        "id": "3yD3fY7DFlqC"
      },
      "execution_count": null,
      "outputs": []
    },
    {
      "cell_type": "code",
      "source": [
        "# 컨벤션 자료형(딕셔너리, 튜플, 셋, 리스트에서는)\n",
        "# 메모리 효율을 위해\n",
        "# 같은 값이 있을 경우 같은 곳을 가리키게 설계되어 있습니다."
      ],
      "metadata": {
        "id": "KLV5uFpYF8Nt"
      },
      "execution_count": null,
      "outputs": []
    },
    {
      "cell_type": "code",
      "source": [
        "l = [10, 20, 30, 40]\n",
        "l[0] = 1000\n",
        "l"
      ],
      "metadata": {
        "id": "f7jgv_JKGIdF"
      },
      "execution_count": null,
      "outputs": []
    },
    {
      "cell_type": "code",
      "source": [
        "s = 'hello world'\n",
        "s[0] = k # error\n",
        "s"
      ],
      "metadata": {
        "id": "N-neKELsGdJ2"
      },
      "execution_count": null,
      "outputs": []
    },
    {
      "cell_type": "code",
      "source": [
        "data = [[1,2,3],\n",
        "        [4,5,6],\n",
        "        [7,8,9]]\n",
        "\n",
        "data"
      ],
      "metadata": {
        "id": "OQMq-fGbGkr9"
      },
      "execution_count": null,
      "outputs": []
    },
    {
      "cell_type": "code",
      "source": [
        "for i in range(3):\n",
        "    for j in range(3):\n",
        "        data[i][j] *= 2\n",
        "\n",
        "data"
      ],
      "metadata": {
        "id": "55THiumjGxqb"
      },
      "execution_count": null,
      "outputs": []
    },
    {
      "cell_type": "code",
      "source": [
        "'''\n",
        "3         = 스칼라\n",
        "[3, 4]    = 벡터\n",
        "[[1,2,3], == 매트릭스(행렬)\n",
        "[4,5,6],\n",
        "[7,8,9]]\n",
        "\n",
        "[[[1],[2],[3]], == 텐서(다차원, 3차원 이상)\n",
        "[[4],[5],[6]],\n",
        "[[7],[8],[9]]]\n",
        "\n",
        "텐서플로우 : 인공지능 유명한 라이브러리\n",
        "'''"
      ],
      "metadata": {
        "id": "R2dliPSaH36O"
      },
      "execution_count": null,
      "outputs": []
    },
    {
      "cell_type": "code",
      "source": [
        "# 리스트에서 주의해야 하는 연산!\n",
        "x = [10] * 3\n",
        "x"
      ],
      "metadata": {
        "colab": {
          "base_uri": "https://localhost:8080/"
        },
        "id": "3JLH0HhsIwVF",
        "outputId": "db051f94-39aa-400a-88d3-a391b6f03688"
      },
      "execution_count": null,
      "outputs": [
        {
          "output_type": "execute_result",
          "data": {
            "text/plain": [
              "[10, 10, 10]"
            ]
          },
          "metadata": {},
          "execution_count": 10
        }
      ]
    },
    {
      "cell_type": "code",
      "source": [
        "x[0] = 100\n",
        "x"
      ],
      "metadata": {
        "colab": {
          "base_uri": "https://localhost:8080/"
        },
        "id": "Bs96WJ4PI2NO",
        "outputId": "7cb28f4e-532c-46e6-8955-85513bcccb03"
      },
      "execution_count": null,
      "outputs": [
        {
          "output_type": "execute_result",
          "data": {
            "text/plain": [
              "[100, 10, 10]"
            ]
          },
          "metadata": {},
          "execution_count": 11
        }
      ]
    },
    {
      "cell_type": "code",
      "source": [
        "x = [[10] * 2] * 3\n",
        "x"
      ],
      "metadata": {
        "colab": {
          "base_uri": "https://localhost:8080/"
        },
        "id": "B_CcR9erI85m",
        "outputId": "fffa0947-9e28-41c2-e7a5-5ba306b5c816"
      },
      "execution_count": null,
      "outputs": [
        {
          "output_type": "execute_result",
          "data": {
            "text/plain": [
              "[[10, 10], [10, 10], [10, 10]]"
            ]
          },
          "metadata": {},
          "execution_count": 12
        }
      ]
    },
    {
      "cell_type": "code",
      "source": [
        "x[0][0] = 100\n",
        "x"
      ],
      "metadata": {
        "colab": {
          "base_uri": "https://localhost:8080/"
        },
        "id": "MgxtDbwbJBkY",
        "outputId": "0992635f-7598-4e86-bb8a-e9c1f02aac30"
      },
      "execution_count": null,
      "outputs": [
        {
          "output_type": "execute_result",
          "data": {
            "text/plain": [
              "[[100, 10], [100, 10], [100, 10]]"
            ]
          },
          "metadata": {},
          "execution_count": 13
        }
      ]
    },
    {
      "cell_type": "code",
      "source": [
        "x = [[[10] * 3] * 3] * 4\n",
        "x[0][0][0] = 1000\n",
        "x"
      ],
      "metadata": {
        "colab": {
          "base_uri": "https://localhost:8080/"
        },
        "id": "TC445IFKJr9t",
        "outputId": "4f88f5d2-9a93-4adb-c5a7-3fce8d1ad83e"
      },
      "execution_count": null,
      "outputs": [
        {
          "output_type": "execute_result",
          "data": {
            "text/plain": [
              "[[[1000, 10, 10], [1000, 10, 10], [1000, 10, 10]],\n",
              " [[1000, 10, 10], [1000, 10, 10], [1000, 10, 10]],\n",
              " [[1000, 10, 10], [1000, 10, 10], [1000, 10, 10]],\n",
              " [[1000, 10, 10], [1000, 10, 10], [1000, 10, 10]]]"
            ]
          },
          "metadata": {},
          "execution_count": 14
        }
      ]
    },
    {
      "cell_type": "code",
      "source": [
        "[1,2,3]+[1,2,3] # 많이 사용합니다"
      ],
      "metadata": {
        "colab": {
          "base_uri": "https://localhost:8080/"
        },
        "id": "pJLF3E6bNARM",
        "outputId": "48c06190-701f-4cd7-ef0e-5a23521d6c27"
      },
      "execution_count": null,
      "outputs": [
        {
          "output_type": "execute_result",
          "data": {
            "text/plain": [
              "[1, 2, 3, 1, 2, 3]"
            ]
          },
          "metadata": {},
          "execution_count": 15
        }
      ]
    },
    {
      "cell_type": "code",
      "source": [
        "id(x[0][0]), id(x[0][1])"
      ],
      "metadata": {
        "colab": {
          "base_uri": "https://localhost:8080/"
        },
        "id": "4KFrE0Z3J_UF",
        "outputId": "46e667e5-51ad-41c5-cc72-5418cca96167"
      },
      "execution_count": null,
      "outputs": [
        {
          "output_type": "execute_result",
          "data": {
            "text/plain": [
              "(140282089232896, 140282089232896)"
            ]
          },
          "metadata": {},
          "execution_count": 16
        }
      ]
    },
    {
      "cell_type": "code",
      "source": [
        "l = [10, 20, 30]\n",
        "type(l), dir(l), help(l)"
      ],
      "metadata": {
        "id": "Abfdj5kyKE_d"
      },
      "execution_count": null,
      "outputs": []
    },
    {
      "cell_type": "markdown",
      "source": [
        "## 리스트의 메소드"
      ],
      "metadata": {
        "id": "FriaM6DdNRJK"
      }
    },
    {
      "cell_type": "code",
      "source": [
        "# 'append', 'clear', 'copy', 'count', 'extend', 'index', \n",
        "# 'insert', 'pop', 'remove', 'reverse', 'sort'"
      ],
      "metadata": {
        "id": "2BQ65IO_NNkX"
      },
      "execution_count": null,
      "outputs": []
    },
    {
      "cell_type": "code",
      "source": [
        "l = [1,2,3]\n",
        "l.append(4) # 요소 한개 추가\n",
        "l"
      ],
      "metadata": {
        "id": "_xHUdE7NNjXg"
      },
      "execution_count": null,
      "outputs": []
    },
    {
      "cell_type": "code",
      "source": [
        "l = [1,2,3]\n",
        "l.extend(4) # error\n",
        "l"
      ],
      "metadata": {
        "id": "CHD0QBJ7Nvqe"
      },
      "execution_count": null,
      "outputs": []
    },
    {
      "cell_type": "code",
      "source": [
        "l = [1,2,3]\n",
        "l.extend([1,2,3]) # 요소 여러개 추가\n",
        "l"
      ],
      "metadata": {
        "id": "CjtroF5sN3SX"
      },
      "execution_count": null,
      "outputs": []
    },
    {
      "cell_type": "code",
      "source": [
        "l = [1,2,3]\n",
        "l.extend({'one':10, 'two':20}) # 요소 여러개 추가\n",
        "l"
      ],
      "metadata": {
        "id": "NSjTuuhaOU5-"
      },
      "execution_count": null,
      "outputs": []
    },
    {
      "cell_type": "code",
      "source": [
        "l = [1,2,3]\n",
        "l.extend({10,20,30}) # 요소 여러개 추가\n",
        "l"
      ],
      "metadata": {
        "id": "KU28xAlbOZ-B"
      },
      "execution_count": null,
      "outputs": []
    },
    {
      "cell_type": "code",
      "source": [
        "l = [10, 20, 30]\n",
        "l.clear()\n",
        "l"
      ],
      "metadata": {
        "id": "x-5wRciKOy56"
      },
      "execution_count": null,
      "outputs": []
    },
    {
      "cell_type": "code",
      "source": [
        "l = [10, 20, 30]\n",
        "l = []\n",
        "l"
      ],
      "metadata": {
        "id": "d0BG3zmqOxMa"
      },
      "execution_count": null,
      "outputs": []
    },
    {
      "cell_type": "code",
      "source": [
        "제주과일가게 = [['바나나', 1000], ['수박', 2000], ['딸기', 3000]]\n",
        "서울과일가게 = 제주과일가게 # 등호 사용하면 같은 곳을 가리킴(동일한 주소)\n",
        "서울과일가게[0] = ['바나나', 2000]\n",
        "서울과일가게, 제주과일가게 "
      ],
      "metadata": {
        "colab": {
          "base_uri": "https://localhost:8080/"
        },
        "id": "EGfV-zFPPG0b",
        "outputId": "0f752e55-d6e4-4203-dacf-f05a91309a11"
      },
      "execution_count": null,
      "outputs": [
        {
          "output_type": "execute_result",
          "data": {
            "text/plain": [
              "([['바나나', 2000], ['수박', 2000], ['딸기', 3000]],\n",
              " [['바나나', 2000], ['수박', 2000], ['딸기', 3000]])"
            ]
          },
          "metadata": {},
          "execution_count": 20
        }
      ]
    },
    {
      "cell_type": "code",
      "source": [
        "# 이 이상의 내용은 뒤에 얕은 복사와 깊은 복사에서 알아봅니다.\n",
        "제주과일가게 = [['바나나', 1000], ['수박', 2000], ['딸기', 3000]]\n",
        "서울과일가게 = 제주과일가게.copy() # 얕은 복사\n",
        "# 서울과일가게 = 제주과일가게.[:]  # 얕은 복사\n",
        "서울과일가게[0] = ['바나나', 2000]\n",
        "서울과일가게, 제주과일가게"
      ],
      "metadata": {
        "colab": {
          "base_uri": "https://localhost:8080/"
        },
        "id": "-XHx1e7_PwJq",
        "outputId": "37abf1aa-a650-486b-e9de-bd2839af0bc9"
      },
      "execution_count": null,
      "outputs": [
        {
          "output_type": "execute_result",
          "data": {
            "text/plain": [
              "([['바나나', 2000], ['수박', 2000], ['딸기', 3000]],\n",
              " [['바나나', 1000], ['수박', 2000], ['딸기', 3000]])"
            ]
          },
          "metadata": {},
          "execution_count": 21
        }
      ]
    },
    {
      "cell_type": "code",
      "source": [
        "s = 'hello world'\n",
        "s[:5]"
      ],
      "metadata": {
        "id": "mc0hS04HQWyh"
      },
      "execution_count": null,
      "outputs": []
    },
    {
      "cell_type": "code",
      "source": [
        "l = [10, 20, 30, 40, 50]\n",
        "l[:3]\n",
        "ll = l[:]\n",
        "ll"
      ],
      "metadata": {
        "id": "pF0zrUZTQaCN"
      },
      "execution_count": null,
      "outputs": []
    },
    {
      "cell_type": "code",
      "source": [
        "id(l), id(ll)"
      ],
      "metadata": {
        "id": "ZK98O86PQjAX"
      },
      "execution_count": null,
      "outputs": []
    },
    {
      "cell_type": "code",
      "source": [
        "제주과일가게 = [['바나나', 1000], ['수박', 2000], ['딸기', 3000]]\n",
        "서울과일가게 = 제주과일가게[:]  # 얕은 복사\n",
        "id(서울과일가게[0]), id(제주과일가게[0])\n",
        "서울과일가게[0][1] = 3000\n",
        "서울과일가게, 제주과일가게 # 같아짐 ??"
      ],
      "metadata": {
        "colab": {
          "base_uri": "https://localhost:8080/"
        },
        "id": "aBy5KTUMQ4Gh",
        "outputId": "144c5dab-5d50-4169-86f1-e659aa7092be"
      },
      "execution_count": null,
      "outputs": [
        {
          "output_type": "execute_result",
          "data": {
            "text/plain": [
              "([['바나나', 3000], ['수박', 2000], ['딸기', 3000]],\n",
              " [['바나나', 3000], ['수박', 2000], ['딸기', 3000]])"
            ]
          },
          "metadata": {},
          "execution_count": 24
        }
      ]
    },
    {
      "cell_type": "code",
      "source": [
        "l = [1,2,3]\n",
        "ll = l[:]\n",
        "l[0] = 1000\n",
        "l, ll"
      ],
      "metadata": {
        "id": "I0Ilcc_mRaF8"
      },
      "execution_count": null,
      "outputs": []
    },
    {
      "cell_type": "code",
      "source": [
        "l = [1,2,3]\n",
        "ll = l.copy()\n",
        "l[0] = 1000\n",
        "l, ll"
      ],
      "metadata": {
        "id": "3TGpBXhHRmVa"
      },
      "execution_count": null,
      "outputs": []
    },
    {
      "cell_type": "code",
      "source": [
        "l = [1,2,3,1,1,1,2,3,2,3,1,1]\n",
        "l.count(1)"
      ],
      "metadata": {
        "id": "SP1ic4zeR5UV"
      },
      "execution_count": null,
      "outputs": []
    },
    {
      "cell_type": "code",
      "source": [
        "a = [10, 1, 1, 11, 2, 23, 12]\n",
        "a.index(11)"
      ],
      "metadata": {
        "id": "gjj2cJv-SREx"
      },
      "execution_count": null,
      "outputs": []
    },
    {
      "cell_type": "code",
      "source": [
        "a = [10, 20, 30]\n",
        "a.insert(2, 10000000)\n",
        "a"
      ],
      "metadata": {
        "id": "tSPjLiaQTkb2"
      },
      "execution_count": null,
      "outputs": []
    },
    {
      "cell_type": "code",
      "source": [
        "l = [10, 20, 30, 40, 50]\n",
        "l.pop(0)\n",
        "l"
      ],
      "metadata": {
        "id": "31DhH-jNTqTt"
      },
      "execution_count": null,
      "outputs": []
    },
    {
      "cell_type": "code",
      "source": [
        "# append : 맨 뒤에 추가\n",
        "# pop : 맨 뒤에서 값을 뽑아내고, index가 들어갈 경우 index에서 뽑습니다.\n",
        "# insert : index에 값을 삽입하고, 원래 있던 값을 뒤로 밉니다."
      ],
      "metadata": {
        "id": "E3mf8DNDT7zA"
      },
      "execution_count": null,
      "outputs": []
    },
    {
      "cell_type": "code",
      "source": [
        "l = [10, 20, 30, 40, 50]\n",
        "l.remove(20) # 예를 들어 for을 돌면서 remove를 하지 않기를 바랍니다. len같은거 오류 생길수도.."
      ],
      "metadata": {
        "id": "hQe2lczzUz7g"
      },
      "execution_count": null,
      "outputs": []
    },
    {
      "cell_type": "code",
      "source": [
        "l = [20, 20, 20, 20]\n",
        "for i in range(len(l)):\n",
        "    print(len(l)) # len가 계속 변하기 때문에 의도치 않은 에러가 날 수 있어요.\n",
        "    l.remove(20)"
      ],
      "metadata": {
        "id": "gNiqMjk4Vt7Q"
      },
      "execution_count": null,
      "outputs": []
    },
    {
      "cell_type": "code",
      "source": [
        "# 무한 반복입니다.\n",
        "l = [20, 20, 20, 20]\n",
        "for i in l:\n",
        "    print(len(l))\n",
        "    l.append(20)"
      ],
      "metadata": {
        "id": "02qWItByVuaZ"
      },
      "execution_count": null,
      "outputs": []
    },
    {
      "cell_type": "code",
      "source": [
        "l = [10, 20, 30, 40, 50, 20, 20, 20]\n",
        "for i in range(l.count(20)):\n",
        "    l.remove(20)\n",
        "l"
      ],
      "metadata": {
        "colab": {
          "base_uri": "https://localhost:8080/"
        },
        "id": "gp_Ofq4HFVGX",
        "outputId": "a5200b6a-0e9c-4c67-932c-a83835f0cb17"
      },
      "execution_count": null,
      "outputs": [
        {
          "output_type": "execute_result",
          "data": {
            "text/plain": [
              "[10, 30, 40, 50]"
            ]
          },
          "metadata": {},
          "execution_count": 1
        }
      ]
    },
    {
      "cell_type": "code",
      "source": [
        "# 실무에서 어떤 값을 전부 없애거나\n",
        "# 어떤 값을 전부 찾는 것\n",
        "# 조건에 부합하는 것\n",
        "def f(x):\n",
        "    return x != 20\n",
        "list(filter(f, [10, 20, 30, 40, 50, 20, 20, 20]))"
      ],
      "metadata": {
        "colab": {
          "base_uri": "https://localhost:8080/"
        },
        "id": "rm6lMSpmF13u",
        "outputId": "dd630dc9-a53f-4f56-cb85-b5a60402d03a"
      },
      "execution_count": null,
      "outputs": [
        {
          "output_type": "execute_result",
          "data": {
            "text/plain": [
              "[10, 30, 40, 50]"
            ]
          },
          "metadata": {},
          "execution_count": 3
        }
      ]
    },
    {
      "cell_type": "code",
      "source": [
        "filter(f, [10, 20, 30, 40, 50, 20, 20, 20])"
      ],
      "metadata": {
        "colab": {
          "base_uri": "https://localhost:8080/"
        },
        "id": "0DTUfiRUG70r",
        "outputId": "f89b7a37-5919-44a3-f8b3-90c3019d496d"
      },
      "execution_count": null,
      "outputs": [
        {
          "output_type": "execute_result",
          "data": {
            "text/plain": [
              "<filter at 0x7f8ff954a410>"
            ]
          },
          "metadata": {},
          "execution_count": 5
        }
      ]
    },
    {
      "cell_type": "code",
      "source": [
        "range(100)"
      ],
      "metadata": {
        "id": "wWnxjsanG8y0"
      },
      "execution_count": null,
      "outputs": []
    },
    {
      "cell_type": "code",
      "source": [
        "for i in filter(f, [10, 20, 30, 40, 50, 20, 20, 20])\n",
        "    print(i)"
      ],
      "metadata": {
        "id": "vkpanCKXHCFW"
      },
      "execution_count": null,
      "outputs": []
    },
    {
      "cell_type": "code",
      "source": [
        "list(filter(lambda x: x!=20, [10, 20, 30, 40, 50, 20, 20, 20]))"
      ],
      "metadata": {
        "colab": {
          "base_uri": "https://localhost:8080/"
        },
        "id": "uJXwWY66HejQ",
        "outputId": "38370f9d-2961-45c7-ae12-3e63d37ec2de"
      },
      "execution_count": null,
      "outputs": [
        {
          "output_type": "execute_result",
          "data": {
            "text/plain": [
              "[10, 30, 40, 50]"
            ]
          },
          "metadata": {},
          "execution_count": 6
        }
      ]
    },
    {
      "cell_type": "code",
      "source": [
        "l = [ 5, 6, 4, 3, 8, 9, 1]\n",
        "l.reverse() # 역 정렬이 아니고 역순이며 원본을 만집니다.\n",
        "l"
      ],
      "metadata": {
        "id": "onPSN7gMV3M6"
      },
      "execution_count": null,
      "outputs": []
    },
    {
      "cell_type": "code",
      "source": [
        "l = [ 5, 6, 4, 3, 8, 9, 1]\n",
        "print(list(reversed(l))\n",
        "print(l)"
      ],
      "metadata": {
        "id": "H6igh2QxWGmk"
      },
      "execution_count": null,
      "outputs": []
    },
    {
      "cell_type": "code",
      "source": [
        "# l.reverse() : 리스트에 메서드 이며, return None입니다! 원본이 역순, 원본을 만집니다.\n",
        "# reversed() : 빌트인펑션이며, return 역순 입니다! 원본을 만지지 않습니다."
      ],
      "metadata": {
        "id": "Fm07g_4YWttW"
      },
      "execution_count": null,
      "outputs": []
    },
    {
      "cell_type": "code",
      "source": [
        "l = [ 5, 6, 4, 3, 8, 9, 1]\n",
        "print(l.reverse())\n",
        "l"
      ],
      "metadata": {
        "id": "abntbYRpW5-u"
      },
      "execution_count": null,
      "outputs": []
    },
    {
      "cell_type": "code",
      "source": [
        "l = [ 5, 6, 4, 3, 8, 9, 1]\n",
        "print(list(reversed(l)))\n",
        "print(l)"
      ],
      "metadata": {
        "id": "dfFpxzgUXDJt"
      },
      "execution_count": null,
      "outputs": []
    },
    {
      "cell_type": "markdown",
      "source": [
        "## sort"
      ],
      "metadata": {
        "id": "IM_f7UWzHyHE"
      }
    },
    {
      "cell_type": "code",
      "source": [
        "l = [1,4,4,8,3,2,4,9,8,7,6]\n",
        "l.sort() # 원본을 만지고, 반환값은 None\n",
        "l"
      ],
      "metadata": {
        "colab": {
          "base_uri": "https://localhost:8080/"
        },
        "id": "WdwvdRc7Hz7Q",
        "outputId": "36b42417-7665-4820-9d08-38bbf90cab49"
      },
      "execution_count": null,
      "outputs": [
        {
          "output_type": "execute_result",
          "data": {
            "text/plain": [
              "[1, 2, 3, 4, 4, 4, 6, 7, 8, 8, 9]"
            ]
          },
          "metadata": {},
          "execution_count": 8
        }
      ]
    },
    {
      "cell_type": "code",
      "source": [
        "print(sorted([1,4,4,8,3,2,4,9,8,7,6]))\n",
        "# 원본을 만지지 않고, 반환값은 정렬된 값 \n",
        "print(l)"
      ],
      "metadata": {
        "colab": {
          "base_uri": "https://localhost:8080/"
        },
        "id": "kQeZdj2rIdqs",
        "outputId": "14a01d2b-9070-465f-c406-0f3b9976461b"
      },
      "execution_count": null,
      "outputs": [
        {
          "output_type": "stream",
          "name": "stdout",
          "text": [
            "[1, 2, 3, 4, 4, 4, 6, 7, 8, 8, 9]\n",
            "[9, 8, 8, 7, 6, 4, 4, 4, 3, 2, 1]\n"
          ]
        }
      ]
    },
    {
      "cell_type": "code",
      "source": [
        "# 이렇게 실무에서 진행하진 않습니다.\n",
        "l = [1,4,4,8,3,2,4,9,8,7,6]\n",
        "l.sort()\n",
        "l.reverse()\n",
        "l"
      ],
      "metadata": {
        "id": "VE9Agv6RI4Un"
      },
      "execution_count": null,
      "outputs": []
    },
    {
      "cell_type": "code",
      "source": [
        "l = [1,4,4,8,3,2,4,9,8,7,6]\n",
        "l.sort(reverse=True)\n",
        "l"
      ],
      "metadata": {
        "colab": {
          "base_uri": "https://localhost:8080/"
        },
        "id": "eaFvDkhBI9uQ",
        "outputId": "c9dc2c85-d1f1-446d-966f-f6c1cb61ed98"
      },
      "execution_count": null,
      "outputs": [
        {
          "output_type": "execute_result",
          "data": {
            "text/plain": [
              "[9, 8, 8, 7, 6, 4, 4, 4, 3, 2, 1]"
            ]
          },
          "metadata": {},
          "execution_count": 14
        }
      ]
    },
    {
      "cell_type": "code",
      "source": [
        "l = [1,4,4,8,3,2,4,9,8,7,6]\n",
        "sorted(l, reverse = True)"
      ],
      "metadata": {
        "id": "JFktjNJmJKz9"
      },
      "execution_count": null,
      "outputs": []
    },
    {
      "cell_type": "code",
      "source": [
        "l = [[1, 10, 'leehojun'], \n",
        "     [20, 30, 'hojun'], \n",
        "     [10, 20, 'weniv!'], \n",
        "     [1, 2, 'hello world'], \n",
        "     [55, 11, 'sun']]\n",
        "\n",
        "# 1. 글자 수 대로 정렬해주세요.\n",
        "def f(x):\n",
        "    return len(x[2])\n",
        "\n",
        "print(sorted(l, key=f, reverse=False))\n",
        "print(sorted(l, key=lambda x:len(x[2]), reverse=False))\n",
        "\n",
        "# 2. 맨 앞에 위치한 숫자대로 정렬해주세요.\n",
        "def f2(x):\n",
        "    return x[0]\n",
        "\n",
        "print(sorted(l))\n",
        "print(sorted(l, key=f2))\n",
        "print(sorted(l, key=lambda x:x[0]))\n",
        "\n",
        "# 3. 중앙에 위치한 값대로 정렬해주세요.\n",
        "\n",
        "def f3(x):\n",
        "    return x[1]\n",
        "\n",
        "print(sorted(l))\n",
        "print(sorted(l, key=f3))\n",
        "print(sorted(l, key=lambda x:x[1]))\n",
        "\n",
        "l = [[1, 10, 32], \n",
        "     [20, 30, 11], \n",
        "     [10, 20, 22], \n",
        "     [1, 2, 13], \n",
        "     [55, 11, 44]]\n",
        "\n",
        "\n",
        "# 4. 3개의 전체 합이 작은 순서대로 출력해주세요.\n",
        "\n",
        "def f4(x):\n",
        "    return x[0] + x[1] + x[2]\n",
        "\n",
        "def f5(x):\n",
        "    return sum(x)\n",
        "\n",
        "print(sorted(l, key=f4))\n",
        "print(sorted(l, key=f5))\n",
        "print(sorted(l, key=lambda x: sum(x)))\n",
        "print(sorted(l, key=sum))"
      ],
      "metadata": {
        "colab": {
          "base_uri": "https://localhost:8080/"
        },
        "id": "J2rPZJ8vJbmm",
        "outputId": "dc63a019-2c82-48a5-f1c2-a469c26343de"
      },
      "execution_count": null,
      "outputs": [
        {
          "output_type": "stream",
          "name": "stdout",
          "text": [
            "[[55, 11, 'sun'], [20, 30, 'hojun'], [10, 20, 'weniv!'], [1, 10, 'leehojun'], [1, 2, 'hello world']]\n",
            "[[55, 11, 'sun'], [20, 30, 'hojun'], [10, 20, 'weniv!'], [1, 10, 'leehojun'], [1, 2, 'hello world']]\n",
            "[[1, 2, 'hello world'], [1, 10, 'leehojun'], [10, 20, 'weniv!'], [20, 30, 'hojun'], [55, 11, 'sun']]\n",
            "[[1, 10, 'leehojun'], [1, 2, 'hello world'], [10, 20, 'weniv!'], [20, 30, 'hojun'], [55, 11, 'sun']]\n",
            "[[1, 10, 'leehojun'], [1, 2, 'hello world'], [10, 20, 'weniv!'], [20, 30, 'hojun'], [55, 11, 'sun']]\n",
            "[[1, 2, 'hello world'], [1, 10, 'leehojun'], [10, 20, 'weniv!'], [20, 30, 'hojun'], [55, 11, 'sun']]\n",
            "[[1, 2, 'hello world'], [1, 10, 'leehojun'], [55, 11, 'sun'], [10, 20, 'weniv!'], [20, 30, 'hojun']]\n",
            "[[1, 2, 'hello world'], [1, 10, 'leehojun'], [55, 11, 'sun'], [10, 20, 'weniv!'], [20, 30, 'hojun']]\n",
            "[[1, 2, 13], [1, 10, 32], [10, 20, 22], [20, 30, 11], [55, 11, 44]]\n",
            "[[1, 2, 13], [1, 10, 32], [10, 20, 22], [20, 30, 11], [55, 11, 44]]\n",
            "[[1, 2, 13], [1, 10, 32], [10, 20, 22], [20, 30, 11], [55, 11, 44]]\n"
          ]
        }
      ]
    },
    {
      "cell_type": "code",
      "source": [
        "# https://codingdojang.com/scode/408\n",
        "# 좌표 평면 문제가 나오면 차원 축소나 차원 확대가 가능한지 확인\n",
        "\n",
        "point = [1, 3, 4, 8, 13, 17, 20]\n",
        "point[1:]\n",
        "# [1, 3, 4, 8, 13, 17, 20]\n",
        "# [3, 4, 8, 13, 17, 20]"
      ],
      "metadata": {
        "colab": {
          "base_uri": "https://localhost:8080/"
        },
        "id": "is62Pd_uNxy2",
        "outputId": "8c6ec017-1531-494a-a5bd-9c6fff851773"
      },
      "execution_count": null,
      "outputs": [
        {
          "output_type": "execute_result",
          "data": {
            "text/plain": [
              "[3, 4, 8, 13, 17, 20]"
            ]
          },
          "metadata": {},
          "execution_count": 26
        }
      ]
    },
    {
      "cell_type": "code",
      "source": [
        "list(zip(point, point[1:]))"
      ],
      "metadata": {
        "colab": {
          "base_uri": "https://localhost:8080/"
        },
        "id": "Yi4pLDuSOnyq",
        "outputId": "33c267a7-49ac-4910-d18c-45448ea672aa"
      },
      "execution_count": null,
      "outputs": [
        {
          "output_type": "execute_result",
          "data": {
            "text/plain": [
              "[(1, 3), (3, 4), (4, 8), (8, 13), (13, 17), (17, 20)]"
            ]
          },
          "metadata": {},
          "execution_count": 28
        }
      ]
    },
    {
      "cell_type": "code",
      "source": [
        "def f(x):\n",
        "    return abs(x[0]-x[1])\n",
        "\n",
        "sorted(zip(point, point[1:]), key = f)"
      ],
      "metadata": {
        "colab": {
          "base_uri": "https://localhost:8080/"
        },
        "id": "XeJLj3jsOuJf",
        "outputId": "b3fa3664-cf44-4f4d-94cb-13e410497f64"
      },
      "execution_count": null,
      "outputs": [
        {
          "output_type": "execute_result",
          "data": {
            "text/plain": [
              "[(3, 4), (1, 3), (17, 20), (4, 8), (13, 17), (8, 13)]"
            ]
          },
          "metadata": {},
          "execution_count": 31
        }
      ]
    },
    {
      "cell_type": "code",
      "source": [
        "def f(x):\n",
        "    return abs(x[0]-x[1])\n",
        "\n",
        "sorted(zip(point, point[1:]), key = f)[0]"
      ],
      "metadata": {
        "colab": {
          "base_uri": "https://localhost:8080/"
        },
        "id": "DPo6L57nR58R",
        "outputId": "31e8fd5e-2fad-4d50-e10e-00de27b27953"
      },
      "execution_count": null,
      "outputs": [
        {
          "output_type": "execute_result",
          "data": {
            "text/plain": [
              "(3, 4)"
            ]
          },
          "metadata": {},
          "execution_count": 32
        }
      ]
    },
    {
      "cell_type": "code",
      "source": [
        "sorted(zip(point, point[1:]), key=lambda x : abs(x[1] - x[0]))[0]"
      ],
      "metadata": {
        "colab": {
          "base_uri": "https://localhost:8080/"
        },
        "id": "yh8avhmLR_GJ",
        "outputId": "47438818-57b2-4bc2-c4ae-8408cdec09f7"
      },
      "execution_count": null,
      "outputs": [
        {
          "output_type": "execute_result",
          "data": {
            "text/plain": [
              "(3, 4)"
            ]
          },
          "metadata": {},
          "execution_count": 36
        }
      ]
    },
    {
      "cell_type": "code",
      "source": [
        "# https://school.programmers.co.kr/learn/courses/30/lessons/120835\n",
        "# 응급도\n",
        "# [3, 76, 24]\n",
        "# 우선순위\n",
        "# [3, 1, 2]\n",
        "\n",
        "l = [3, 76, 24]\n",
        "정렬된 값 = sorted(l, reverse = True)\n",
        "정렬된 값 # [ 76, 24, 3]\n",
        "# 우리가 원하는 값 [2, 0, 1]\n",
        "\n",
        "결과값 =  [\n",
        "    [l.index(정렬된값[0])]\n",
        "    [l.index(정렬된값[1])]\n",
        "    [l.index(정렬된값[2])]\n",
        "]\n",
        "결과값"
      ],
      "metadata": {
        "id": "tZhA8Rp5TtSY"
      },
      "execution_count": null,
      "outputs": []
    },
    {
      "cell_type": "markdown",
      "source": [
        "## !! 오늘 배운 것 정리\n",
        "\n",
        "1. 함수\n",
        "    1. 코드 덩어리(정말 쉽게 설명하면)\n",
        "    2. 코드를 재사용 할 수 있으며, 실수를 줄일 수 있습니다.\n",
        "    3. 코드의 구조를 한 눈에 파악할 수 있습니다.\n",
        "    4. 형태\n",
        "        ```python\n",
        "        # 파선아실(파라미터는 선언할 때, 아규먼트는 실제)\n",
        "        def function(x, y):\n",
        "            z = x + y\n",
        "            return z\n",
        "        print(f'function(5, 7) = {function(5, 7)}')\n",
        "        ```\n",
        "    5. 함수 안에 함수와 함수 안에 변수는 밖에서 접근이 불가합니다.\n",
        "    6. 지역 변수와 전역 변수\n",
        "        * 전역변수 : 전역에서 접근할 수 있는 변수\n",
        "        * 지역변수 : 함수 내에서만 접근할 수 있는 변수\n",
        "        ```python\n",
        "        # 전역변수는 각 함수에서 접근은 가능하지만 수정이 되진 않습니다.\n",
        "        # only read\n",
        "        # global이라는 키워드로 밖에 있는 변수를 수정할 수도 있지만 권하지 않습니다.\n",
        "        # 권하지 않기에 요약자료에도 없습니다.\n",
        "        a = 100\n",
        "        def f():\n",
        "            a = a + 1\n",
        "        f()\n",
        "        ```\n",
        "    7. 재귀함수\n",
        "        * 내가 나를 호출하는 것입니다.\n",
        "        * 재귀 <-> for문은 대부분 호환이 가능합니다.\n",
        "        * 반복문 사용하시기를 권합니다!\n",
        "        * 어렵고 효율도 안좋아요! (얼마나 효율이 안좋은지도 확인해보겠습니다.)\n",
        "        * 필수적으로 사용하는 곳이 있습니다.\n",
        "        ```python\n",
        "        def f(n):\n",
        "            if n <= 1:\n",
        "                return 1\n",
        "            else:\n",
        "                return n * f(n-1)\n",
        "\n",
        "        f(5)\n",
        "        ```\n",
        "2. list (리스트)\n",
        "    * 순서를 가진 데이터들의 집합(Sequence)\n",
        "    * 리스트는 값의 변경\n",
        "    * 리스트 안에 리스트로 다차원의 리스트를 만드는 것도 가능\n",
        "    * 리스트 안에 다른 딕셔너리, 셋, 튜플 등을 넣는 것도 가능합니다\n",
        "    ```python\n",
        "    l = [10, 20, 30, 40]\n",
        "    print(l[0]) # 순서로 값 호출\n",
        "    l[0] = 1000 # 값의 변경 가능\n",
        "    print(l)\n",
        "\n",
        "    data = [[1, 2, 3], # 다차원 배열\n",
        "        [4, 5, 6],\n",
        "        [7, 8, 9]]\n",
        "\n",
        "    print(data)\n",
        "    ```\n",
        "    * 리스트 메서드\n",
        "        * append : 맨 뒤에 값 추가\n",
        "        * clear : 모든 값 지우기\n",
        "        * copy : 얕은 복사\n",
        "        * count : 갯수 세기\n",
        "        * extend : 확장하기(뒤에 순회 가능한 객체가 들어오면 순차적으로 추가)\n",
        "        * index : 위치 찾기\n",
        "        * insert : 삽입하기\n",
        "        * pop: 맨 뒤에서 값 꺼내기(index가 들어오면 index에서 값 꺼냄)\n",
        "        * remove : 값 지우기\n",
        "        * reverse : 역순\n",
        "        * sort : 정렬"
      ],
      "metadata": {
        "id": "RxgM5iqidz-6"
      }
    },
    {
      "cell_type": "markdown",
      "source": [
        "## 깊은 복사와 얕은 복사"
      ],
      "metadata": {
        "id": "WJ06DIxoR1KC"
      }
    },
    {
      "cell_type": "code",
      "source": [
        "# 아무런 복사도 이뤄지지 않은 상태\n",
        "l = [[1,2,3] , [4,5,6] ]\n",
        "ll = l\n",
        "ll[0][0] = 1\n",
        "l, ll"
      ],
      "metadata": {
        "colab": {
          "base_uri": "https://localhost:8080/"
        },
        "id": "KuKe3rutWN7Z",
        "outputId": "9a6d805b-5486-4545-aaf6-8b6dfeb81ec5"
      },
      "execution_count": null,
      "outputs": [
        {
          "output_type": "execute_result",
          "data": {
            "text/plain": [
              "([[1, 2, 3], [4, 5, 6]], [[1, 2, 3], [4, 5, 6]])"
            ]
          },
          "metadata": {},
          "execution_count": 39
        }
      ]
    },
    {
      "cell_type": "code",
      "source": [
        "# 얕은 복사\n",
        "l = [1000,2,3,4,5,6] \n",
        "ll = l.copy()\n",
        "ll[0] = 10\n",
        "l, ll"
      ],
      "metadata": {
        "colab": {
          "base_uri": "https://localhost:8080/"
        },
        "id": "b9R7LKR6Wz2D",
        "outputId": "f8e14850-837e-4f22-82c8-b8e153ee2c05"
      },
      "execution_count": null,
      "outputs": [
        {
          "output_type": "execute_result",
          "data": {
            "text/plain": [
              "([1000, 2, 3, 4, 5, 6], [10, 2, 3, 4, 5, 6])"
            ]
          },
          "metadata": {},
          "execution_count": 45
        }
      ]
    },
    {
      "cell_type": "code",
      "source": [
        "l = [1000, 2000, 3000, 1000, 1000, 1000]\n",
        "id(l[0]), id(l[3]), id(l[4]), id(l[4])"
      ],
      "metadata": {
        "colab": {
          "base_uri": "https://localhost:8080/"
        },
        "id": "gh982xPlYNK2",
        "outputId": "6ba2c233-e5e1-48ed-bd56-9f774bff11c0"
      },
      "execution_count": null,
      "outputs": [
        {
          "output_type": "execute_result",
          "data": {
            "text/plain": [
              "(140256340174640, 140256340174640, 140256340174640, 140256340174640)"
            ]
          },
          "metadata": {},
          "execution_count": 49
        }
      ]
    },
    {
      "cell_type": "code",
      "source": [
        "# 얕은 복사\n",
        "l = [1000,2,3,4,5,6] \n",
        "ll = l.copy()\n",
        "id(l[0]), id(ll[0]) # 같은 값이 나오니까 같은 객체를 가리키고 있다?"
      ],
      "metadata": {
        "colab": {
          "base_uri": "https://localhost:8080/"
        },
        "id": "2UBu6Ih6W9wv",
        "outputId": "fa543968-8455-4e85-e0d2-59899b19e85e"
      },
      "execution_count": null,
      "outputs": [
        {
          "output_type": "execute_result",
          "data": {
            "text/plain": [
              "(140256340174192, 140256340174192)"
            ]
          },
          "metadata": {},
          "execution_count": 46
        }
      ]
    },
    {
      "cell_type": "code",
      "source": [
        "# 얕은 복사\n",
        "l = [1000,2,3,4,5,6] \n",
        "ll = l.copy()\n",
        "id(l), id(ll) "
      ],
      "metadata": {
        "colab": {
          "base_uri": "https://localhost:8080/"
        },
        "id": "mJED5-sZXM5a",
        "outputId": "e2b159d7-1ba5-44a2-ff7e-b58d613fc334"
      },
      "execution_count": null,
      "outputs": [
        {
          "output_type": "execute_result",
          "data": {
            "text/plain": [
              "(140256340546560, 140256340344000)"
            ]
          },
          "metadata": {},
          "execution_count": 47
        }
      ]
    },
    {
      "cell_type": "code",
      "source": [
        "# 얕은 복사\n",
        "l = [[1000,2,3] , [4,5,6] ]\n",
        "ll = l.copy()\n",
        "ll[0][0] = 10\n",
        "l, ll"
      ],
      "metadata": {
        "colab": {
          "base_uri": "https://localhost:8080/"
        },
        "id": "N1F3NSc0WrHn",
        "outputId": "a9e4f05c-3847-4979-8775-8137db1a8ae9"
      },
      "execution_count": null,
      "outputs": [
        {
          "output_type": "execute_result",
          "data": {
            "text/plain": [
              "([[10, 2, 3], [4, 5, 6]], [[10, 2, 3], [4, 5, 6]])"
            ]
          },
          "metadata": {},
          "execution_count": 48
        }
      ]
    },
    {
      "cell_type": "code",
      "source": [
        "id(l[0]), id(ll[0])"
      ],
      "metadata": {
        "colab": {
          "base_uri": "https://localhost:8080/"
        },
        "id": "ymX2bMhMYf5H",
        "outputId": "ec6cfd81-1f3d-48bf-f44d-1ea8288f8bb8"
      },
      "execution_count": null,
      "outputs": [
        {
          "output_type": "execute_result",
          "data": {
            "text/plain": [
              "(140256340174640, 140256340146240)"
            ]
          },
          "metadata": {},
          "execution_count": 50
        }
      ]
    },
    {
      "cell_type": "code",
      "source": [
        "# 얕은 복사\n",
        "l = [[1000,2,3] , [4,5,6] ]\n",
        "ll = l.copy()\n",
        "ll[0] = 100 # 얕은 복사는 1 depth만\n",
        "l, ll"
      ],
      "metadata": {
        "colab": {
          "base_uri": "https://localhost:8080/"
        },
        "id": "-cBsg09jYzwy",
        "outputId": "9b128179-0d8c-4392-da66-4981ea9dc171"
      },
      "execution_count": null,
      "outputs": [
        {
          "output_type": "execute_result",
          "data": {
            "text/plain": [
              "([[1000, 2, 3], [4, 5, 6]], [100, [4, 5, 6]])"
            ]
          },
          "metadata": {},
          "execution_count": 51
        }
      ]
    },
    {
      "cell_type": "code",
      "source": [
        "# 깊은 복사\n",
        "import copy\n",
        "\n",
        "l = [[1, 2, 3], [4, 5, 6]]\n",
        "ll = copy.deepcopy(l)\n",
        "ll[0][0] = 10\n",
        "id(l[0]), id(ll[0])"
      ],
      "metadata": {
        "colab": {
          "base_uri": "https://localhost:8080/"
        },
        "id": "yPKe73LSZCRX",
        "outputId": "6ac72e6a-6da5-4427-fc23-a82ffcb62d86"
      },
      "execution_count": null,
      "outputs": [
        {
          "output_type": "execute_result",
          "data": {
            "text/plain": [
              "(140256340636160, 140256457361088)"
            ]
          },
          "metadata": {},
          "execution_count": 55
        }
      ]
    },
    {
      "cell_type": "code",
      "source": [
        "# 깊은 복사\n",
        "import copy\n",
        "\n",
        "l = [[1, 2, [1,[999, 998]]], [4, 5, [2, [333, 332]]]]\n",
        "ll = copy.deepcopy(l)\n",
        "ll[0][2][1][0] = 10\n",
        "l, ll"
      ],
      "metadata": {
        "colab": {
          "base_uri": "https://localhost:8080/"
        },
        "id": "fKgGgSJVZofx",
        "outputId": "3cba5573-d3fe-4bc5-ece4-d22b3812e352"
      },
      "execution_count": null,
      "outputs": [
        {
          "output_type": "execute_result",
          "data": {
            "text/plain": [
              "([[1, 2, [1, [999, 998]]], [4, 5, [2, [333, 332]]]],\n",
              " [[1, 2, [1, [10, 998]]], [4, 5, [2, [333, 332]]]])"
            ]
          },
          "metadata": {},
          "execution_count": 57
        }
      ]
    },
    {
      "cell_type": "markdown",
      "source": [
        "* 얕은 복사는 1 depth(계층?)만 복사합니다.\n",
        "* 깊은 복사는 n depth까지 모두 복사합니다."
      ],
      "metadata": {
        "id": "fmHzE9ZkaLlP"
      }
    },
    {
      "cell_type": "markdown",
      "source": [
        "* 나를 이해시키는 단 하나의 코드는 반드시 존재합니다."
      ],
      "metadata": {
        "id": "jBxW1aF8aiZE"
      }
    },
    {
      "cell_type": "code",
      "source": [
        "# 얕은 복사\n",
        "l = [[1,2,3], [4,5,6]]\n",
        "ll = l[:]\n",
        "l[0] = 100\n",
        "l, ll"
      ],
      "metadata": {
        "colab": {
          "base_uri": "https://localhost:8080/"
        },
        "id": "pgTuBppLa18Q",
        "outputId": "8110e18c-5322-425c-f20c-2180dcc435bd"
      },
      "execution_count": null,
      "outputs": [
        {
          "output_type": "execute_result",
          "data": {
            "text/plain": [
              "([100, [4, 5, 6]], [[1, 2, 3], [4, 5, 6]])"
            ]
          },
          "metadata": {},
          "execution_count": 60
        }
      ]
    },
    {
      "cell_type": "code",
      "source": [
        "# 얕은 복사 이건 둘다 바뀜 \n",
        "l = [[1,2,3], [4,5,6]]\n",
        "ll = l[:] # copy나 슬라이싱의 문제가 아님\n",
        "l[0][0] = 100\n",
        "l, ll"
      ],
      "metadata": {
        "colab": {
          "base_uri": "https://localhost:8080/"
        },
        "id": "8c9syjaVbU0M",
        "outputId": "f360a68a-60b0-48e8-af5b-637538839ec0"
      },
      "execution_count": null,
      "outputs": [
        {
          "output_type": "execute_result",
          "data": {
            "text/plain": [
              "([[100, 2, 3], [4, 5, 6]], [[100, 2, 3], [4, 5, 6]])"
            ]
          },
          "metadata": {},
          "execution_count": 62
        }
      ]
    },
    {
      "cell_type": "code",
      "source": [
        "# sorted도 얕은 복사!\n",
        "l = [[1,2,3], [4,5,6]]\n",
        "ll = sorted(l)\n",
        "l[0][0] = 100\n",
        "l, ll"
      ],
      "metadata": {
        "id": "Y3OI3yUqfiwy"
      },
      "execution_count": null,
      "outputs": []
    },
    {
      "cell_type": "code",
      "source": [
        "# 얕은 복사\n",
        "# 리스트 컴프리헨션은 안배운 내용이니 keep 해두시고\n",
        "# for문 배운다음에 다시 와서 복습하기를 권함\n",
        "l = [[1,2,3], [4,5,6]]\n",
        "ll = [i for i in l] \n",
        "l[0][0] = 100\n",
        "l, ll"
      ],
      "metadata": {
        "colab": {
          "base_uri": "https://localhost:8080/"
        },
        "id": "2kgcI420beoN",
        "outputId": "1bdbe662-4b8e-42bc-d9ca-1b2b63838cc4"
      },
      "execution_count": null,
      "outputs": [
        {
          "output_type": "execute_result",
          "data": {
            "text/plain": [
              "([[100, 2, 3], [4, 5, 6]], [[100, 2, 3], [4, 5, 6]])"
            ]
          },
          "metadata": {},
          "execution_count": 64
        }
      ]
    },
    {
      "cell_type": "code",
      "source": [
        "# 1단계 복사\n",
        "# 리스트 컴프리헨션은 안배운 내용이니 keep 해두시고\n",
        "# for문 배운다음에 다시 와서 복습하기를 권함\n",
        "l = [[1,2,3], [4,5,6]]\n",
        "ll = [i[:] for i in l] \n",
        "l[0][0] = 100\n",
        "l, ll"
      ],
      "metadata": {
        "colab": {
          "base_uri": "https://localhost:8080/"
        },
        "id": "R13Z_YXSbv6I",
        "outputId": "e58b963e-50a1-46dd-da92-6c3f8fd465ad"
      },
      "execution_count": null,
      "outputs": [
        {
          "output_type": "execute_result",
          "data": {
            "text/plain": [
              "([[100, 2, 3], [4, 5, 6]], [[1, 2, 3], [4, 5, 6]])"
            ]
          },
          "metadata": {},
          "execution_count": 65
        }
      ]
    },
    {
      "cell_type": "markdown",
      "source": [
        "## 다차원 리스트"
      ],
      "metadata": {
        "id": "tDEffBQtccQI"
      }
    },
    {
      "cell_type": "code",
      "source": [
        "a = [[1, 2, 3],\n",
        "     [11, 22, 33],\n",
        "     ['leehojun', 20, 30]]\n",
        "\n",
        "# 문제 : jun만 뽑아주세요!\n",
        "print(a[2][0][5:8])\n",
        "print(a[2][0][-3:])\n",
        "print(a[2][0][5:])"
      ],
      "metadata": {
        "colab": {
          "base_uri": "https://localhost:8080/"
        },
        "id": "iuLZqK6TcebY",
        "outputId": "d0915a33-11ac-468c-d04b-417f1f3d2051"
      },
      "execution_count": null,
      "outputs": [
        {
          "output_type": "stream",
          "name": "stdout",
          "text": [
            "jun\n",
            "jun\n",
            "jun\n"
          ]
        }
      ]
    },
    {
      "cell_type": "markdown",
      "source": [
        "## 리스트에서 built-in function을 활용"
      ],
      "metadata": {
        "id": "9vYycwuYgOO9"
      }
    },
    {
      "cell_type": "markdown",
      "source": [
        "* 알아야 하는 built-in functon\n",
        "```\n",
        "A\n",
        "abs()\n",
        "all()\n",
        "any()\n",
        "\n",
        "B\n",
        "bin()\n",
        "bool()\n",
        "\n",
        "C\n",
        "chr()\n",
        "\n",
        "D\n",
        "dict()\n",
        "dir()\n",
        "\n",
        "E\n",
        "enumerate()\n",
        "eval()\n",
        "\n",
        "F\n",
        "filter()\n",
        "float()\n",
        "\n",
        "G\n",
        "globals()\n",
        "\n",
        "H\n",
        "help()\n",
        "hex()\n",
        "\n",
        "I\n",
        "id()\n",
        "input()\n",
        "int()\n",
        "isinstance()\n",
        "issubclass()\n",
        "iter()\n",
        "\n",
        "L\n",
        "len()\n",
        "list()\n",
        "locals()\n",
        "\n",
        "M\n",
        "map()\n",
        "max()\n",
        "min()\n",
        "\n",
        "N\n",
        "next()\n",
        "\n",
        "O\n",
        "object()\n",
        "oct()\n",
        "open()\n",
        "ord()\n",
        "\n",
        "P\n",
        "pow()\n",
        "print()\n",
        "property()\n",
        "\n",
        "\n",
        "R\n",
        "range()\n",
        "repr()\n",
        "reversed()\n",
        "round()\n",
        "\n",
        "S\n",
        "set()\n",
        "setattr()\n",
        "slice()\n",
        "sorted()\n",
        "staticmethod()\n",
        "str()\n",
        "sum()\n",
        "super()\n",
        "\n",
        "T\n",
        "tuple()\n",
        "type()\n",
        "\n",
        "V\n",
        "vars()\n",
        "\n",
        "Z\n",
        "zip()\n",
        "```"
      ],
      "metadata": {
        "id": "ZeYgwDBzg7sA"
      }
    },
    {
      "cell_type": "code",
      "source": [
        "a = [1, 2, 3, 4, 5, 6, 7, 8]\n",
        "max(a) #최댓값\n",
        "min(a) #최솟값\n",
        "sum(a) #전체값의 합"
      ],
      "metadata": {
        "colab": {
          "base_uri": "https://localhost:8080/"
        },
        "id": "pGBBO42DgPaG",
        "outputId": "abab0f35-09d1-46dc-9d79-6479a393248e"
      },
      "execution_count": null,
      "outputs": [
        {
          "output_type": "execute_result",
          "data": {
            "text/plain": [
              "36"
            ]
          },
          "metadata": {},
          "execution_count": 71
        }
      ]
    },
    {
      "cell_type": "code",
      "source": [
        "#2차원\n",
        "a = [[1, 2, 3, 'a'],\n",
        "     [11, 22, 33, 'aaa'],\n",
        "     [10, 2000, 30, 'aa']]\n",
        "\n",
        "max(a, key=lambda x:x[1])\n",
        "max(a, key=lambda x:len(x[3]))"
      ],
      "metadata": {
        "colab": {
          "base_uri": "https://localhost:8080/"
        },
        "id": "az6YwQPkhxdl",
        "outputId": "094983e7-4bc2-4cf8-d31d-34becdc360c9"
      },
      "execution_count": null,
      "outputs": [
        {
          "output_type": "execute_result",
          "data": {
            "text/plain": [
              "[11, 22, 33, 'aaa']"
            ]
          },
          "metadata": {},
          "execution_count": 72
        }
      ]
    },
    {
      "cell_type": "code",
      "source": [
        "# 이름, 별점, 객실수, 가격\n",
        "호텔 = [\n",
        "    ['이스트소프트 호텔', 5, 100, 155000],\n",
        "    ['삼스트소프트 호텔', 4, 80, 145000],\n",
        "    ['사스트소프트 호텔', 3, 70, 135000], \n",
        "    # 마지막에 콤마를 허락하는 언어는 제한적(특히 JSON에서는 엄격해서 허락하지 않습니다.)\n",
        "]\n",
        "max(호텔, key=lambda x:x[2]) # 가장 가격이 높은 것을 뽑아낼 수 있음\n",
        "min(호텔, key=lambda x:x[2]) # 가장 가격이 낮은 것을 뽑아낼 수 있음"
      ],
      "metadata": {
        "colab": {
          "base_uri": "https://localhost:8080/"
        },
        "id": "wBIP4csDiXCF",
        "outputId": "6f53eb51-ef14-4fae-89d3-17f0215873c1"
      },
      "execution_count": null,
      "outputs": [
        {
          "output_type": "execute_result",
          "data": {
            "text/plain": [
              "['사스트소프트 호텔', 3, 70, 135000]"
            ]
          },
          "metadata": {},
          "execution_count": 74
        }
      ]
    },
    {
      "cell_type": "code",
      "source": [
        "#2차원\n",
        "a = [[1, 2, 3],\n",
        "     [11, 22, 33],\n",
        "     [10, 2000, 30]]\n",
        "\n",
        "max(a, key=lambda x:x[1]) # 키값 기준으로 가장 큰걸 뽑음\n",
        "min(a, key=lambda x:x[1])\n",
        "# sum(a) error\n",
        "sum(a, [])"
      ],
      "metadata": {
        "id": "EZhLw_i6iAhi"
      },
      "execution_count": null,
      "outputs": []
    },
    {
      "cell_type": "markdown",
      "source": [
        "## 리스트의 순회 "
      ],
      "metadata": {
        "id": "A1VFyIV6kZ7m"
      }
    },
    {
      "cell_type": "code",
      "source": [
        "#1차원\n",
        "a = [1, 2, 3, 4, 5, 6, 7, 8]\n",
        "\n",
        "for i in a: # for 변수 in 순회가능한 객체\n",
        "     print(i)"
      ],
      "metadata": {
        "colab": {
          "base_uri": "https://localhost:8080/"
        },
        "id": "fhTxEvRbkbUr",
        "outputId": "e5c9abe8-32d1-49e5-8cf1-8258226b7f1f"
      },
      "execution_count": null,
      "outputs": [
        {
          "output_type": "stream",
          "name": "stdout",
          "text": [
            "1\n",
            "2\n",
            "3\n",
            "4\n",
            "5\n",
            "6\n",
            "7\n",
            "8\n"
          ]
        }
      ]
    },
    {
      "cell_type": "code",
      "source": [
        "#2차원\n",
        "a = [[1, 2, 3],\n",
        "     [11, 22, 33],\n",
        "     [13, 20000, 300000]]\n",
        "\n",
        "for i in a:\n",
        "    print(i)\n",
        "    print('---')\n",
        "print('end')"
      ],
      "metadata": {
        "colab": {
          "base_uri": "https://localhost:8080/"
        },
        "id": "LvBZ8TOLk0bv",
        "outputId": "84943908-6e5c-4b13-9403-d20203d78c67"
      },
      "execution_count": null,
      "outputs": [
        {
          "output_type": "stream",
          "name": "stdout",
          "text": [
            "[1, 2, 3]\n",
            "---\n",
            "[11, 22, 33]\n",
            "---\n",
            "[13, 20000, 300000]\n",
            "---\n",
            "end\n"
          ]
        }
      ]
    },
    {
      "cell_type": "code",
      "source": [
        "#2차원\n",
        "# for 중첩해서 2차원 순회 가능\n",
        "a = [[1, 2, 3],\n",
        "     [11, 22, 33],\n",
        "     [13, 20000, 300000]]\n",
        "\n",
        "for i in a:\n",
        "    for j in i:\n",
        "        print(j)\n",
        "        print('---')\n",
        "print('end')"
      ],
      "metadata": {
        "colab": {
          "base_uri": "https://localhost:8080/"
        },
        "id": "HH1Dpo_mlXE_",
        "outputId": "ffd1b714-d8e6-4ac3-9f46-cbd5799181ed"
      },
      "execution_count": null,
      "outputs": [
        {
          "output_type": "stream",
          "name": "stdout",
          "text": [
            "1\n",
            "---\n",
            "2\n",
            "---\n",
            "3\n",
            "---\n",
            "11\n",
            "---\n",
            "22\n",
            "---\n",
            "33\n",
            "---\n",
            "13\n",
            "---\n",
            "20000\n",
            "---\n",
            "300000\n",
            "---\n",
            "end\n"
          ]
        }
      ]
    },
    {
      "cell_type": "markdown",
      "source": [
        "## range"
      ],
      "metadata": {
        "id": "gUk_uwCZnIBo"
      }
    },
    {
      "cell_type": "code",
      "source": [
        "# range(start, stop, step) \n",
        "# 슬라이싱과 같은 규칙\n",
        "# 슬라이싱은 ':'(콜론)으로 연결되어 있고\n",
        "# range는 ','(콤마)로 연결되어 있습니다.\n",
        "\n",
        "print(list(range(100))) \n",
        "# python 2.x에서 python 3.x에 range를 사용하고 싶다면 xrange(10)\n",
        "print(list(range(5, 10)))\n",
        "\n",
        "print(list(range(0, 101, 2))) #짝수\n",
        "print(list(range(1, 101, 2))) #홀수\n",
        "print(list(range(100, 1, -2)))\n",
        "print(sum(list(range(0, 101))))\n",
        "print(sum(range(0, 101))) # 이렇게 형 변환을 하지 않고 sum하시는 것을 권합니다."
      ],
      "metadata": {
        "colab": {
          "base_uri": "https://localhost:8080/"
        },
        "id": "aS1-5b8RnI_L",
        "outputId": "de170d0f-1fa4-4a0c-b295-fc87e5218fa6"
      },
      "execution_count": null,
      "outputs": [
        {
          "output_type": "stream",
          "name": "stdout",
          "text": [
            "[0, 1, 2, 3, 4, 5, 6, 7, 8, 9, 10, 11, 12, 13, 14, 15, 16, 17, 18, 19, 20, 21, 22, 23, 24, 25, 26, 27, 28, 29, 30, 31, 32, 33, 34, 35, 36, 37, 38, 39, 40, 41, 42, 43, 44, 45, 46, 47, 48, 49, 50, 51, 52, 53, 54, 55, 56, 57, 58, 59, 60, 61, 62, 63, 64, 65, 66, 67, 68, 69, 70, 71, 72, 73, 74, 75, 76, 77, 78, 79, 80, 81, 82, 83, 84, 85, 86, 87, 88, 89, 90, 91, 92, 93, 94, 95, 96, 97, 98, 99]\n",
            "[5, 6, 7, 8, 9]\n",
            "[0, 2, 4, 6, 8, 10, 12, 14, 16, 18, 20, 22, 24, 26, 28, 30, 32, 34, 36, 38, 40, 42, 44, 46, 48, 50, 52, 54, 56, 58, 60, 62, 64, 66, 68, 70, 72, 74, 76, 78, 80, 82, 84, 86, 88, 90, 92, 94, 96, 98, 100]\n",
            "5050\n"
          ]
        }
      ]
    },
    {
      "cell_type": "markdown",
      "source": [
        "## list comprehension"
      ],
      "metadata": {
        "id": "7NLQSCT7pVyL"
      }
    },
    {
      "cell_type": "code",
      "source": [
        "# l = [1,2,3,4, ...]\n",
        "# list(range(1,101))\n",
        "list(range(1, 101))\n",
        "for i in range(1, 101):\n",
        "    l.append(i)\n",
        "l"
      ],
      "metadata": {
        "id": "q4IGHLbRpfsy"
      },
      "execution_count": null,
      "outputs": []
    },
    {
      "cell_type": "code",
      "source": [
        "# l = []\n",
        "# for i in range(1, 11):\n",
        "#     l.append(i**i)\n",
        "# l\n",
        "\n",
        "# 사용법으로는 [ ]안에 for문을 넣고 필요한 구문을 이어 넣어준다음\n",
        "# 가장 앞부분에 실제 리스트에 append 해줄 값을 넣어주면 됩니다.\n",
        "\n",
        "l = [i**i for i in range(1, 11)]\n",
        "l\n",
        "\n",
        "l [i for i in range(1, 11)]\n",
        "l"
      ],
      "metadata": {
        "id": "PPPitPz1p996"
      },
      "execution_count": null,
      "outputs": []
    },
    {
      "cell_type": "code",
      "source": [
        "l = []\n",
        "for i in range(1, 100):\n",
        "    if i %3 == 0 or i %5 == 0:\n",
        "        l.append(i)\n",
        "## 위와 동일함\n",
        "[i for i in range(1, 100) if i %3 == 0 or i %5 == 0]"
      ],
      "metadata": {
        "id": "HZXitZtjqszv"
      },
      "execution_count": null,
      "outputs": []
    },
    {
      "cell_type": "markdown",
      "source": [
        "## tuple (튜플)"
      ],
      "metadata": {
        "id": "P1AogGzl9Zrh"
      }
    },
    {
      "cell_type": "markdown",
      "source": [
        "- 튜플은 순서가 있는 시퀀스형 자료형입니다.\n",
        "- 참조값은 변경이 불가능(immutable) 합니다.\n",
        "- 다른 자료형을 입력할 수 있으며, 튜플 안에 튜플로 다차원의 튜플을 만드는 것도 가능합니다.\n",
        "- 값의 중복을 허락합니다.\n",
        "- 튜플은 소괄호() 사용"
      ],
      "metadata": {
        "id": "41Q4rMjK9e-2"
      }
    },
    {
      "cell_type": "code",
      "source": [
        "t = (10, 20, 30)\n",
        "t[1] = 1000"
      ],
      "metadata": {
        "colab": {
          "base_uri": "https://localhost:8080/",
          "height": 188
        },
        "id": "4vziNyIG9bgP",
        "outputId": "37899099-138d-4d17-da99-3473db95a468"
      },
      "execution_count": null,
      "outputs": [
        {
          "output_type": "error",
          "ename": "TypeError",
          "evalue": "ignored",
          "traceback": [
            "\u001b[0;31m---------------------------------------------------------------------------\u001b[0m",
            "\u001b[0;31mTypeError\u001b[0m                                 Traceback (most recent call last)",
            "\u001b[0;32m<ipython-input-88-f56b99405e72>\u001b[0m in \u001b[0;36m<cell line: 2>\u001b[0;34m()\u001b[0m\n\u001b[1;32m      1\u001b[0m \u001b[0mt\u001b[0m \u001b[0;34m=\u001b[0m \u001b[0;34m(\u001b[0m\u001b[0;36m10\u001b[0m\u001b[0;34m,\u001b[0m \u001b[0;36m20\u001b[0m\u001b[0;34m,\u001b[0m \u001b[0;36m30\u001b[0m\u001b[0;34m)\u001b[0m\u001b[0;34m\u001b[0m\u001b[0;34m\u001b[0m\u001b[0m\n\u001b[0;32m----> 2\u001b[0;31m \u001b[0mt\u001b[0m\u001b[0;34m[\u001b[0m\u001b[0;36m1\u001b[0m\u001b[0;34m]\u001b[0m \u001b[0;34m=\u001b[0m \u001b[0;36m1000\u001b[0m\u001b[0;34m\u001b[0m\u001b[0;34m\u001b[0m\u001b[0m\n\u001b[0m",
            "\u001b[0;31mTypeError\u001b[0m: 'tuple' object does not support item assignment"
          ]
        }
      ]
    },
    {
      "cell_type": "code",
      "source": [
        "l = [1, 2, 3]\n",
        "t = (l, 20, 30) # 불변인 것은 t가 l을 참조하고 있다는 것이 불변\n",
        "l[0] = 1000\n",
        "t"
      ],
      "metadata": {
        "colab": {
          "base_uri": "https://localhost:8080/"
        },
        "id": "VHqa-55_942b",
        "outputId": "a0859dd4-386f-492b-d1b8-aba04389a66e"
      },
      "execution_count": null,
      "outputs": [
        {
          "output_type": "execute_result",
          "data": {
            "text/plain": [
              "([1000, 2, 3], 20, 30)"
            ]
          },
          "metadata": {},
          "execution_count": 90
        }
      ]
    },
    {
      "cell_type": "code",
      "source": [
        "t = (10, 20, 30, 40, 50)\n",
        "t[:3]"
      ],
      "metadata": {
        "id": "5D7oQRA1-nH_"
      },
      "execution_count": null,
      "outputs": []
    },
    {
      "cell_type": "code",
      "source": [
        "type(t), dir(t)"
      ],
      "metadata": {
        "colab": {
          "base_uri": "https://localhost:8080/"
        },
        "id": "KniLOjHh-bGS",
        "outputId": "3658bedf-02f9-41a7-cfb1-8ab373921e73"
      },
      "execution_count": null,
      "outputs": [
        {
          "output_type": "execute_result",
          "data": {
            "text/plain": [
              "(tuple,\n",
              " ['__add__',\n",
              "  '__class__',\n",
              "  '__class_getitem__',\n",
              "  '__contains__',\n",
              "  '__delattr__',\n",
              "  '__dir__',\n",
              "  '__doc__',\n",
              "  '__eq__',\n",
              "  '__format__',\n",
              "  '__ge__',\n",
              "  '__getattribute__',\n",
              "  '__getitem__',\n",
              "  '__getnewargs__',\n",
              "  '__gt__',\n",
              "  '__hash__',\n",
              "  '__init__',\n",
              "  '__init_subclass__',\n",
              "  '__iter__',\n",
              "  '__le__',\n",
              "  '__len__',\n",
              "  '__lt__',\n",
              "  '__mul__',\n",
              "  '__ne__',\n",
              "  '__new__',\n",
              "  '__reduce__',\n",
              "  '__reduce_ex__',\n",
              "  '__repr__',\n",
              "  '__rmul__',\n",
              "  '__setattr__',\n",
              "  '__sizeof__',\n",
              "  '__str__',\n",
              "  '__subclasshook__',\n",
              "  'count',\n",
              "  'index'])"
            ]
          },
          "metadata": {},
          "execution_count": 91
        }
      ]
    },
    {
      "cell_type": "code",
      "source": [
        "t = (10, 20, 30, 40, 50, 20)\n",
        "t.index(20), t.count(20)"
      ],
      "metadata": {
        "colab": {
          "base_uri": "https://localhost:8080/"
        },
        "id": "xMYG4gCv-q_J",
        "outputId": "00fe30be-683a-457a-996d-b6793759ddc1"
      },
      "execution_count": null,
      "outputs": [
        {
          "output_type": "execute_result",
          "data": {
            "text/plain": [
              "(1, 2)"
            ]
          },
          "metadata": {},
          "execution_count": 92
        }
      ]
    },
    {
      "cell_type": "code",
      "source": [
        "t = tuple('suhason')\n",
        "t\n",
        "t = tuple()\n",
        "t\n",
        "t = tuple(range(10))\n",
        "t\n",
        "t = (1) \n",
        "t\n",
        "t = (1,) #원소를 하나씩 넣고 싶을 때는 콤마(,)를 사용해줍니다.\n",
        "t"
      ],
      "metadata": {
        "id": "Uf0Z3QbB_Acc"
      },
      "execution_count": null,
      "outputs": []
    },
    {
      "cell_type": "markdown",
      "source": [
        "## dict (딕셔너리, 사전형)"
      ],
      "metadata": {
        "id": "CZIWbqY-_c97"
      }
    },
    {
      "cell_type": "markdown",
      "source": [
        "- 딕셔너리는 순서가 없는 자료형입니다.\n",
        "- 사전형은 Key와 Value 가 하나의 묶음으로 이루어진 자료 체계입니다.\n",
        "- 값의 변경이 가능합니다.\n",
        "- 다른 자료형을 입력할 수 있습니다.\n",
        "- 키의 중복은 허락하지 않고, 값의 중복을 허락합니다."
      ],
      "metadata": {
        "id": "tZeazoH__nbo"
      }
    },
    {
      "cell_type": "code",
      "source": [
        "d = {'one' : '하나', 'two' : '둘', 'three' : '셋'}\n",
        "d\n",
        "d['one']"
      ],
      "metadata": {
        "colab": {
          "base_uri": "https://localhost:8080/",
          "height": 36
        },
        "id": "5DC9v8r__jic",
        "outputId": "34f4bae6-e0da-428a-cede-7d6d3d538ef2"
      },
      "execution_count": null,
      "outputs": [
        {
          "output_type": "execute_result",
          "data": {
            "text/plain": [
              "'하나'"
            ],
            "application/vnd.google.colaboratory.intrinsic+json": {
              "type": "string"
            }
          },
          "metadata": {},
          "execution_count": 94
        }
      ]
    },
    {
      "cell_type": "code",
      "source": [
        "d['two'] = '투'\n",
        "d"
      ],
      "metadata": {
        "colab": {
          "base_uri": "https://localhost:8080/"
        },
        "id": "tGhhtTa8A0dJ",
        "outputId": "c6f5f93c-c01f-414a-d4d6-303823d7fb74"
      },
      "execution_count": null,
      "outputs": [
        {
          "output_type": "execute_result",
          "data": {
            "text/plain": [
              "{'one': '하나', 'two': '투', 'three': '셋'}"
            ]
          },
          "metadata": {},
          "execution_count": 96
        }
      ]
    },
    {
      "cell_type": "code",
      "source": [
        "d = {} # dict\n",
        "type(d)\n",
        "\n",
        "d = {10} # set\n",
        "type(d)\n",
        "\n",
        "d = dict()\n",
        "type(d)\n",
        "\n",
        "d = {'one': 1}\n",
        "type(d)"
      ],
      "metadata": {
        "colab": {
          "base_uri": "https://localhost:8080/"
        },
        "id": "wyCVjPp6BNFN",
        "outputId": "ee2d70f0-aba0-4a31-f14f-ba2bf249df11"
      },
      "execution_count": null,
      "outputs": [
        {
          "output_type": "execute_result",
          "data": {
            "text/plain": [
              "dict"
            ]
          },
          "metadata": {},
          "execution_count": 98
        }
      ]
    },
    {
      "cell_type": "code",
      "source": [
        "d = {'one' : '하나', 'two' : '둘', 'three' : '셋'}\n",
        "d.items()"
      ],
      "metadata": {
        "colab": {
          "base_uri": "https://localhost:8080/"
        },
        "id": "hw5TLmGYBlX9",
        "outputId": "ba1ca8bb-e098-4903-bf12-b5969ce9b968"
      },
      "execution_count": null,
      "outputs": [
        {
          "output_type": "execute_result",
          "data": {
            "text/plain": [
              "dict_items([('one', '하나'), ('two', '둘'), ('three', '셋')])"
            ]
          },
          "metadata": {},
          "execution_count": 99
        }
      ]
    },
    {
      "cell_type": "code",
      "source": [
        "dict([('one', '하나'), ('two', '둘'), ('three', '셋')])"
      ],
      "metadata": {
        "colab": {
          "base_uri": "https://localhost:8080/"
        },
        "id": "sUd24yOdBzBW",
        "outputId": "b54eab28-4a7c-491e-c48b-297d7c874230"
      },
      "execution_count": null,
      "outputs": [
        {
          "output_type": "execute_result",
          "data": {
            "text/plain": [
              "{'one': '하나', 'two': '둘', 'three': '셋'}"
            ]
          },
          "metadata": {},
          "execution_count": 103
        }
      ]
    },
    {
      "cell_type": "code",
      "source": [
        "list(zip('ABC', '123', 'abc'))\n",
        "\n",
        "dict(zip('ABC', '123')) #형변환, zip으로 mapping하고 dict로 만듬"
      ],
      "metadata": {
        "colab": {
          "base_uri": "https://localhost:8080/"
        },
        "id": "wUPYQmFgB4Tt",
        "outputId": "cc349587-7c24-4b8e-bb07-549c8e785216"
      },
      "execution_count": null,
      "outputs": [
        {
          "output_type": "execute_result",
          "data": {
            "text/plain": [
              "{'A': '1', 'B': '2', 'C': '3'}"
            ]
          },
          "metadata": {},
          "execution_count": 107
        }
      ]
    },
    {
      "cell_type": "code",
      "source": [
        "# dict와 list를 사용해서 아래와 같은 형태로 데이터를 만들어주세요\n",
        "\n",
        "\n",
        "# 원하는 형태 {'A': [10, 20], 'B': [20, 30], 'C': [30, 40]}\n",
        "dict(zip('ABC', ([10,20], [20,30], [30, 40])))\n",
        "\n",
        "# l = [10, 20, 30, 40]\n",
        "# dict(zip('ABC', zip(l, l[1:])))\n",
        "# dict(zip('ABC', [list(elem) for elem in zip([10, 20, 30], [20, 30, 40])]))"
      ],
      "metadata": {
        "colab": {
          "base_uri": "https://localhost:8080/"
        },
        "id": "i9RnEdDxCfHo",
        "outputId": "39d0505e-92b1-4ae9-b63e-1a6760674211"
      },
      "execution_count": null,
      "outputs": [
        {
          "output_type": "execute_result",
          "data": {
            "text/plain": [
              "{'A': [10, 20], 'B': [20, 30], 'C': [30, 40]}"
            ]
          },
          "metadata": {},
          "execution_count": 105
        }
      ]
    },
    {
      "cell_type": "code",
      "source": [
        "'B' in {'A': [10, 20], 'B': [20, 30], 'C': [30, 40]}"
      ],
      "metadata": {
        "colab": {
          "base_uri": "https://localhost:8080/"
        },
        "id": "8ddKD9yaElwu",
        "outputId": "6149f7d8-66fc-4cc3-efff-3d8b01474799"
      },
      "execution_count": null,
      "outputs": [
        {
          "output_type": "execute_result",
          "data": {
            "text/plain": [
              "True"
            ]
          },
          "metadata": {},
          "execution_count": 108
        }
      ]
    },
    {
      "cell_type": "code",
      "source": [
        "len({'A': [10, 20], 'B': [20, 30], 'C': [30, 40]})"
      ],
      "metadata": {
        "colab": {
          "base_uri": "https://localhost:8080/"
        },
        "id": "ry8Gbi55I-P7",
        "outputId": "afbb3e61-9bd4-4a76-a273-38b533707423"
      },
      "execution_count": null,
      "outputs": [
        {
          "output_type": "execute_result",
          "data": {
            "text/plain": [
              "3"
            ]
          },
          "metadata": {},
          "execution_count": 115
        }
      ]
    },
    {
      "cell_type": "code",
      "source": [
        "# 파이썬은 스위치가 없어서 딕셔너리로 구현하기도 함\n",
        "# 공부해두시면 좋습니다.\n",
        "def switch(day):\n",
        "    return {\n",
        "        1 : '월요일',\n",
        "        2 : '화요일',\n",
        "        3 : '수요일',\n",
        "        4 : '목요일',\n",
        "        5 : '금요일',\n",
        "        6 : '토요일',\n",
        "        7 : '일요일',\n",
        "    }.get(day)\n",
        "\n",
        "switch(7)\n",
        "switch(8) # get을 사용하면 None을 줍니다."
      ],
      "metadata": {
        "id": "hskwKwAiJP3a"
      },
      "execution_count": null,
      "outputs": []
    },
    {
      "cell_type": "code",
      "source": [
        "def switch(day):\n",
        "    return {\n",
        "        1 : '월요일',\n",
        "        2 : '화요일',\n",
        "        3 : '수요일',\n",
        "        4 : '목요일',\n",
        "        5 : '금요일',\n",
        "        6 : '토요일',\n",
        "        7 : '일요일',\n",
        "    }.get(day, '요일을 찾지 못했습니다.')\n",
        "\n",
        "switch(8) # get을 사용하면 못찾는 값을 넣었을 때 default 값을 줍니다. get 메소드."
      ],
      "metadata": {
        "id": "bZfwQJ0HKuVE"
      },
      "execution_count": null,
      "outputs": []
    },
    {
      "cell_type": "code",
      "source": [
        "%%timeit\n",
        "\n",
        "s = 0\n",
        "for i in range(10000):\n",
        "    s += i"
      ],
      "metadata": {
        "colab": {
          "base_uri": "https://localhost:8080/"
        },
        "id": "1PGt1gIzElkD",
        "outputId": "9e560b70-ff7b-4103-f33f-8a1996c47ec7"
      },
      "execution_count": null,
      "outputs": [
        {
          "output_type": "stream",
          "name": "stdout",
          "text": [
            "833 µs ± 251 µs per loop (mean ± std. dev. of 7 runs, 1000 loops each)\n"
          ]
        }
      ]
    },
    {
      "cell_type": "code",
      "source": [
        "%%timeit\n",
        "\n",
        "sum(range(10000))"
      ],
      "metadata": {
        "colab": {
          "base_uri": "https://localhost:8080/"
        },
        "id": "xIP0AXpbFYF1",
        "outputId": "a256e6a4-3429-4b02-da46-5ca702831d3b"
      },
      "execution_count": null,
      "outputs": [
        {
          "output_type": "stream",
          "name": "stdout",
          "text": [
            "382 µs ± 94.9 µs per loop (mean ± std. dev. of 7 runs, 1000 loops each)\n"
          ]
        }
      ]
    },
    {
      "cell_type": "code",
      "source": [
        "{'A': [10, 20], 'B': [20, 30], 'C': [30, 40]}.keys()"
      ],
      "metadata": {
        "colab": {
          "base_uri": "https://localhost:8080/"
        },
        "id": "Cy6O7HEuLgz-",
        "outputId": "5666f3f8-4c92-4ec7-efc1-a55565c06b60"
      },
      "execution_count": null,
      "outputs": [
        {
          "output_type": "execute_result",
          "data": {
            "text/plain": [
              "dict_keys(['A', 'B', 'C'])"
            ]
          },
          "metadata": {},
          "execution_count": 120
        }
      ]
    },
    {
      "cell_type": "code",
      "source": [
        "{'A': [10, 20], 'B': [20, 30], 'C': [30, 40]}.values()"
      ],
      "metadata": {
        "colab": {
          "base_uri": "https://localhost:8080/"
        },
        "id": "vsfwZ9rVLiCH",
        "outputId": "926b4c8f-6d5d-4643-e0c4-fb5eb4988591"
      },
      "execution_count": null,
      "outputs": [
        {
          "output_type": "execute_result",
          "data": {
            "text/plain": [
              "dict_values([[10, 20], [20, 30], [30, 40]])"
            ]
          },
          "metadata": {},
          "execution_count": 121
        }
      ]
    },
    {
      "cell_type": "code",
      "source": [
        "{'A': [10, 20], 'B': [20, 30], 'C': [30, 40]}.items()"
      ],
      "metadata": {
        "colab": {
          "base_uri": "https://localhost:8080/"
        },
        "id": "AoIdtcObLj8I",
        "outputId": "e057aa41-9495-4138-894f-e7ea6170776a"
      },
      "execution_count": null,
      "outputs": [
        {
          "output_type": "execute_result",
          "data": {
            "text/plain": [
              "dict_items([('A', [10, 20]), ('B', [20, 30]), ('C', [30, 40])])"
            ]
          },
          "metadata": {},
          "execution_count": 122
        }
      ]
    },
    {
      "cell_type": "code",
      "source": [
        "dict.fromkeys('sonsuha')"
      ],
      "metadata": {
        "colab": {
          "base_uri": "https://localhost:8080/"
        },
        "id": "hqO2zABBLll5",
        "outputId": "5a3d3f96-d171-4f62-f9d5-a5a584385494"
      },
      "execution_count": null,
      "outputs": [
        {
          "output_type": "execute_result",
          "data": {
            "text/plain": [
              "{'s': None, 'o': None, 'n': None, 'u': None, 'h': None, 'a': None}"
            ]
          },
          "metadata": {},
          "execution_count": 123
        }
      ]
    },
    {
      "cell_type": "code",
      "source": [
        "dict.fromkeys('sonsuha', 100)"
      ],
      "metadata": {
        "colab": {
          "base_uri": "https://localhost:8080/"
        },
        "id": "hoT_SiK5LwyZ",
        "outputId": "80710b59-86d1-4b8a-e6f5-60666e9f6c74"
      },
      "execution_count": null,
      "outputs": [
        {
          "output_type": "execute_result",
          "data": {
            "text/plain": [
              "{'s': 100, 'o': 100, 'n': 100, 'u': 100, 'h': 100, 'a': 100}"
            ]
          },
          "metadata": {},
          "execution_count": 125
        }
      ]
    },
    {
      "cell_type": "code",
      "source": [
        "d = {'one' : '하나', 'two' : '둘', 'three' : '셋'}\n",
        "d.update({'one' : 1, 'two' : 2})\n",
        "d"
      ],
      "metadata": {
        "id": "Yw2ABxcVMgfT"
      },
      "execution_count": null,
      "outputs": []
    },
    {
      "cell_type": "markdown",
      "source": [
        "## 딕셔너리의 순회 "
      ],
      "metadata": {
        "id": "vk3QRhNxM4g7"
      }
    },
    {
      "cell_type": "code",
      "source": [
        "# key만 순회합니다.\n",
        "d = {'two' : 2, 'three' : '셋'}\n",
        "for i in d:\n",
        "    print(i)"
      ],
      "metadata": {
        "colab": {
          "base_uri": "https://localhost:8080/"
        },
        "id": "kWOoOIYgM6s0",
        "outputId": "8b334f8b-40eb-4c39-b9aa-56d4fdbe49d3"
      },
      "execution_count": null,
      "outputs": [
        {
          "output_type": "stream",
          "name": "stdout",
          "text": [
            "two\n",
            "three\n"
          ]
        }
      ]
    },
    {
      "cell_type": "code",
      "source": [
        "d = {'two' : 2, 'three' : '셋'}\n",
        "for i in d:\n",
        "    print(d[i])"
      ],
      "metadata": {
        "colab": {
          "base_uri": "https://localhost:8080/"
        },
        "id": "RJ3sqcrDM-Ox",
        "outputId": "1cb6fb89-d3b8-439c-948e-ca96a29e68c7"
      },
      "execution_count": null,
      "outputs": [
        {
          "output_type": "stream",
          "name": "stdout",
          "text": [
            "2\n",
            "셋\n"
          ]
        }
      ]
    },
    {
      "cell_type": "markdown",
      "source": [
        "## 언패킹 "
      ],
      "metadata": {
        "id": "dSUizM7eNNtW"
      }
    },
    {
      "cell_type": "code",
      "source": [
        "# 패킹 : 1, 2, 3 => [1 ,2, 3]\n",
        "# 언패킹 : [1 ,2, 3] => 1, 2, 3"
      ],
      "metadata": {
        "id": "1UdmibR3NQhW"
      },
      "execution_count": null,
      "outputs": []
    },
    {
      "cell_type": "code",
      "source": [
        "a,b,c = 10, 20, 30\n",
        "a"
      ],
      "metadata": {
        "colab": {
          "base_uri": "https://localhost:8080/"
        },
        "id": "GcA3VCs7NZ3T",
        "outputId": "44234c52-f459-4201-b04e-0177fa879618"
      },
      "execution_count": null,
      "outputs": [
        {
          "output_type": "execute_result",
          "data": {
            "text/plain": [
              "10"
            ]
          },
          "metadata": {},
          "execution_count": 131
        }
      ]
    },
    {
      "cell_type": "code",
      "source": [
        "a,b,c = (10, 20, 30) # 소괄호든 대괄호든 상관 없습니다\n",
        "a"
      ],
      "metadata": {
        "colab": {
          "base_uri": "https://localhost:8080/"
        },
        "id": "JlYSK6dONkJb",
        "outputId": "79a6294a-969d-4d3c-86fc-3f9b68422b63"
      },
      "execution_count": null,
      "outputs": [
        {
          "output_type": "execute_result",
          "data": {
            "text/plain": [
              "10"
            ]
          },
          "metadata": {},
          "execution_count": 133
        }
      ]
    },
    {
      "cell_type": "code",
      "source": [
        "for i, j in [[10, 20], [30, 40], [50, 60]]:\n",
        "    print(i, j)"
      ],
      "metadata": {
        "colab": {
          "base_uri": "https://localhost:8080/"
        },
        "id": "GAvpFaVNN0q7",
        "outputId": "9c260773-f348-4e3c-fa04-95bbe49e5820"
      },
      "execution_count": null,
      "outputs": [
        {
          "output_type": "stream",
          "name": "stdout",
          "text": [
            "10 20\n",
            "30 40\n",
            "50 60\n"
          ]
        }
      ]
    },
    {
      "cell_type": "code",
      "source": [
        "for i, j, k in [[10, 20, [1, 2]], [30, 40, [3, 4]], [50, 60, [5, 6]]]:\n",
        "    print(i, j, k)"
      ],
      "metadata": {
        "colab": {
          "base_uri": "https://localhost:8080/"
        },
        "id": "9e7t0ElnOJVv",
        "outputId": "12e8820f-08b5-4537-8d76-d9152f7d60e0"
      },
      "execution_count": null,
      "outputs": [
        {
          "output_type": "stream",
          "name": "stdout",
          "text": [
            "10 20 [1, 2]\n",
            "30 40 [3, 4]\n",
            "50 60 [5, 6]\n"
          ]
        }
      ]
    },
    {
      "cell_type": "code",
      "source": [
        "# swap\n",
        "a = 10\n",
        "b = 15\n",
        "a, b = b, a\n",
        "a, b"
      ],
      "metadata": {
        "colab": {
          "base_uri": "https://localhost:8080/"
        },
        "id": "lBMbLqOtOw8p",
        "outputId": "5467b03c-73b4-4cbb-a747-50686e114251"
      },
      "execution_count": null,
      "outputs": [
        {
          "output_type": "execute_result",
          "data": {
            "text/plain": [
              "(15, 10)"
            ]
          },
          "metadata": {},
          "execution_count": 140
        }
      ]
    },
    {
      "cell_type": "code",
      "source": [
        "for i , j in d.items():\n",
        "     print(i, j)\n",
        "\n",
        "d.items()"
      ],
      "metadata": {
        "id": "5ISLXmJjNPai"
      },
      "execution_count": null,
      "outputs": []
    },
    {
      "cell_type": "markdown",
      "source": [
        "## max를 이용한 dict 최대 value key값 가져오기"
      ],
      "metadata": {
        "id": "fjjwLl5PNsZG"
      }
    },
    {
      "cell_type": "code",
      "source": [
        "d = {\n",
        "    'test1' : 10,\n",
        "    'test2' : 20,\n",
        "    'test3' : 31,\n",
        "    'test4' : 11,\n",
        "}\n",
        "max(d.values()) # 이걸로는 뭔가 찾아내기가 힘듭니다.\n",
        "max(d, key=lambda x: d[x])\n",
        "max(d, key=d.get) # 많이 사용하는 코드입니다."
      ],
      "metadata": {
        "colab": {
          "base_uri": "https://localhost:8080/"
        },
        "id": "VctxFX-9PYSz",
        "outputId": "80a2c71d-4fb7-4629-9aaa-2c14b740d277"
      },
      "execution_count": null,
      "outputs": [
        {
          "output_type": "execute_result",
          "data": {
            "text/plain": [
              "31"
            ]
          },
          "metadata": {},
          "execution_count": 141
        }
      ]
    },
    {
      "cell_type": "markdown",
      "source": [
        "## set (셋, 집합)"
      ],
      "metadata": {
        "id": "03VHWgQSQZoN"
      }
    },
    {
      "cell_type": "markdown",
      "source": [
        "* 집합 자료형은 중복을 허용하지 않으며\n",
        "* 순서가 없는 자료형"
      ],
      "metadata": {
        "id": "SM9X4fnJRDnh"
      }
    },
    {
      "cell_type": "code",
      "source": [
        "n = set([1, 1, 2, 2, 3, 3, 4])\n",
        "print(n)"
      ],
      "metadata": {
        "colab": {
          "base_uri": "https://localhost:8080/"
        },
        "id": "2Z-DizUbQyS4",
        "outputId": "4df00ca4-8729-4f4b-d82e-0b43955e86f1"
      },
      "execution_count": null,
      "outputs": [
        {
          "output_type": "stream",
          "name": "stdout",
          "text": [
            "{1, 2, 3, 4}\n"
          ]
        }
      ]
    },
    {
      "cell_type": "code",
      "source": [
        "s = set('hello world')\n",
        "print(s)"
      ],
      "metadata": {
        "colab": {
          "base_uri": "https://localhost:8080/"
        },
        "id": "FTZzl-OgQ3JB",
        "outputId": "c3db7157-d637-40c0-f34b-467e9247eee3"
      },
      "execution_count": null,
      "outputs": [
        {
          "output_type": "stream",
          "name": "stdout",
          "text": [
            "{'d', 'o', 'h', 'e', ' ', 'w', 'l', 'r'}\n"
          ]
        }
      ]
    },
    {
      "cell_type": "code",
      "source": [
        "n = set([1, 1, 2, 2, 3, 3, 4])\n",
        "n.add(1000)\n",
        "print(n)"
      ],
      "metadata": {
        "colab": {
          "base_uri": "https://localhost:8080/"
        },
        "id": "4ppQ7XPMTvks",
        "outputId": "f7935b8d-074b-4179-df49-5ebe1836850a"
      },
      "execution_count": null,
      "outputs": [
        {
          "output_type": "stream",
          "name": "stdout",
          "text": [
            "{1, 2, 3, 4, 1000}\n"
          ]
        }
      ]
    },
    {
      "cell_type": "code",
      "source": [
        "n = set([1, 1, 2, 2, 3, 3, 4])\n",
        "n.update({10, 20})\n",
        "print(n)"
      ],
      "metadata": {
        "colab": {
          "base_uri": "https://localhost:8080/"
        },
        "id": "LwMsoPwAT38U",
        "outputId": "fc9900ca-ee22-4528-f1cb-1c5c8edd8c62"
      },
      "execution_count": null,
      "outputs": [
        {
          "output_type": "stream",
          "name": "stdout",
          "text": [
            "{1, 2, 3, 4, 20, 10}\n"
          ]
        }
      ]
    },
    {
      "cell_type": "code",
      "source": [
        "n = set([1, 1, 2, 2, 3, 3, 4])\n",
        "n.remove(1)\n",
        "print(n)"
      ],
      "metadata": {
        "colab": {
          "base_uri": "https://localhost:8080/"
        },
        "id": "hpE408ZoWZMj",
        "outputId": "bc161af1-13f4-4f6f-cddd-c9df8e054625"
      },
      "execution_count": null,
      "outputs": [
        {
          "output_type": "stream",
          "name": "stdout",
          "text": [
            "{2, 3, 4}\n"
          ]
        }
      ]
    },
    {
      "cell_type": "markdown",
      "source": [
        "* pop은 실무에서 사용하지 않습니다. 값을 랜덤하게 뽑아내기 때문입니다. 높은 확률로 앞에서부터 뽑아내긴 하지만 확률에 기대는 코딩을 하지 않기를 바랍니다. 공식문서에서는 랜덤하게 뽑아낸다고 되어 있습니다.\n",
        "* https://docs.python.org/3.11/library/stdtypes.html#frozenset.pop"
      ],
      "metadata": {
        "id": "dov5NAUVWo28"
      }
    },
    {
      "cell_type": "code",
      "source": [
        "# 교집합 별 3개\n",
        "a = {1, 2, 3}\n",
        "b = {3, 4, 5}\n",
        "a & b\n",
        "a.intersection(b)"
      ],
      "metadata": {
        "colab": {
          "base_uri": "https://localhost:8080/"
        },
        "id": "Lgt3djfpXMmU",
        "outputId": "72b2d33e-db08-4fdb-e3c5-7114a3d4e991"
      },
      "execution_count": null,
      "outputs": [
        {
          "output_type": "execute_result",
          "data": {
            "text/plain": [
              "{3}"
            ]
          },
          "metadata": {},
          "execution_count": 158
        }
      ]
    },
    {
      "cell_type": "code",
      "source": [
        "# 합집합\n",
        "a = {1, 2, 3}\n",
        "b = {3, 4, 5}\n",
        "a | b\n",
        "a.union(b)"
      ],
      "metadata": {
        "colab": {
          "base_uri": "https://localhost:8080/"
        },
        "id": "1MZ4pMn_XyLU",
        "outputId": "9de2e363-cccd-40b0-d82d-6c378f2e32f8"
      },
      "execution_count": null,
      "outputs": [
        {
          "output_type": "execute_result",
          "data": {
            "text/plain": [
              "{1, 2, 3, 4, 5}"
            ]
          },
          "metadata": {},
          "execution_count": 160
        }
      ]
    },
    {
      "cell_type": "code",
      "source": [
        "# 차집합\n",
        "a = {1, 2, 3}\n",
        "b = {3, 4, 5}\n",
        "a - b\n",
        "a.difference(b)"
      ],
      "metadata": {
        "id": "NsYHkF1XYHZx"
      },
      "execution_count": null,
      "outputs": []
    },
    {
      "cell_type": "code",
      "source": [
        "s = {1, 2, 3, 4}\n",
        "ss = {3, 4, 5, 6}\n",
        "s.issubset({1, 2})\n",
        "s.issubset({1, 2, 3, 4, 5, 6, 7, 8})"
      ],
      "metadata": {
        "colab": {
          "base_uri": "https://localhost:8080/"
        },
        "id": "9ttjqFkDYayP",
        "outputId": "ba6ddfc0-1371-4fb4-ef1d-1596ea8dd72e"
      },
      "execution_count": null,
      "outputs": [
        {
          "output_type": "execute_result",
          "data": {
            "text/plain": [
              "True"
            ]
          },
          "metadata": {},
          "execution_count": 161
        }
      ]
    },
    {
      "cell_type": "code",
      "source": [
        "# https://school.programmers.co.kr/learn/courses/30/lessons/120903?language=python3\n",
        "def solution(s1, s2):\n",
        "    return len(set(s1) & set(s2))"
      ],
      "metadata": {
        "id": "AyH-KViYhfBq"
      },
      "execution_count": null,
      "outputs": []
    },
    {
      "cell_type": "code",
      "source": [
        "# https://school.programmers.co.kr/learn/courses/30/lessons/120888\n",
        "# my_string     result\n",
        "# \"people\"      \"peol\""
      ],
      "metadata": {
        "id": "da_GohcXSPBb"
      },
      "execution_count": null,
      "outputs": []
    },
    {
      "cell_type": "code",
      "source": [
        "# my_string     result\n",
        "# \"people\"      \"peol\"\n",
        "\n",
        "result = ''\n",
        "for i in \"people\":\n",
        "    if i not in result:\n",
        "        result +=i\n",
        "result"
      ],
      "metadata": {
        "colab": {
          "base_uri": "https://localhost:8080/",
          "height": 36
        },
        "id": "Xhut1NYNYsp4",
        "outputId": "5e7ed645-7071-488a-a4a7-b6e290d9524d"
      },
      "execution_count": null,
      "outputs": [
        {
          "output_type": "execute_result",
          "data": {
            "text/plain": [
              "'peol'"
            ],
            "application/vnd.google.colaboratory.intrinsic+json": {
              "type": "string"
            }
          },
          "metadata": {},
          "execution_count": 163
        }
      ]
    },
    {
      "cell_type": "code",
      "source": [
        "def solution(my_string):\n",
        "    return set(my_string)\n",
        "\n",
        "solution('people')"
      ],
      "metadata": {
        "colab": {
          "base_uri": "https://localhost:8080/"
        },
        "id": "rM7_gt8RSYeb",
        "outputId": "acc3a043-0af8-40dd-81cc-9f482d5d5960"
      },
      "execution_count": null,
      "outputs": [
        {
          "output_type": "execute_result",
          "data": {
            "text/plain": [
              "{'e', 'l', 'o', 'p'}"
            ]
          },
          "metadata": {},
          "execution_count": 147
        }
      ]
    },
    {
      "cell_type": "code",
      "source": [
        "def solution(my_string):\n",
        "    return ''.join(set(my_string))\n",
        "\n",
        "solution('people')"
      ],
      "metadata": {
        "colab": {
          "base_uri": "https://localhost:8080/",
          "height": 36
        },
        "id": "45ioq8BASj6B",
        "outputId": "2a6f79c9-d198-456f-8862-c19a84fdec04"
      },
      "execution_count": null,
      "outputs": [
        {
          "output_type": "execute_result",
          "data": {
            "text/plain": [
              "'olep'"
            ],
            "application/vnd.google.colaboratory.intrinsic+json": {
              "type": "string"
            }
          },
          "metadata": {},
          "execution_count": 150
        }
      ]
    },
    {
      "cell_type": "code",
      "source": [
        "{'e', 'l', 'o', 'p'}\n",
        "result = 'p'\n",
        "\n",
        "def solution(my_string):\n",
        "    return ''.join(set(my_string))\n",
        "\n",
        "solution('people')"
      ],
      "metadata": {
        "id": "0fm8pwSGTKlM"
      },
      "execution_count": null,
      "outputs": []
    },
    {
      "cell_type": "code",
      "source": [
        "def solution(my_string):\n",
        "    집합 = set(my_string)\n",
        "    result = ''\n",
        "    for i in my_string:\n",
        "        if i in 집합:\n",
        "            result += i\n",
        "            집합.remove(i)\n",
        "    return result\n",
        "\n",
        "solution('people')"
      ],
      "metadata": {
        "id": "YjmiI2AAZkR7"
      },
      "execution_count": null,
      "outputs": []
    },
    {
      "cell_type": "markdown",
      "source": [
        "## !! 연습문제 \n"
      ],
      "metadata": {
        "id": "olGs--jfaapn"
      }
    },
    {
      "cell_type": "code",
      "source": [
        "# 1번\n",
        "student_score = {\n",
        "\t\t'홍의': 97,\n",
        "\t\t'원희': 60,\n",
        "\t\t'동해': 77,\n",
        "\t\t'변수': 79,\n",
        "\t\t'창현': 89,\n",
        "}\n",
        "# 총점\n",
        "print(sum(student_score.values()))\n",
        "\n",
        "# 평균 점수\n",
        "avg = sum(student_score.values())/len(student_score)\n",
        "print(avg)\n",
        "\n",
        "# 점수 가장 높은 학생과 그 점수\n",
        "print(max(student_score, key = student_score.get))\n",
        "print(student_score.get(max(student_score, key = student_score.get)))\n",
        "# 점수 가장 낮은 학생과 그 점수\n",
        "print(min(student_score, key = student_score.get))\n",
        "print(student_score.get(min(student_score, key = student_score.get)))\n",
        "\n",
        "# 2번\n",
        "like = ['볶음밥', '라면', '국수', '파스타', '치킨', '짜장면', '국밥']\n",
        "dislike = ['국밥', '짬뽕', '찜닭', '파스타', '국수', '카레', '덮밥']\n",
        "set(like) - set(dislike)"
      ],
      "metadata": {
        "colab": {
          "base_uri": "https://localhost:8080/"
        },
        "id": "RFPSx3HBadM6",
        "outputId": "dd146969-0f58-475b-85dd-e1c69a03525b"
      },
      "execution_count": null,
      "outputs": [
        {
          "output_type": "stream",
          "name": "stdout",
          "text": [
            "402\n",
            "80.4\n",
            "홍의\n",
            "97\n",
            "원희\n",
            "60\n"
          ]
        },
        {
          "output_type": "execute_result",
          "data": {
            "text/plain": [
              "{'라면', '볶음밥', '짜장면', '치킨'}"
            ]
          },
          "metadata": {},
          "execution_count": 179
        }
      ]
    },
    {
      "cell_type": "markdown",
      "source": [
        "## !! 오늘 배운 것 정리\n",
        "\n",
        "1. sort\n",
        "    * sorted는 원본을 만지지 않는 'built-in function', 정렬입니다.\n",
        "    * sort는 원본을 만지는 '리스트 메서드', 정렬입니다.\n",
        "    * sort의 다양한 예\n",
        "        ```python\n",
        "        l = [[1, 10, 'leehojun'], \n",
        "            [20, 30, 'hojun'], \n",
        "            [10, 20, 'weniv!'], \n",
        "            [1, 2, 'hello world'], \n",
        "            [55, 11, 'sun']]\n",
        "\n",
        "        # 1. 글자 수 대로 정렬해주세요.\n",
        "        def f(x):\n",
        "            return len(x[2])\n",
        "\n",
        "        print(sorted(l, key=f, reverse=False))\n",
        "        print(sorted(l, key=lambda x:len(x[2]), reverse=False))\n",
        "\n",
        "        # 2. 맨 앞에 위치한 숫자대로 정렬해주세요.\n",
        "        def f2(x):\n",
        "            return x[0]\n",
        "\n",
        "        print(sorted(l))\n",
        "        print(sorted(l, key=f2))\n",
        "        print(sorted(l, key=lambda x:x[0]))\n",
        "\n",
        "        # 3. 중앙에 위치한 값대로 정렬해주세요.\n",
        "\n",
        "        def f3(x):\n",
        "            return x[1]\n",
        "\n",
        "        print(sorted(l))\n",
        "        print(sorted(l, key=f3))\n",
        "        print(sorted(l, key=lambda x:x[1]))\n",
        "\n",
        "        l = [[1, 10, 32], \n",
        "            [20, 30, 11], \n",
        "            [10, 20, 22], \n",
        "            [1, 2, 13], \n",
        "            [55, 11, 44]]\n",
        "            \n",
        "        # 4. 3개의 전체 합이 작은 순서대로 출력해주세요.\n",
        "\n",
        "        def f4(x):\n",
        "            return x[0] + x[1] + x[2]\n",
        "\n",
        "        def f5(x):\n",
        "            return sum(x)\n",
        "\n",
        "        print(sorted(l, key=f4))\n",
        "        print(sorted(l, key=f5))\n",
        "        print(sorted(l, key=lambda x: sum(x)))\n",
        "        print(sorted(l, key=sum))\n",
        "        ```\n",
        "\n",
        "2. 깊은 복사와 얕은 복사\n",
        "    1. 깊은 복사 : 완전히 다른 객체를 만듭니다.(깊은 복사는 n 계층까지 모두 복사)\n",
        "        ```python\n",
        "        # 깊은 복사\n",
        "        import copy\n",
        "\n",
        "        l = [[1, 2, 3], [4, 5, 6]]\n",
        "        ll = copy.deepcopy(l)\n",
        "        ll[0][0] = 10\n",
        "        l, ll\n",
        "        ```\n",
        "    2. 얕은 복사 : 내용물은 같은 다른 객체를 만듭니다.(얕은 복사는 1 계층만 복사)\n",
        "        ```python\n",
        "        # 얕은 복사\n",
        "        l = [[1, 2, 3], [4, 5, 6]]\n",
        "        ll = l[:] # l.copy, sorted를 써도 마찬가지입니다.\n",
        "        l[0][0] = 100\n",
        "        l, ll\n",
        "        ```\n",
        "\n",
        "3. range\n",
        "    ```python\n",
        "    # range(start, stop, step) \n",
        "    # 슬라이싱은 ':'(콜론)으로 연결되어 있고\n",
        "    # range는 ','(콤마)로 연결되어 있습니다.\n",
        "\n",
        "    print(list(range(100))) \n",
        "    # python 2.x에서 python 3.x에 range를 사용하고 싶다면 xrange(10)\n",
        "    print(list(range(5, 10)))\n",
        "\n",
        "    print(list(range(0, 101, 2))) #짝수\n",
        "    print(list(range(1, 101, 2))) #홀수\n",
        "    print(list(range(100, 1, -2)))\n",
        "    print(sum(list(range(0, 101))))\n",
        "    print(sum(range(0, 101))) # 이렇게 형 변환을 하지 않고 sum하시는 것을 권합니다.\n",
        "    ```\n",
        "\n",
        "4. list comprehension\n",
        "    ```python\n",
        "    # l = []\n",
        "    # for i in range(1, 11):\n",
        "    #     l.append(i**i)\n",
        "    # l\n",
        "\n",
        "    l = [i**i for i in range(1, 11)]\n",
        "    l\n",
        "    ```\n",
        "\n",
        "5. tuple\n",
        "    - 튜플은 순서가 있는 시퀀스형 자료형입니다.\n",
        "    - 참조값은 변경이 불가능(immutable) 합니다.\n",
        "        ```python\n",
        "        t = (10, 20, 30)\n",
        "        t[1] = 1000 # error\n",
        "        ```\n",
        "    - 다른 자료형을 입력할 수 있으며, 튜플 안에 튜플로 다차원의 튜플을 만드는 것도 가능합니다.\n",
        "    - 값의 중복을 허락합니다.\n",
        "    - 메서드는 index와 count밖에 없습니다.\n",
        "\n",
        "6. dict (딕셔너리, 사전형)\n",
        "    - 딕셔너리는 순서가 없는 자료형입니다.\n",
        "    - 사전형은 Key와 Value 가 하나의 묶음으로 이루어진 자료 체계입니다.\n",
        "    - 값의 변경이 가능합니다.\n",
        "        ```python\n",
        "        d = {'one' : '하나', 'two' : '둘', 'three' : '셋'}\n",
        "        print(d['one']) # 호출\n",
        "        d['two'] = '투' # 변경\n",
        "        d\n",
        "        ```\n",
        "    - 다른 자료형을 입력할 수 있습니다.\n",
        "    - 키의 중복은 허락하지 않고, 값의 중복을 허락합니다.\n",
        "    - dict를 활용한 switch 만들기\n",
        "        ```python\n",
        "        def switch(day):\n",
        "            return {\n",
        "                1 : '월요일',\n",
        "                2 : '화요일',\n",
        "                3 : '수요일',\n",
        "                4 : '목요일',\n",
        "                5 : '금요일',\n",
        "                6 : '토요일',\n",
        "                7 : '일요일',\n",
        "            }.get(day, '요일을 찾지 못했습니다.')\n",
        "\n",
        "        switch(8) \n",
        "        ```\n",
        "    - max를 이용한 dict 최대 value의 key값 가져오기\n",
        "        ```python\n",
        "        d = {\n",
        "            'test1': 10,\n",
        "            'test2': 20,\n",
        "            'test3': 31,\n",
        "            'test4': 11,\n",
        "        }\n",
        "\n",
        "        # max(d.values()) # 이걸로는 뭔가 찾아내기 힘듭니다.\n",
        "        max(d, key=lambda x: d[x])\n",
        "        max(d, key=d.get) #많이 사용하는 코드입니다.\n",
        "        ```\n",
        "\n",
        "7. 언패킹\n",
        "    * 언패킹 예\n",
        "        ```python\n",
        "        for i, j, k in [[10, 20, [1, 2]], [30, 40, [3, 4]], [50, 60, [5, 6]]]:\n",
        "            print(i, j, k)\n",
        "        ```\n",
        "    * swap 예\n",
        "        ```python\n",
        "        # swap\n",
        "        a = 10\n",
        "        b = 15\n",
        "        a, b = b, a\n",
        "        a, b\n",
        "        ```\n",
        "\n",
        "8. set (셋, 집합)\n",
        "    * 집합 자료형은 중복을 허용하지 않으며\n",
        "    * 순서가 없는 자료형\n",
        "        ```python\n",
        "        n = set([1, 1, 2, 2, 3, 3, 4])\n",
        "        print(n)\n",
        "        ```\n",
        "    * 메서드\n",
        "        - add : 값 추가\n",
        "        - update : 값 여러개 추가\n",
        "        - remove : 제거\n",
        "        - copy : 값 복사\n",
        "        - union : 합집합\n",
        "        - intersection : 교집합\n",
        "        - difference : 차집합\n",
        "        - issubset : 부분집합"
      ],
      "metadata": {
        "id": "PDwTfuHvrWv-"
      }
    },
    {
      "cell_type": "markdown",
      "source": [
        "## (질의응답) max(student_score, key=student_score.get)"
      ],
      "metadata": {
        "id": "F6S18WlXixEy"
      }
    },
    {
      "cell_type": "code",
      "source": [
        "def 함수(x):\n",
        "    print(x, ll[x])\n",
        "    return ll[x]\n",
        "l = [2, 4, 5, 3, 6, 0, 7, 1]\n",
        "ll = [10, 20, 30, 40, 50, 60, 70, 80]\n",
        "\n",
        "max(l, key=함수)"
      ],
      "metadata": {
        "colab": {
          "base_uri": "https://localhost:8080/"
        },
        "id": "4JLEzldcjStO",
        "outputId": "4a874438-68bd-430b-8617-8ecd09e40ee4"
      },
      "execution_count": null,
      "outputs": [
        {
          "output_type": "stream",
          "name": "stdout",
          "text": [
            "2 30\n",
            "4 50\n",
            "5 60\n",
            "3 40\n",
            "6 70\n",
            "0 10\n",
            "7 80\n",
            "1 20\n"
          ]
        },
        {
          "output_type": "execute_result",
          "data": {
            "text/plain": [
              "7"
            ]
          },
          "metadata": {},
          "execution_count": 5
        }
      ]
    },
    {
      "cell_type": "code",
      "source": [
        "def 함수(x):\n",
        "    print(x, ll[x])\n",
        "    return ll[x]\n",
        "\n",
        "l = [2, 4, 5, 3, 6, 0, 7, 1]\n",
        "ll = ['hello', 'a', 'bb', 'ccc', 'a', 'bbbb', 'hello world', 'cc']\n",
        "\n",
        "max(l, key=함수)"
      ],
      "metadata": {
        "colab": {
          "base_uri": "https://localhost:8080/"
        },
        "id": "9_-M5755k3LA",
        "outputId": "d765b3f9-d5ae-4e8a-921b-fdcbdf041199"
      },
      "execution_count": null,
      "outputs": [
        {
          "output_type": "stream",
          "name": "stdout",
          "text": [
            "2 bb\n",
            "4 a\n",
            "5 bbbb\n",
            "3 ccc\n",
            "6 hello world\n",
            "0 hello\n",
            "7 cc\n",
            "1 a\n"
          ]
        },
        {
          "output_type": "execute_result",
          "data": {
            "text/plain": [
              "6"
            ]
          },
          "metadata": {},
          "execution_count": 7
        }
      ]
    },
    {
      "cell_type": "code",
      "source": [
        "def 함수(x):\n",
        "    return d.get(x)\n",
        "\n",
        "d = {\n",
        "      'test1': 10,\n",
        "      'test2': 20,\n",
        "      'test3': 31,\n",
        "      'test4': 11,\n",
        "}\n",
        "\n",
        "# max(d, key=lambda x: d[x])\n",
        "max(d, key=d.get)"
      ],
      "metadata": {
        "colab": {
          "base_uri": "https://localhost:8080/",
          "height": 36
        },
        "id": "UDATb2bNltwf",
        "outputId": "17a02034-b8f0-431a-bf19-7bef60f20a21"
      },
      "execution_count": null,
      "outputs": [
        {
          "output_type": "execute_result",
          "data": {
            "text/plain": [
              "'test3'"
            ],
            "application/vnd.google.colaboratory.intrinsic+json": {
              "type": "string"
            }
          },
          "metadata": {},
          "execution_count": 8
        }
      ]
    },
    {
      "cell_type": "code",
      "source": [
        "# return에 초점을 맞춰주세요.\n",
        "def 함수(x):\n",
        "    return len(x)\n",
        "l = ['a', 'bb', 'ccc', 'dd']\n",
        "\n",
        "max(l, key=함수)\n",
        "max(l, key=len)"
      ],
      "metadata": {
        "colab": {
          "base_uri": "https://localhost:8080/",
          "height": 36
        },
        "id": "28Pj3ltMmju6",
        "outputId": "7e695782-321c-4b29-a609-f179603dc71a"
      },
      "execution_count": null,
      "outputs": [
        {
          "output_type": "execute_result",
          "data": {
            "text/plain": [
              "'ccc'"
            ],
            "application/vnd.google.colaboratory.intrinsic+json": {
              "type": "string"
            }
          },
          "metadata": {},
          "execution_count": 12
        }
      ]
    },
    {
      "cell_type": "code",
      "source": [
        "def 함수(x):\n",
        "    return d.get(x)\n",
        "\n",
        "수학 = {\n",
        "    '학생1': 10,\n",
        "    '학생2': 20,\n",
        "    '학생3': 31,\n",
        "    '학생4': 11,\n",
        "}\n",
        "\n",
        "과학 = {\n",
        "    '학생1': 11,\n",
        "    '학생2': 17,\n",
        "    '학생3': 13,\n",
        "    '학생4': 11,\n",
        "    '학생5': 25,\n",
        "    '학생6': 100,\n",
        "}\n",
        "\n",
        "수학점수가가장큰사람 = max(수학, key=수학.get)\n",
        "과학점수가가장큰사람 = max(과학, key=과학.get)\n",
        "max(수학, key=과학.get)\n",
        "sorted(수학, key = 과학.get) # 깊은 복사가 아니라 얕은 복사임"
      ],
      "metadata": {
        "colab": {
          "base_uri": "https://localhost:8080/"
        },
        "id": "0LPkjWOAnjo2",
        "outputId": "de69ffe3-31f0-4b09-fad7-a1c8e2d0664b"
      },
      "execution_count": null,
      "outputs": [
        {
          "output_type": "execute_result",
          "data": {
            "text/plain": [
              "['학생1', '학생4', '학생3', '학생2']"
            ]
          },
          "metadata": {},
          "execution_count": 14
        }
      ]
    },
    {
      "cell_type": "code",
      "source": [
        "max(student_score, key=student_score.get)"
      ],
      "metadata": {
        "id": "fn2Id6A5jfzU"
      },
      "execution_count": null,
      "outputs": []
    },
    {
      "cell_type": "markdown",
      "source": [
        "## (질의응답) 함수의 아규먼트 순서"
      ],
      "metadata": {
        "id": "GknHYdK1i5B7"
      }
    },
    {
      "cell_type": "code",
      "source": [
        "def f(a, b, c):\n",
        "    print(a, b, c)\n",
        "\n",
        "# f() # error\n",
        "# f(100, 10) # error\n",
        "f(a=100, b=200, c=300)\n",
        "f(c=300, a=100, b=200) #실무에서 이렇게 순서를 바꿔서 넣지 않고 보통 순서를 지켜줍니다.\n",
        "\n",
        "# 실무에서 언제 사용이 될까요?\n",
        "# 파라미터, 아규먼츠가 매우 많을 때\n",
        "# 이런 함수가 나오면 이 함수가 무엇을 뜻하는 것일까요?\n",
        "# addNewControl(\"Title\", 20, 50, 100, 50, 200, 300, 150)\n",
        "# addNewControl(title=\"Title\", height=20, width=50, textlen = 100, ...)\n",
        "# 어? 컨트롤 박스를 만드는 구나..."
      ],
      "metadata": {
        "id": "rCWd-DG9pqBz"
      },
      "execution_count": null,
      "outputs": []
    },
    {
      "cell_type": "code",
      "source": [
        "def f(a=10, b=20, c=30): # 이렇게 하면 디폴트로 들어감\n",
        "    print(a, b, c)\n",
        "\n",
        "f()\n",
        "f(100, 10)\n",
        "f(a=100, b=200, c=300)\n",
        "f(c=300, a=100, b=200)"
      ],
      "metadata": {
        "colab": {
          "base_uri": "https://localhost:8080/"
        },
        "id": "EfTIpbQUrUWc",
        "outputId": "18fa2bba-4120-4bca-cc5c-d41402743c28"
      },
      "execution_count": null,
      "outputs": [
        {
          "output_type": "stream",
          "name": "stdout",
          "text": [
            "10 20 30\n",
            "100 10 30\n",
            "100 200 300\n",
            "100 200 300\n"
          ]
        }
      ]
    },
    {
      "cell_type": "code",
      "source": [
        "def f(a, b=20, c=10): # 순서대로 안주어야 하기 때문에 a에 값을 넣지 않았습니다.\n",
        "    print(a, b, c)\n",
        "\n",
        "# f() # error\n",
        "f(100, 10)\n",
        "f(a=100, b=200, c=300)\n",
        "f(c=300, a=100, b=200)"
      ],
      "metadata": {
        "id": "vTfyhIVPsHAc"
      },
      "execution_count": null,
      "outputs": []
    },
    {
      "cell_type": "markdown",
      "source": [
        "## (질의응답) zip, map 등 한 번 순회가 되면 순회가 안되는 이유"
      ],
      "metadata": {
        "id": "lhmFUQtTiqal"
      }
    },
    {
      "cell_type": "code",
      "source": [
        "a = [1, 2, 3]\n",
        "b = ['a', 'b', 'c']\n",
        "\n",
        "z = zip(a, b)\n",
        "print(list(z)) # [(1, 'a'), (2, 'b'), (3, 'c')]\n",
        "\n",
        "# zip 객체는 한 번 사용되었으므로 빈 리스트가 반환됩니다.\n",
        "print(list(z)) # []"
      ],
      "metadata": {
        "colab": {
          "base_uri": "https://localhost:8080/"
        },
        "id": "EcIoYDZPvPIY",
        "outputId": "8db6ccc1-85a1-457b-9be2-06d777765344"
      },
      "execution_count": null,
      "outputs": [
        {
          "output_type": "stream",
          "name": "stdout",
          "text": [
            "[(1, 'a'), (2, 'b'), (3, 'c')]\n",
            "[]\n"
          ]
        }
      ]
    },
    {
      "cell_type": "code",
      "source": [
        "li = [1, 2, 3]\n",
        "st = ['a', 'b', 'c']\n",
        "z = zip(li, st)\n",
        "\n",
        "for i in z:\n",
        "    print(i)\n",
        "\n",
        "for i in z:\n",
        "    print(i)"
      ],
      "metadata": {
        "colab": {
          "base_uri": "https://localhost:8080/"
        },
        "id": "22zUlLD9v6lH",
        "outputId": "26cb2f84-3acb-4604-ea36-c8026afa364a"
      },
      "execution_count": null,
      "outputs": [
        {
          "output_type": "stream",
          "name": "stdout",
          "text": [
            "(1, 'a')\n",
            "(2, 'b')\n",
            "(3, 'c')\n"
          ]
        }
      ]
    },
    {
      "cell_type": "code",
      "source": [
        "li = [1, 2, 3]\n",
        "st = ['a', 'b', 'c']\n",
        "i = iter(zip(li, st))\n",
        "next(i)\n",
        "next(i)\n",
        "next(i)\n",
        "next(i) # StopIteration"
      ],
      "metadata": {
        "colab": {
          "base_uri": "https://localhost:8080/",
          "height": 205
        },
        "id": "Fzl8w-NEv7K9",
        "outputId": "ff51c681-fe66-4f74-a9bf-a6e7a44273b0"
      },
      "execution_count": null,
      "outputs": [
        {
          "output_type": "error",
          "ename": "StopIteration",
          "evalue": "ignored",
          "traceback": [
            "\u001b[0;31m---------------------------------------------------------------------------\u001b[0m",
            "\u001b[0;31mStopIteration\u001b[0m                             Traceback (most recent call last)",
            "\u001b[0;32m<ipython-input-18-d8e374070028>\u001b[0m in \u001b[0;36m<cell line: 7>\u001b[0;34m()\u001b[0m\n\u001b[1;32m      5\u001b[0m \u001b[0mnext\u001b[0m\u001b[0;34m(\u001b[0m\u001b[0mi\u001b[0m\u001b[0;34m)\u001b[0m\u001b[0;34m\u001b[0m\u001b[0;34m\u001b[0m\u001b[0m\n\u001b[1;32m      6\u001b[0m \u001b[0mnext\u001b[0m\u001b[0;34m(\u001b[0m\u001b[0mi\u001b[0m\u001b[0;34m)\u001b[0m\u001b[0;34m\u001b[0m\u001b[0;34m\u001b[0m\u001b[0m\n\u001b[0;32m----> 7\u001b[0;31m \u001b[0mnext\u001b[0m\u001b[0;34m(\u001b[0m\u001b[0mi\u001b[0m\u001b[0;34m)\u001b[0m \u001b[0;31m# StopIteration\u001b[0m\u001b[0;34m\u001b[0m\u001b[0;34m\u001b[0m\u001b[0m\n\u001b[0m",
            "\u001b[0;31mStopIteration\u001b[0m: "
          ]
        }
      ]
    },
    {
      "cell_type": "code",
      "source": [
        "li = [1, 2, 3]\n",
        "z = map(lambda x:x**2, li)\n",
        "\n",
        "for i in z:\n",
        "    print(i)\n",
        "\n",
        "for i in z:\n",
        "    print(i)"
      ],
      "metadata": {
        "colab": {
          "base_uri": "https://localhost:8080/"
        },
        "id": "gf5lc9dawjdt",
        "outputId": "92e24bad-1899-4570-ca93-9fdaf8e20e56"
      },
      "execution_count": null,
      "outputs": [
        {
          "output_type": "stream",
          "name": "stdout",
          "text": [
            "1\n",
            "4\n",
            "9\n"
          ]
        }
      ]
    },
    {
      "cell_type": "code",
      "source": [
        "li = [1, 2, 3]\n",
        "z = reversed(li)\n",
        "\n",
        "for i in z:\n",
        "    print(i)\n",
        "\n",
        "for i in z:\n",
        "    print(i)"
      ],
      "metadata": {
        "colab": {
          "base_uri": "https://localhost:8080/"
        },
        "id": "3aaMD_t3ws-N",
        "outputId": "921b3e74-1e20-4fbd-fbcb-c2f6dc04c060"
      },
      "execution_count": null,
      "outputs": [
        {
          "output_type": "stream",
          "name": "stdout",
          "text": [
            "3\n",
            "2\n",
            "1\n"
          ]
        }
      ]
    },
    {
      "cell_type": "code",
      "source": [
        "li = [1, 2, 3]\n",
        "z = filter(lambda x:x>1, li)\n",
        "\n",
        "for i in z:\n",
        "    print(i)\n",
        "\n",
        "for i in z:\n",
        "    print(i)"
      ],
      "metadata": {
        "id": "v3O0M_f-wwFY"
      },
      "execution_count": null,
      "outputs": []
    },
    {
      "cell_type": "code",
      "source": [
        "# 계속 순회가 가능하게 설계가 되어 있습니다.\n",
        "# 이런 설계를 뒤에서 우리가 직접 해보게 될 것입니다.\n",
        "li = [1, 2, 3]\n",
        "z = sorted(li)\n",
        "\n",
        "for i in z:\n",
        "    print(i)\n",
        "\n",
        "for i in z:\n",
        "    print(i)"
      ],
      "metadata": {
        "id": "VyTLdsX0wy7Y"
      },
      "execution_count": null,
      "outputs": []
    },
    {
      "cell_type": "markdown",
      "source": [
        "## 조건문 "
      ],
      "metadata": {
        "id": "5Da_g0fdxbeo"
      }
    },
    {
      "cell_type": "markdown",
      "source": [
        "* if, elif, else, continue, break"
      ],
      "metadata": {
        "id": "hS1Tjq1MxffN"
      }
    },
    {
      "cell_type": "code",
      "source": [
        "x = 2\n",
        "if x > 1  and x < 10:\n",
        "\tprint('Hello')"
      ],
      "metadata": {
        "colab": {
          "base_uri": "https://localhost:8080/"
        },
        "id": "f_g0uR9WzF4f",
        "outputId": "dbca1f5f-0d55-43a5-90b8-eb2999f88720"
      },
      "execution_count": null,
      "outputs": [
        {
          "output_type": "stream",
          "name": "stdout",
          "text": [
            "Hello\n"
          ]
        }
      ]
    },
    {
      "cell_type": "code",
      "source": [
        "if True:\n",
        "    print('hello')"
      ],
      "metadata": {
        "colab": {
          "base_uri": "https://localhost:8080/"
        },
        "id": "sjQkidM0zaOK",
        "outputId": "0cf881b5-9f0c-4c23-fed8-fb845f998dcf"
      },
      "execution_count": null,
      "outputs": [
        {
          "output_type": "stream",
          "name": "stdout",
          "text": [
            "hello\n"
          ]
        }
      ]
    },
    {
      "cell_type": "code",
      "source": [
        "if 12309:\n",
        "    print('hello')"
      ],
      "metadata": {
        "colab": {
          "base_uri": "https://localhost:8080/"
        },
        "id": "TKHMdnV0zl8Y",
        "outputId": "8ddc46f0-3078-4544-f33a-8b0ee822120c"
      },
      "execution_count": null,
      "outputs": [
        {
          "output_type": "stream",
          "name": "stdout",
          "text": [
            "hello\n"
          ]
        }
      ]
    },
    {
      "cell_type": "code",
      "source": [
        "def f():\n",
        "    return False # True와 False로 바꿔보세요.\n",
        "\n",
        "if f():\n",
        "    print('hello')\n",
        "    print('one')\n",
        "print('two')"
      ],
      "metadata": {
        "colab": {
          "base_uri": "https://localhost:8080/"
        },
        "id": "G9yLnUkgznvK",
        "outputId": "7c91e988-5ff0-44f3-d218-0f5e41fd68da"
      },
      "execution_count": null,
      "outputs": [
        {
          "output_type": "stream",
          "name": "stdout",
          "text": [
            "two\n"
          ]
        }
      ]
    },
    {
      "cell_type": "code",
      "source": [
        "if '': # [], {}, ''는 모두 False 취급합니다.\n",
        "    print('hello')\n",
        "    print('one')\n",
        "print('two')"
      ],
      "metadata": {
        "colab": {
          "base_uri": "https://localhost:8080/"
        },
        "id": "1d-6DhCK0DPK",
        "outputId": "a7262549-86cc-492b-f535-bfdc6ca4a2af"
      },
      "execution_count": null,
      "outputs": [
        {
          "output_type": "stream",
          "name": "stdout",
          "text": [
            "two\n"
          ]
        }
      ]
    },
    {
      "cell_type": "code",
      "source": [
        "if ' ': # 공백이 있는 것입니다.\n",
        "    print('hello')\n",
        "    print('one')\n",
        "print('two')"
      ],
      "metadata": {
        "colab": {
          "base_uri": "https://localhost:8080/"
        },
        "id": "Vk-IBFnQ0NJL",
        "outputId": "339230ef-9dba-4cf9-d91d-ec1ee287d54c"
      },
      "execution_count": null,
      "outputs": [
        {
          "output_type": "stream",
          "name": "stdout",
          "text": [
            "hello\n",
            "one\n",
            "two\n"
          ]
        }
      ]
    },
    {
      "cell_type": "code",
      "source": [
        "if [            ]: # 안에 아이템 없음\n",
        "    print('hello')\n",
        "    print('one')\n",
        "print('two')"
      ],
      "metadata": {
        "id": "6bQYtJtY0WG3"
      },
      "execution_count": null,
      "outputs": []
    },
    {
      "cell_type": "code",
      "source": [
        "if [,]: # SyntaxError\n",
        "    print('hello')\n",
        "    print('one')\n",
        "print('two')"
      ],
      "metadata": {
        "id": "ZHjV-hqx1Cbv"
      },
      "execution_count": null,
      "outputs": []
    },
    {
      "cell_type": "code",
      "source": [
        "if [10,\n",
        "    20,\n",
        "    30, # 마지막 콤마는 허락합니다! 소괄호, 중괄호, 대괄호에 공백은 병합니다.\n",
        "    ]:\n",
        "    print('hello')\n",
        "    print('one')\n",
        "print('two')"
      ],
      "metadata": {
        "id": "fFsmT8UO1ELl"
      },
      "execution_count": null,
      "outputs": []
    },
    {
      "cell_type": "code",
      "source": [
        "if None:\n",
        "    print('false')"
      ],
      "metadata": {
        "id": "2bij2io32a99"
      },
      "execution_count": null,
      "outputs": []
    },
    {
      "cell_type": "code",
      "source": [
        "class int(int):\n",
        "    def __eq__(self, next):\n",
        "        return True\n",
        "\n",
        "# 10 > 11\n",
        "int('10') == int('11')"
      ],
      "metadata": {
        "id": "MnaAIv3q2Qgw"
      },
      "execution_count": null,
      "outputs": []
    },
    {
      "cell_type": "code",
      "source": [
        "if 10 > 11:\n",
        "    print('one')\n",
        "    print('two')\n",
        "print('three')\n",
        "else: # error\n",
        "    print('four')"
      ],
      "metadata": {
        "colab": {
          "base_uri": "https://localhost:8080/",
          "height": 134
        },
        "id": "d5xyqq2f2ypC",
        "outputId": "4c3bc0fa-555f-4485-b727-6145278e87c7"
      },
      "execution_count": null,
      "outputs": [
        {
          "output_type": "error",
          "ename": "SyntaxError",
          "evalue": "ignored",
          "traceback": [
            "\u001b[0;36m  File \u001b[0;32m\"<ipython-input-31-cd3f7c42046f>\"\u001b[0;36m, line \u001b[0;32m5\u001b[0m\n\u001b[0;31m    else: # error\u001b[0m\n\u001b[0m    ^\u001b[0m\n\u001b[0;31mSyntaxError\u001b[0m\u001b[0;31m:\u001b[0m invalid syntax\n"
          ]
        }
      ]
    },
    {
      "cell_type": "code",
      "source": [
        "if 10 > 11:\n",
        "    print('one')\n",
        "    print('two')\n",
        "else: # error\n",
        "    print('three')"
      ],
      "metadata": {
        "colab": {
          "base_uri": "https://localhost:8080/"
        },
        "id": "6-YodKXv3I9F",
        "outputId": "5f8acf4d-6d73-4a3b-bb12-91ccedb122ca"
      },
      "execution_count": null,
      "outputs": [
        {
          "output_type": "stream",
          "name": "stdout",
          "text": [
            "three\n"
          ]
        }
      ]
    },
    {
      "cell_type": "code",
      "source": [
        "# else가 없어도 되는 경우\n",
        "def f():\n",
        "    if 10>11:\n",
        "        return 'one'\n",
        "    return 'two'\n",
        "\n",
        "print(f())"
      ],
      "metadata": {
        "colab": {
          "base_uri": "https://localhost:8080/"
        },
        "id": "fATtojX53Q-4",
        "outputId": "bb6de037-d424-4e33-e301-6f56218bd2e4"
      },
      "execution_count": null,
      "outputs": [
        {
          "output_type": "stream",
          "name": "stdout",
          "text": [
            "two\n"
          ]
        }
      ]
    },
    {
      "cell_type": "code",
      "source": [
        "# 여러개의 if문을 단축할 수 있는 방법 =>\n",
        "# 가독성이 좋아지는 것을 선택하세요! 정답은 없습니다.\n",
        "# and 구문으로 if를 합칠 수 있습니다.\n",
        "x = 10\n",
        "if x> 5:\n",
        "    if type(x) == int:\n",
        "        print('one')\n",
        "\n",
        "if x > 5 and type(x) == int:\n",
        "    print('one')\n"
      ],
      "metadata": {
        "id": "_MZPzwE-3uFf"
      },
      "execution_count": null,
      "outputs": []
    },
    {
      "cell_type": "code",
      "source": [
        "# 여러개의 if문을 단축할 수 있는 방법 =>\n",
        "# 가독성이 좋아지는 것을 선택하세요! 정답은 없습니다.\n",
        "# and 구문으로 if를 합칠 수 있습니다.\n",
        "x = 10\n",
        "if x> 5:\n",
        "    if type(x) == int:\n",
        "        if x % 2 == 0:\n",
        "            print('one')\n",
        "\n",
        "if x > 5 and type(x) == int and x % 2 == 0:\n",
        "    print('one')\n"
      ],
      "metadata": {
        "id": "L9uuq19P4O4q"
      },
      "execution_count": null,
      "outputs": []
    },
    {
      "cell_type": "code",
      "source": [
        "if True:\n",
        "    print('hello')\n",
        "else:\n",
        "    print('hello')\n",
        "else: # error\n",
        "    print('hello')\n",
        "else:\n",
        "    print('hello')"
      ],
      "metadata": {
        "id": "ANZvqpfZ5STU"
      },
      "execution_count": null,
      "outputs": []
    },
    {
      "cell_type": "code",
      "source": [
        "if True:\n",
        "    print('hello')\n",
        "if True:\n",
        "    print('hello')\n",
        "if True:\n",
        "    print('hello')\n",
        "else:\n",
        "    print('hello')"
      ],
      "metadata": {
        "id": "_aZSnIKk5Y7L"
      },
      "execution_count": null,
      "outputs": []
    },
    {
      "cell_type": "code",
      "source": [
        "if True:\n",
        "    print('hello')\n",
        "elif True:\n",
        "    print('hello')\n",
        "elif True:\n",
        "    print('hello')\n",
        "else:\n",
        "    print('hello')"
      ],
      "metadata": {
        "id": "OjFTieHI5dLr"
      },
      "execution_count": null,
      "outputs": []
    },
    {
      "cell_type": "code",
      "source": [
        "elif True:\n",
        "    print('hello')\n",
        "elif True:\n",
        "    print('hello')\n",
        "else:\n",
        "    print('hello')"
      ],
      "metadata": {
        "id": "jzzzKpGx5hQ0"
      },
      "execution_count": null,
      "outputs": []
    },
    {
      "cell_type": "code",
      "source": [
        "score = 81\n",
        "money = 0\n",
        "\n",
        "if score >= 90: # 만약에 조건이 참이라면\n",
        "    print('mom : i\\'m so happy!')\n",
        "    money += 1000000\n",
        "elif score >= 80: # 그렇지 않고 만약에 조건이 참이라면\n",
        "    print('mom : i\\'m happy!')\n",
        "    money += 100000\n",
        "elif score >= 70: # '그렇지 않고 만약에'에서 '그렇지 않고'가 만족이 안되기 때문에 실행하지 못합니다.\n",
        "    print('mom : i\\'m so...!')\n",
        "    money += 10000\n",
        "elif score >= 60:\n",
        "    print('mom : i\\'m so...!')\n",
        "    money += 1000\n",
        "else:\n",
        "    print('mom : i\\'m...!')\n",
        "print(money)\n",
        "# if, elif, else 구문은 함께 썼다면 한 덩어리가 되어\n",
        "# 하나만 실행이 되고 나머지는 실행이 되지 않습니다."
      ],
      "metadata": {
        "colab": {
          "base_uri": "https://localhost:8080/"
        },
        "id": "O-lajE5FxdHe",
        "outputId": "cc8db1c2-d323-49c4-c028-8a3fac56dd81"
      },
      "execution_count": null,
      "outputs": [
        {
          "output_type": "stream",
          "name": "stdout",
          "text": [
            "mom : i'm happy!\n",
            "100000\n"
          ]
        }
      ]
    },
    {
      "cell_type": "code",
      "source": [
        "# 커맨드 m m 누르면 코드블록이 마크다운 블록으로\n",
        "# 커맨드 m y 누르면 마크다운이 코드블록으로"
      ],
      "metadata": {
        "id": "qpTolaZt6D--"
      },
      "execution_count": null,
      "outputs": []
    },
    {
      "cell_type": "markdown",
      "source": [
        "## if 심화 "
      ],
      "metadata": {
        "id": "IE5qC3qt516f"
      }
    },
    {
      "cell_type": "code",
      "source": [
        "# 저는 개인적으로 해당 무법이 가독성을 떨어트린다고 생각해\n",
        "# 권장하진 않습니다.\n",
        "if 10 > 5: print('hello') # 1줄에 사용하는 것이 가능합니다."
      ],
      "metadata": {
        "colab": {
          "base_uri": "https://localhost:8080/"
        },
        "id": "ts8YEtDp1AKj",
        "outputId": "46593f5c-2324-4063-addc-8262c47189be"
      },
      "execution_count": null,
      "outputs": [
        {
          "output_type": "stream",
          "name": "stdout",
          "text": [
            "hello\n"
          ]
        }
      ]
    },
    {
      "cell_type": "code",
      "source": [
        "if 10 > 5: print('hello')\n",
        "elif 1 > 6: print('world')\n",
        "else: print('hello world')"
      ],
      "metadata": {
        "id": "SP_JApNC8xc4"
      },
      "execution_count": null,
      "outputs": []
    },
    {
      "cell_type": "code",
      "source": [
        "# 3항 연산자는 가독성을 해치지 않는 선에서 많이 사용합니다.\n",
        "print('one') if 5 > 1 else print('two')"
      ],
      "metadata": {
        "colab": {
          "base_uri": "https://localhost:8080/"
        },
        "id": "YZaPztZ06Oxw",
        "outputId": "1532e312-4244-442f-a59b-4415bb20706e"
      },
      "execution_count": null,
      "outputs": [
        {
          "output_type": "stream",
          "name": "stdout",
          "text": [
            "one\n"
          ]
        }
      ]
    },
    {
      "cell_type": "code",
      "source": [
        "(print('one') if 5 > 1 else print('two'))"
      ],
      "metadata": {
        "id": "C7rBBtU69ewo"
      },
      "execution_count": null,
      "outputs": []
    },
    {
      "cell_type": "code",
      "source": [
        "# error 이렇게 사용하지 않습니다!\n",
        "if 5 > 1 print('one') else print('two')"
      ],
      "metadata": {
        "id": "suvv0-vk9-zx"
      },
      "execution_count": null,
      "outputs": []
    },
    {
      "cell_type": "code",
      "source": [
        "if 5>1:\n",
        "    print('one')\n",
        "else:\n",
        "    print('two')"
      ],
      "metadata": {
        "id": "IWxN34Mm-Dx5"
      },
      "execution_count": null,
      "outputs": []
    },
    {
      "cell_type": "code",
      "source": [
        "# 할당이나 return에서 많이 사용합니다\n",
        "# 할당이나 return을 할 때 어떤 조건을 달고 싶을 때\n",
        "# 그런데 일반 if문과 else문 거창하다고 생각이 되었을 때\n",
        "y = 100\n",
        "x = 'one' if y > 80 else None"
      ],
      "metadata": {
        "id": "qc_kTp0E-HZ_"
      },
      "execution_count": null,
      "outputs": []
    },
    {
      "cell_type": "code",
      "source": [
        "x"
      ],
      "metadata": {
        "colab": {
          "base_uri": "https://localhost:8080/",
          "height": 36
        },
        "id": "zII2xa-1-Wvq",
        "outputId": "a2038eb5-8059-415f-9fef-8899ac748679"
      },
      "execution_count": null,
      "outputs": [
        {
          "output_type": "execute_result",
          "data": {
            "text/plain": [
              "'one'"
            ],
            "application/vnd.google.colaboratory.intrinsic+json": {
              "type": "string"
            }
          },
          "metadata": {},
          "execution_count": 43
        }
      ]
    },
    {
      "cell_type": "code",
      "source": [
        "def f(y):\n",
        "    if y > 80:\n",
        "        x = 'one'\n",
        "    else:\n",
        "        x = None\n",
        "    return x \n",
        "\n",
        "print(f(100))\n",
        "print(f(30))"
      ],
      "metadata": {
        "colab": {
          "base_uri": "https://localhost:8080/",
          "height": 36
        },
        "id": "Qvdg9Jjc-xEl",
        "outputId": "d1a0b215-bc92-44f8-b68e-dd2eafbb02b8"
      },
      "execution_count": null,
      "outputs": [
        {
          "output_type": "execute_result",
          "data": {
            "text/plain": [
              "'one'"
            ],
            "application/vnd.google.colaboratory.intrinsic+json": {
              "type": "string"
            }
          },
          "metadata": {},
          "execution_count": 45
        }
      ]
    },
    {
      "cell_type": "code",
      "source": [
        "def f(y):\n",
        "    return 'one' if y > 80 else None\n",
        "\n",
        "print(f(100))\n",
        "print(f(30))"
      ],
      "metadata": {
        "colab": {
          "base_uri": "https://localhost:8080/"
        },
        "id": "RQCiOjvw_K7b",
        "outputId": "f98e8219-6879-4513-d43c-77c4067d7b3b"
      },
      "execution_count": null,
      "outputs": [
        {
          "output_type": "stream",
          "name": "stdout",
          "text": [
            "one\n",
            "None\n"
          ]
        }
      ]
    },
    {
      "cell_type": "code",
      "source": [
        "# 이해를 위해 만든 예제이지 효율적이진 않습니다.\n",
        "def custom_sum(x):\n",
        "    return sum(x) if len(list(filter(lambda x : type(x) == int, l))) == len(x) else float('inf')\n",
        "\n",
        "\n",
        "custom_sum([1,2,3,4,5,6]) # 다 더한 값 21\n",
        "custom_sum([1,2,3,4,'5',6]) # float('inf')"
      ],
      "metadata": {
        "colab": {
          "base_uri": "https://localhost:8080/"
        },
        "id": "SN-L54I0_yK-",
        "outputId": "7498b58a-4b6a-4476-de63-2bf56c41d0c0"
      },
      "execution_count": null,
      "outputs": [
        {
          "output_type": "execute_result",
          "data": {
            "text/plain": [
              "inf"
            ]
          },
          "metadata": {},
          "execution_count": 6
        }
      ]
    },
    {
      "cell_type": "code",
      "source": [
        "l = [1,2,3,'4', '5']\n",
        "list(filter(lambda x : type(x) == int, l))\n",
        "len(list(filter(lambda x : type(x) == int, l)))\n",
        "len(l)"
      ],
      "metadata": {
        "colab": {
          "base_uri": "https://localhost:8080/"
        },
        "id": "FPVXDXkdBTK9",
        "outputId": "69073448-9f3e-44d2-9a20-39c5893bafd0"
      },
      "execution_count": null,
      "outputs": [
        {
          "output_type": "execute_result",
          "data": {
            "text/plain": [
              "5"
            ]
          },
          "metadata": {},
          "execution_count": 7
        }
      ]
    },
    {
      "cell_type": "code",
      "source": [
        "# 문제 : 다음 if 문을 3항 연산자로 표현해주세요.\n",
        "if x % 2 == 0:\n",
        "    홀짝여부 = '짝수'\n",
        "else:\n",
        "    홀짝여부 = '홀수'\n",
        "\n",
        "x = 10\n",
        "홀짝여부 = '짝수' if x % 2 == 0 else '홀수'"
      ],
      "metadata": {
        "colab": {
          "base_uri": "https://localhost:8080/",
          "height": 241
        },
        "id": "6zg0iivnCeh-",
        "outputId": "e2e75dd1-7c9d-46fb-e59f-d89b4ff1e70a"
      },
      "execution_count": null,
      "outputs": [
        {
          "output_type": "error",
          "ename": "NameError",
          "evalue": "ignored",
          "traceback": [
            "\u001b[0;31m---------------------------------------------------------------------------\u001b[0m",
            "\u001b[0;31mNameError\u001b[0m                                 Traceback (most recent call last)",
            "\u001b[0;32m<ipython-input-8-e0fc8d3ecd4f>\u001b[0m in \u001b[0;36m<cell line: 2>\u001b[0;34m()\u001b[0m\n\u001b[1;32m      1\u001b[0m \u001b[0;31m# 문제 : 다음 if 문을 3항 연산자로 표현해주세요.\u001b[0m\u001b[0;34m\u001b[0m\u001b[0;34m\u001b[0m\u001b[0m\n\u001b[0;32m----> 2\u001b[0;31m \u001b[0;32mif\u001b[0m \u001b[0mx\u001b[0m \u001b[0;34m%\u001b[0m \u001b[0;36m2\u001b[0m \u001b[0;34m==\u001b[0m \u001b[0;36m0\u001b[0m\u001b[0;34m:\u001b[0m\u001b[0;34m\u001b[0m\u001b[0;34m\u001b[0m\u001b[0m\n\u001b[0m\u001b[1;32m      3\u001b[0m     \u001b[0m홀짝여부\u001b[0m \u001b[0;34m=\u001b[0m \u001b[0;34m'짝수'\u001b[0m\u001b[0;34m\u001b[0m\u001b[0;34m\u001b[0m\u001b[0m\n\u001b[1;32m      4\u001b[0m \u001b[0;32melse\u001b[0m\u001b[0;34m:\u001b[0m\u001b[0;34m\u001b[0m\u001b[0;34m\u001b[0m\u001b[0m\n\u001b[1;32m      5\u001b[0m     \u001b[0m홀짝여부\u001b[0m \u001b[0;34m=\u001b[0m \u001b[0;34m'홀수'\u001b[0m\u001b[0;34m\u001b[0m\u001b[0;34m\u001b[0m\u001b[0m\n",
            "\u001b[0;31mNameError\u001b[0m: name 'x' is not defined"
          ]
        }
      ]
    },
    {
      "cell_type": "code",
      "source": [
        "# 지금하는 것은 위보다 빈도가 적습니다.\n",
        "# 3항 연산자의 중첩\n",
        "# '조건1이 True일 때' if '조건1' else '조건1일 False이고 조건2가 True일 때' if '조건2' else '조건1, 조건2가 False일 때'"
      ],
      "metadata": {
        "id": "LhCzt6u1DwQ6"
      },
      "execution_count": null,
      "outputs": []
    },
    {
      "cell_type": "code",
      "source": [
        "'조건1이 True일 때' \n",
        "if '조건1' \n",
        "else '조건1일 False이고 조건2가 True일 때' \n",
        "    if '조건2' \n",
        "    else '조건1, 조건2가 False일 때'"
      ],
      "metadata": {
        "colab": {
          "base_uri": "https://localhost:8080/",
          "height": 134
        },
        "id": "tW_SbZpFESo3",
        "outputId": "89554125-9f60-481c-ed01-3df6d555dfe7"
      },
      "execution_count": null,
      "outputs": [
        {
          "output_type": "error",
          "ename": "SyntaxError",
          "evalue": "ignored",
          "traceback": [
            "\u001b[0;36m  File \u001b[0;32m\"<ipython-input-10-0e45a09eb8a5>\"\u001b[0;36m, line \u001b[0;32m2\u001b[0m\n\u001b[0;31m    if '조건1'\u001b[0m\n\u001b[0m             ^\u001b[0m\n\u001b[0;31mSyntaxError\u001b[0m\u001b[0;31m:\u001b[0m expected ':'\n"
          ]
        }
      ]
    },
    {
      "cell_type": "code",
      "source": [
        "x = 15\n",
        "if x % 2 == 0:\n",
        "    배수 = '2X' # 2의 배수\n",
        "elif x % 3 == 0:\n",
        "    배수 = '3X' # 3의 배수\n",
        "else:\n",
        "    배수 = '?' # 2의 배수도 아니고 3의 배수도 아니다 "
      ],
      "metadata": {
        "id": "K-XVpYRNExp7"
      },
      "execution_count": null,
      "outputs": []
    },
    {
      "cell_type": "code",
      "source": [
        "x = 15\n",
        "배수 = '2X' if x% 2 == 0 else '3X' if x% 3 == 0 else '?'\n",
        "배수"
      ],
      "metadata": {
        "colab": {
          "base_uri": "https://localhost:8080/",
          "height": 36
        },
        "id": "tSuZMpMJFU57",
        "outputId": "444b0956-91af-49df-c90b-5bfc0d30fc33"
      },
      "execution_count": null,
      "outputs": [
        {
          "output_type": "execute_result",
          "data": {
            "text/plain": [
              "'3X'"
            ],
            "application/vnd.google.colaboratory.intrinsic+json": {
              "type": "string"
            }
          },
          "metadata": {},
          "execution_count": 13
        }
      ]
    },
    {
      "cell_type": "markdown",
      "source": [
        "## 반복문 "
      ],
      "metadata": {
        "id": "gTdo3nXSF1m-"
      }
    },
    {
      "cell_type": "code",
      "source": [
        "# for 변수 in 순회가능한객체:\n",
        "#     code"
      ],
      "metadata": {
        "id": "WnoDy1XrF3nD"
      },
      "execution_count": null,
      "outputs": []
    },
    {
      "cell_type": "code",
      "source": [
        "# 순회가능한객체 != 시퀀스형자료형 #순서가 없어도 순회가 가능하기 때문에 "
      ],
      "metadata": {
        "id": "Nh9vHUYCGbRY"
      },
      "execution_count": null,
      "outputs": []
    },
    {
      "cell_type": "code",
      "source": [
        "for i in 'hello world':\n",
        "    print(i)"
      ],
      "metadata": {
        "colab": {
          "base_uri": "https://localhost:8080/"
        },
        "id": "KIueaeMcGokP",
        "outputId": "d5e40aea-4bf9-4e8b-d28d-3003ce9ce2da"
      },
      "execution_count": null,
      "outputs": [
        {
          "output_type": "stream",
          "name": "stdout",
          "text": [
            "h\n",
            "e\n",
            "l\n",
            "l\n",
            "o\n",
            " \n",
            "w\n",
            "o\n",
            "r\n",
            "l\n",
            "d\n"
          ]
        }
      ]
    },
    {
      "cell_type": "code",
      "source": [
        "for i in 10:\n",
        "    print(i)"
      ],
      "metadata": {
        "colab": {
          "base_uri": "https://localhost:8080/",
          "height": 188
        },
        "id": "lTsaeG3mG33t",
        "outputId": "389874d3-6494-491a-9080-857211e0e14c"
      },
      "execution_count": null,
      "outputs": [
        {
          "output_type": "error",
          "ename": "TypeError",
          "evalue": "ignored",
          "traceback": [
            "\u001b[0;31m---------------------------------------------------------------------------\u001b[0m",
            "\u001b[0;31mTypeError\u001b[0m                                 Traceback (most recent call last)",
            "\u001b[0;32m<ipython-input-17-665a8c31cf25>\u001b[0m in \u001b[0;36m<cell line: 1>\u001b[0;34m()\u001b[0m\n\u001b[0;32m----> 1\u001b[0;31m \u001b[0;32mfor\u001b[0m \u001b[0mi\u001b[0m \u001b[0;32min\u001b[0m \u001b[0;36m10\u001b[0m\u001b[0;34m:\u001b[0m\u001b[0;34m\u001b[0m\u001b[0;34m\u001b[0m\u001b[0m\n\u001b[0m\u001b[1;32m      2\u001b[0m     \u001b[0mprint\u001b[0m\u001b[0;34m(\u001b[0m\u001b[0mi\u001b[0m\u001b[0;34m)\u001b[0m\u001b[0;34m\u001b[0m\u001b[0;34m\u001b[0m\u001b[0m\n",
            "\u001b[0;31mTypeError\u001b[0m: 'int' object is not iterable"
          ]
        }
      ]
    },
    {
      "cell_type": "code",
      "source": [
        "for i in 10.1:\n",
        "    print(i)"
      ],
      "metadata": {
        "colab": {
          "base_uri": "https://localhost:8080/",
          "height": 188
        },
        "id": "P2HQ-RWYG6N0",
        "outputId": "98e56d6f-63ea-4547-8b6e-5cff620bab6c"
      },
      "execution_count": null,
      "outputs": [
        {
          "output_type": "error",
          "ename": "TypeError",
          "evalue": "ignored",
          "traceback": [
            "\u001b[0;31m---------------------------------------------------------------------------\u001b[0m",
            "\u001b[0;31mTypeError\u001b[0m                                 Traceback (most recent call last)",
            "\u001b[0;32m<ipython-input-18-94fc5e4f6047>\u001b[0m in \u001b[0;36m<cell line: 1>\u001b[0;34m()\u001b[0m\n\u001b[0;32m----> 1\u001b[0;31m \u001b[0;32mfor\u001b[0m \u001b[0mi\u001b[0m \u001b[0;32min\u001b[0m \u001b[0;36m10.1\u001b[0m\u001b[0;34m:\u001b[0m\u001b[0;34m\u001b[0m\u001b[0;34m\u001b[0m\u001b[0m\n\u001b[0m\u001b[1;32m      2\u001b[0m     \u001b[0mprint\u001b[0m\u001b[0;34m(\u001b[0m\u001b[0mi\u001b[0m\u001b[0;34m)\u001b[0m\u001b[0;34m\u001b[0m\u001b[0;34m\u001b[0m\u001b[0m\n",
            "\u001b[0;31mTypeError\u001b[0m: 'float' object is not iterable"
          ]
        }
      ]
    },
    {
      "cell_type": "code",
      "source": [
        "for i in [1, 2, 3]:\n",
        "    print(i)"
      ],
      "metadata": {
        "colab": {
          "base_uri": "https://localhost:8080/"
        },
        "id": "VrP-b2eEG7tu",
        "outputId": "53a00c48-037b-4b73-a146-2977913d3ad7"
      },
      "execution_count": null,
      "outputs": [
        {
          "output_type": "stream",
          "name": "stdout",
          "text": [
            "1\n",
            "2\n",
            "3\n"
          ]
        }
      ]
    },
    {
      "cell_type": "code",
      "source": [
        "for i in (1, 2, 3):\n",
        "    print(i)"
      ],
      "metadata": {
        "colab": {
          "base_uri": "https://localhost:8080/"
        },
        "id": "9h_zIR6HG9pf",
        "outputId": "ec94a3b0-7b29-4bca-8b3e-a42eda629d7b"
      },
      "execution_count": null,
      "outputs": [
        {
          "output_type": "stream",
          "name": "stdout",
          "text": [
            "1\n",
            "2\n",
            "3\n"
          ]
        }
      ]
    },
    {
      "cell_type": "code",
      "source": [
        "for i in {1, 2, 3}:\n",
        "    print(i)"
      ],
      "metadata": {
        "colab": {
          "base_uri": "https://localhost:8080/"
        },
        "id": "lX0iJ_UvHBKt",
        "outputId": "31db0e7c-c452-402c-8123-bd0999005f87"
      },
      "execution_count": null,
      "outputs": [
        {
          "output_type": "stream",
          "name": "stdout",
          "text": [
            "1\n",
            "2\n",
            "3\n"
          ]
        }
      ]
    },
    {
      "cell_type": "code",
      "source": [
        "for i in {'one':1, 'two': 2, 'tree': 3}:\n",
        "    print(i)"
      ],
      "metadata": {
        "colab": {
          "base_uri": "https://localhost:8080/"
        },
        "id": "WIysPK38HEF4",
        "outputId": "b68c092e-3f49-4c4b-85ff-ad61d737fe7c"
      },
      "execution_count": null,
      "outputs": [
        {
          "output_type": "stream",
          "name": "stdout",
          "text": [
            "one\n",
            "two\n",
            "tree\n"
          ]
        }
      ]
    },
    {
      "cell_type": "code",
      "source": [
        "# 변수에는 range, enumerate, zip, map, sorted, reversed\n",
        "for i in range(10):\n",
        "    print(i)"
      ],
      "metadata": {
        "colab": {
          "base_uri": "https://localhost:8080/"
        },
        "id": "oLnt0MqJHNDd",
        "outputId": "796cc398-d82e-4490-a9da-82206ae163f4"
      },
      "execution_count": null,
      "outputs": [
        {
          "output_type": "stream",
          "name": "stdout",
          "text": [
            "0\n",
            "1\n",
            "2\n",
            "3\n",
            "4\n",
            "5\n",
            "6\n",
            "7\n",
            "8\n",
            "9\n"
          ]
        }
      ]
    },
    {
      "cell_type": "code",
      "source": [
        "언어순위 = ['python', 'javascript', 'java', 'ruby']\n",
        "for i in 언어순위:\n",
        "    print(i)"
      ],
      "metadata": {
        "colab": {
          "base_uri": "https://localhost:8080/"
        },
        "id": "znLcFw4AHgYi",
        "outputId": "3e85c35d-c695-4b48-8f41-6c371732225a"
      },
      "execution_count": null,
      "outputs": [
        {
          "output_type": "stream",
          "name": "stdout",
          "text": [
            "python\n",
            "javascript\n",
            "java\n",
            "ruby\n"
          ]
        }
      ]
    },
    {
      "cell_type": "code",
      "source": [
        "언어순위 = ['python', 'javascript', 'java', 'ruby']\n",
        "for i in enumerate(언어순위):\n",
        "    print(i)"
      ],
      "metadata": {
        "colab": {
          "base_uri": "https://localhost:8080/"
        },
        "id": "iQJBDzTsHwga",
        "outputId": "91e2b8b3-d69c-4326-dc8a-f3f278d2501f"
      },
      "execution_count": null,
      "outputs": [
        {
          "output_type": "stream",
          "name": "stdout",
          "text": [
            "(0, 'python')\n",
            "(1, 'javascript')\n",
            "(2, 'java')\n",
            "(3, 'ruby')\n"
          ]
        }
      ]
    },
    {
      "cell_type": "code",
      "source": [
        "언어순위 = ['python', 'javascript', 'java', 'ruby']\n",
        "for i in enumerate(언어순위, 1):\n",
        "    print(i)"
      ],
      "metadata": {
        "colab": {
          "base_uri": "https://localhost:8080/"
        },
        "id": "bAkZ5vKMH7fs",
        "outputId": "af1a2a99-8c7e-454e-a5df-b08e64eb73e1"
      },
      "execution_count": null,
      "outputs": [
        {
          "output_type": "stream",
          "name": "stdout",
          "text": [
            "(1, 'python')\n",
            "(2, 'javascript')\n",
            "(3, 'java')\n",
            "(4, 'ruby')\n"
          ]
        }
      ]
    },
    {
      "cell_type": "code",
      "source": [
        "언어순위 = ['python', 'javascript', 'java', 'ruby']\n",
        "for i, j in enumerate(언어순위, 101):\n",
        "    print(i, j)"
      ],
      "metadata": {
        "id": "ylrxT_QXIDrF",
        "outputId": "4ef7820f-0085-4f40-e785-24c48593d148",
        "colab": {
          "base_uri": "https://localhost:8080/"
        }
      },
      "execution_count": null,
      "outputs": [
        {
          "output_type": "stream",
          "name": "stdout",
          "text": [
            "101 python\n",
            "102 javascript\n",
            "103 java\n",
            "104 ruby\n"
          ]
        }
      ]
    },
    {
      "cell_type": "markdown",
      "source": [
        "## !! 오늘 배운 것 정리\n",
        "* 조건문\n",
        "    * 조건에 따라 코드를 분기할 수 있는 구문\n",
        "    * if, elif, else\n",
        "    * elif와 else는 단독으로 사용이 되지 않습니다.\n",
        "    * 예시(score에 값을 변경해보면서 money 값을 확인해주세요.)\n",
        "    ```python\n",
        "    score = 81\n",
        "    money = 0\n",
        "\n",
        "    if score >= 90: # 만약에 조건이 참이라면\n",
        "        print('mom : i\\'m so happy!')\n",
        "        money += 1000000\n",
        "    elif score >= 80: # 그렇지 않고 만약에 조건이 참이라면\n",
        "        print('mom : i\\'m happy!')\n",
        "        money += 100000\n",
        "    elif score >= 70: # '그렇지 않고 만약에'에서 '그렇지 않고'가 만족이 안되기 때문에 실행하지 못합니다.\n",
        "        print('mom : i\\'m so...!')\n",
        "        money += 10000\n",
        "    elif score >= 60:\n",
        "        print('mom : i\\'m so...!')\n",
        "        money += 1000\n",
        "    else:\n",
        "        print('mom : i\\'m...!')\n",
        "    print(money)\n",
        "    ```\n",
        "    * 3항 연산자\n",
        "    ```python\n",
        "    def f(y):\n",
        "    return 'one' if y > 80 else None\n",
        "    ```\n",
        "* 정해진 순서를(next) 반복하는 것\n",
        "    * 형태\n",
        "    ```python\n",
        "    # for 변수 in 순회가능한객체:\n",
        "    #     code\n",
        "    ```\n",
        "    * 순회 가능한 객체(이터러블 객체) : 문자열, 리스트, 튜플, 딕셔너리, 셋, range, enumerate, map, set, sorted, reverse 등\n",
        "    * 순회 불가능한 객체 : int, float 등 \n",
        "    * code 안에서 변수를 사용하지 않을 경우 언더바를 관습적으로 사용합니다.\n",
        "    ```python\n",
        "    # for _ in 순회가능한객체:\n",
        "    #     code\n",
        "    ```\n"
      ],
      "metadata": {
        "id": "73ylUVfBSxSF"
      }
    },
    {
      "cell_type": "markdown",
      "source": [
        "## args, kargs"
      ],
      "metadata": {
        "id": "1zrqocCsiiVi"
      }
    },
    {
      "cell_type": "markdown",
      "source": [
        "## lambda"
      ],
      "metadata": {
        "id": "YaJwRVY8BEpy"
      }
    },
    {
      "cell_type": "markdown",
      "source": [
        "## 데코레이터"
      ],
      "metadata": {
        "id": "R8Kw5L6-34mF"
      }
    },
    {
      "cell_type": "markdown",
      "source": [
        "## 클로저, 팩토리 함수"
      ],
      "metadata": {
        "id": "L-4gRsjg36NF"
      }
    },
    {
      "cell_type": "markdown",
      "source": [
        "## 제너레이터와 이터레이터"
      ],
      "metadata": {
        "id": "WQdnQKxRXIk8"
      }
    }
  ]
}